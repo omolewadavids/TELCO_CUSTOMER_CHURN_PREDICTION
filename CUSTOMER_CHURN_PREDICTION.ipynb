{
 "cells": [
  {
   "cell_type": "markdown",
   "metadata": {},
   "source": [
    "<div class=\"alert alert-block alert-info\">\n",
    "    \n",
    "# <font color=red>TELCO CUSTOMER CHURN PREDICTION</font>\n",
    "\n",
    "### USING LOGISTIC REGRESSION ANALYSIS"
   ]
  },
  {
   "cell_type": "markdown",
   "metadata": {},
   "source": [
    "### Table of Contents\n",
    "\n",
    "* [Import Libraries](#section_1)\n",
    "* [Load the Dataset into Dataframe](#section_2)\n",
    "* [Scrubbing the Data](#section_3)\n",
    "* [Performing Feature Selection](#section_4)\n",
    "* [Model Building](#section_5)\n",
    "* [PreProcessing the Dataset](#section_6)\n",
    "* [Fine-Tunning the Model](#section_7)\n",
    "* [Build the Model](#section_5)\n",
    "* [Evaluating the Model](#section_6)"
   ]
  },
  {
   "cell_type": "markdown",
   "metadata": {},
   "source": [
    "<div class=\"alert alert-block alert-info\">\n",
    "   \n",
    "## SECTION 1: IMPORT THE LIBRARIES\n",
    "\n",
    "<a id=\"section_1\"></a>"
   ]
  },
  {
   "cell_type": "code",
   "execution_count": 11,
   "metadata": {},
   "outputs": [
    {
     "data": {
      "text/html": [
       "        <script type=\"text/javascript\">\n",
       "        window.PlotlyConfig = {MathJaxConfig: 'local'};\n",
       "        if (window.MathJax) {MathJax.Hub.Config({SVG: {font: \"STIX-Web\"}});}\n",
       "        if (typeof require !== 'undefined') {\n",
       "        require.undef(\"plotly\");\n",
       "        requirejs.config({\n",
       "            paths: {\n",
       "                'plotly': ['https://cdn.plot.ly/plotly-latest.min']\n",
       "            }\n",
       "        });\n",
       "        require(['plotly'], function(Plotly) {\n",
       "            window._Plotly = Plotly;\n",
       "        });\n",
       "        }\n",
       "        </script>\n",
       "        "
      ]
     },
     "metadata": {},
     "output_type": "display_data"
    }
   ],
   "source": [
    "import pandas as pd\n",
    "import numpy as np\n",
    "from sklearn.model_selection import train_test_split\n",
    "from sklearn import linear_model\n",
    "import matplotlib.pyplot as plt\n",
    "import seaborn as sns\n",
    "import warnings\n",
    "warnings.filterwarnings('ignore')\n",
    "import io\n",
    "import plotly.offline as py#visualization\n",
    "py.init_notebook_mode(connected=True)#visualization\n",
    "import plotly.graph_objs as go#visualization\n",
    "import plotly.tools as tls#visualization\n",
    "import plotly.figure_factory as ff#visualization"
   ]
  },
  {
   "cell_type": "markdown",
   "metadata": {},
   "source": [
    "<div class=\"alert alert-block alert-info\">\n",
    "   \n",
    "## SECTION 2: Load The DataSet to DataFrame\n",
    "\n",
    "<a id=\"section_2\"></a>"
   ]
  },
  {
   "cell_type": "markdown",
   "metadata": {},
   "source": [
    "#### Read the Data to Pandas DataFrame named Data"
   ]
  },
  {
   "cell_type": "code",
   "execution_count": 96,
   "metadata": {},
   "outputs": [],
   "source": [
    "data = pd.read_csv('Telco_Customer_Churn.csv')"
   ]
  },
  {
   "cell_type": "code",
   "execution_count": 97,
   "metadata": {},
   "outputs": [
    {
     "data": {
      "text/html": [
       "<div>\n",
       "<style scoped>\n",
       "    .dataframe tbody tr th:only-of-type {\n",
       "        vertical-align: middle;\n",
       "    }\n",
       "\n",
       "    .dataframe tbody tr th {\n",
       "        vertical-align: top;\n",
       "    }\n",
       "\n",
       "    .dataframe thead th {\n",
       "        text-align: right;\n",
       "    }\n",
       "</style>\n",
       "<table border=\"1\" class=\"dataframe\">\n",
       "  <thead>\n",
       "    <tr style=\"text-align: right;\">\n",
       "      <th></th>\n",
       "      <th>customerID</th>\n",
       "      <th>gender</th>\n",
       "      <th>SeniorCitizen</th>\n",
       "      <th>Partner</th>\n",
       "      <th>Dependents</th>\n",
       "      <th>tenure</th>\n",
       "      <th>PhoneService</th>\n",
       "      <th>MultipleLines</th>\n",
       "      <th>InternetService</th>\n",
       "      <th>OnlineSecurity</th>\n",
       "      <th>...</th>\n",
       "      <th>DeviceProtection</th>\n",
       "      <th>TechSupport</th>\n",
       "      <th>StreamingTV</th>\n",
       "      <th>StreamingMovies</th>\n",
       "      <th>Contract</th>\n",
       "      <th>PaperlessBilling</th>\n",
       "      <th>PaymentMethod</th>\n",
       "      <th>MonthlyCharges</th>\n",
       "      <th>TotalCharges</th>\n",
       "      <th>Churn</th>\n",
       "    </tr>\n",
       "  </thead>\n",
       "  <tbody>\n",
       "    <tr>\n",
       "      <td>0</td>\n",
       "      <td>7590-VHVEG</td>\n",
       "      <td>Female</td>\n",
       "      <td>0</td>\n",
       "      <td>Yes</td>\n",
       "      <td>No</td>\n",
       "      <td>1</td>\n",
       "      <td>No</td>\n",
       "      <td>No phone service</td>\n",
       "      <td>DSL</td>\n",
       "      <td>No</td>\n",
       "      <td>...</td>\n",
       "      <td>No</td>\n",
       "      <td>No</td>\n",
       "      <td>No</td>\n",
       "      <td>No</td>\n",
       "      <td>Month-to-month</td>\n",
       "      <td>Yes</td>\n",
       "      <td>Electronic check</td>\n",
       "      <td>29.85</td>\n",
       "      <td>29.85</td>\n",
       "      <td>No</td>\n",
       "    </tr>\n",
       "    <tr>\n",
       "      <td>1</td>\n",
       "      <td>5575-GNVDE</td>\n",
       "      <td>Male</td>\n",
       "      <td>0</td>\n",
       "      <td>No</td>\n",
       "      <td>No</td>\n",
       "      <td>34</td>\n",
       "      <td>Yes</td>\n",
       "      <td>No</td>\n",
       "      <td>DSL</td>\n",
       "      <td>Yes</td>\n",
       "      <td>...</td>\n",
       "      <td>Yes</td>\n",
       "      <td>No</td>\n",
       "      <td>No</td>\n",
       "      <td>No</td>\n",
       "      <td>One year</td>\n",
       "      <td>No</td>\n",
       "      <td>Mailed check</td>\n",
       "      <td>56.95</td>\n",
       "      <td>1889.5</td>\n",
       "      <td>No</td>\n",
       "    </tr>\n",
       "    <tr>\n",
       "      <td>2</td>\n",
       "      <td>3668-QPYBK</td>\n",
       "      <td>Male</td>\n",
       "      <td>0</td>\n",
       "      <td>No</td>\n",
       "      <td>No</td>\n",
       "      <td>2</td>\n",
       "      <td>Yes</td>\n",
       "      <td>No</td>\n",
       "      <td>DSL</td>\n",
       "      <td>Yes</td>\n",
       "      <td>...</td>\n",
       "      <td>No</td>\n",
       "      <td>No</td>\n",
       "      <td>No</td>\n",
       "      <td>No</td>\n",
       "      <td>Month-to-month</td>\n",
       "      <td>Yes</td>\n",
       "      <td>Mailed check</td>\n",
       "      <td>53.85</td>\n",
       "      <td>108.15</td>\n",
       "      <td>Yes</td>\n",
       "    </tr>\n",
       "    <tr>\n",
       "      <td>3</td>\n",
       "      <td>7795-CFOCW</td>\n",
       "      <td>Male</td>\n",
       "      <td>0</td>\n",
       "      <td>No</td>\n",
       "      <td>No</td>\n",
       "      <td>45</td>\n",
       "      <td>No</td>\n",
       "      <td>No phone service</td>\n",
       "      <td>DSL</td>\n",
       "      <td>Yes</td>\n",
       "      <td>...</td>\n",
       "      <td>Yes</td>\n",
       "      <td>Yes</td>\n",
       "      <td>No</td>\n",
       "      <td>No</td>\n",
       "      <td>One year</td>\n",
       "      <td>No</td>\n",
       "      <td>Bank transfer (automatic)</td>\n",
       "      <td>42.30</td>\n",
       "      <td>1840.75</td>\n",
       "      <td>No</td>\n",
       "    </tr>\n",
       "    <tr>\n",
       "      <td>4</td>\n",
       "      <td>9237-HQITU</td>\n",
       "      <td>Female</td>\n",
       "      <td>0</td>\n",
       "      <td>No</td>\n",
       "      <td>No</td>\n",
       "      <td>2</td>\n",
       "      <td>Yes</td>\n",
       "      <td>No</td>\n",
       "      <td>Fiber optic</td>\n",
       "      <td>No</td>\n",
       "      <td>...</td>\n",
       "      <td>No</td>\n",
       "      <td>No</td>\n",
       "      <td>No</td>\n",
       "      <td>No</td>\n",
       "      <td>Month-to-month</td>\n",
       "      <td>Yes</td>\n",
       "      <td>Electronic check</td>\n",
       "      <td>70.70</td>\n",
       "      <td>151.65</td>\n",
       "      <td>Yes</td>\n",
       "    </tr>\n",
       "  </tbody>\n",
       "</table>\n",
       "<p>5 rows × 21 columns</p>\n",
       "</div>"
      ],
      "text/plain": [
       "   customerID  gender  SeniorCitizen Partner Dependents  tenure PhoneService  \\\n",
       "0  7590-VHVEG  Female              0     Yes         No       1           No   \n",
       "1  5575-GNVDE    Male              0      No         No      34          Yes   \n",
       "2  3668-QPYBK    Male              0      No         No       2          Yes   \n",
       "3  7795-CFOCW    Male              0      No         No      45           No   \n",
       "4  9237-HQITU  Female              0      No         No       2          Yes   \n",
       "\n",
       "      MultipleLines InternetService OnlineSecurity  ... DeviceProtection  \\\n",
       "0  No phone service             DSL             No  ...               No   \n",
       "1                No             DSL            Yes  ...              Yes   \n",
       "2                No             DSL            Yes  ...               No   \n",
       "3  No phone service             DSL            Yes  ...              Yes   \n",
       "4                No     Fiber optic             No  ...               No   \n",
       "\n",
       "  TechSupport StreamingTV StreamingMovies        Contract PaperlessBilling  \\\n",
       "0          No          No              No  Month-to-month              Yes   \n",
       "1          No          No              No        One year               No   \n",
       "2          No          No              No  Month-to-month              Yes   \n",
       "3         Yes          No              No        One year               No   \n",
       "4          No          No              No  Month-to-month              Yes   \n",
       "\n",
       "               PaymentMethod MonthlyCharges  TotalCharges Churn  \n",
       "0           Electronic check          29.85         29.85    No  \n",
       "1               Mailed check          56.95        1889.5    No  \n",
       "2               Mailed check          53.85        108.15   Yes  \n",
       "3  Bank transfer (automatic)          42.30       1840.75    No  \n",
       "4           Electronic check          70.70        151.65   Yes  \n",
       "\n",
       "[5 rows x 21 columns]"
      ]
     },
     "execution_count": 97,
     "metadata": {},
     "output_type": "execute_result"
    }
   ],
   "source": [
    "# Read first few rows\n",
    "data.head()"
   ]
  },
  {
   "cell_type": "code",
   "execution_count": 98,
   "metadata": {},
   "outputs": [
    {
     "name": "stdout",
     "output_type": "stream",
     "text": [
      "Rows     :  7043\n",
      "Columns  :  21\n",
      "\n",
      "Features : \n",
      " ['customerID', 'gender', 'SeniorCitizen', 'Partner', 'Dependents', 'tenure', 'PhoneService', 'MultipleLines', 'InternetService', 'OnlineSecurity', 'OnlineBackup', 'DeviceProtection', 'TechSupport', 'StreamingTV', 'StreamingMovies', 'Contract', 'PaperlessBilling', 'PaymentMethod', 'MonthlyCharges', 'TotalCharges', 'Churn']\n",
      "\n",
      "Missing values :   0\n",
      "\n",
      "Unique values :  \n",
      " customerID          7043\n",
      "gender                 2\n",
      "SeniorCitizen          2\n",
      "Partner                2\n",
      "Dependents             2\n",
      "tenure                73\n",
      "PhoneService           2\n",
      "MultipleLines          3\n",
      "InternetService        3\n",
      "OnlineSecurity         3\n",
      "OnlineBackup           3\n",
      "DeviceProtection       3\n",
      "TechSupport            3\n",
      "StreamingTV            3\n",
      "StreamingMovies        3\n",
      "Contract               3\n",
      "PaperlessBilling       2\n",
      "PaymentMethod          4\n",
      "MonthlyCharges      1585\n",
      "TotalCharges        6531\n",
      "Churn                  2\n",
      "dtype: int64\n"
     ]
    }
   ],
   "source": [
    "print (\"Rows     : \" ,data.shape[0])\n",
    "print (\"Columns  : \" ,data.shape[1])\n",
    "print (\"\\nFeatures : \\n\" ,data.columns.tolist())\n",
    "print (\"\\nMissing values :  \", data.isnull().sum().values.sum())\n",
    "print (\"\\nUnique values :  \\n\",data.nunique())"
   ]
  },
  {
   "cell_type": "code",
   "execution_count": 99,
   "metadata": {},
   "outputs": [],
   "source": [
    "#Data Manipulation\n",
    "\n",
    "#Replacing spaces with null values in total charges column\n",
    "data['TotalCharges'] = data[\"TotalCharges\"].replace(\" \",np.nan)\n",
    "\n",
    "#Dropping null values from total charges column which contain .15% missing data \n",
    "data = data[data[\"TotalCharges\"].notnull()]\n",
    "data = data.reset_index()[data.columns]\n",
    "\n",
    "#convert to float type\n",
    "data[\"TotalCharges\"] = data[\"TotalCharges\"].astype(float)\n",
    "\n",
    "#replace 'No internet service' to No for the following columns\n",
    "replace_cols = [ 'OnlineSecurity', 'OnlineBackup', 'DeviceProtection',\n",
    "                'TechSupport','StreamingTV', 'StreamingMovies']\n",
    "for i in replace_cols : \n",
    "    data[i]  = data[i].replace({'No internet service' : 'No'})\n",
    "    \n",
    "#replace values\n",
    "data[\"SeniorCitizen\"] = data[\"SeniorCitizen\"].replace({1:\"Yes\",0:\"No\"})\n",
    "\n",
    "#Tenure to categorical column\n",
    "def tenure_lab(data) :\n",
    "    \n",
    "    if data[\"tenure\"] <= 12 :\n",
    "        return \"Tenure_0-12\"\n",
    "    elif (data[\"tenure\"] > 12) & (data[\"tenure\"] <= 24 ):\n",
    "        return \"Tenure_12-24\"\n",
    "    elif (data[\"tenure\"] > 24) & (data[\"tenure\"] <= 48) :\n",
    "        return \"Tenure_24-48\"\n",
    "    elif (data[\"tenure\"] > 48) & (data[\"tenure\"] <= 60) :\n",
    "        return \"Tenure_48-60\"\n",
    "    elif data[\"tenure\"] > 60 :\n",
    "        return \"Tenure_gt_60\"\n",
    "data[\"tenure_group\"] = data.apply(lambda data:tenure_lab(data),\n",
    "                                      axis = 1)\n",
    "\n",
    "#Separating churn and non churn customers\n",
    "churn     = data[data[\"Churn\"] == \"Yes\"]\n",
    "not_churn = data[data[\"Churn\"] == \"No\"]\n",
    "\n",
    "#Separating catagorical and numerical columns\n",
    "Id_col     = ['customerID']\n",
    "target_col = [\"Churn\"]\n",
    "cat_cols   = data.nunique()[data.nunique() < 6].keys().tolist()\n",
    "cat_cols   = [x for x in cat_cols if x not in target_col]\n",
    "num_cols   = [x for x in data.columns if x not in cat_cols + target_col + Id_col]"
   ]
  },
  {
   "cell_type": "code",
   "execution_count": 100,
   "metadata": {},
   "outputs": [
    {
     "data": {
      "text/html": [
       "<div>\n",
       "<style scoped>\n",
       "    .dataframe tbody tr th:only-of-type {\n",
       "        vertical-align: middle;\n",
       "    }\n",
       "\n",
       "    .dataframe tbody tr th {\n",
       "        vertical-align: top;\n",
       "    }\n",
       "\n",
       "    .dataframe thead th {\n",
       "        text-align: right;\n",
       "    }\n",
       "</style>\n",
       "<table border=\"1\" class=\"dataframe\">\n",
       "  <thead>\n",
       "    <tr style=\"text-align: right;\">\n",
       "      <th></th>\n",
       "      <th>customerID</th>\n",
       "      <th>gender</th>\n",
       "      <th>SeniorCitizen</th>\n",
       "      <th>Partner</th>\n",
       "      <th>Dependents</th>\n",
       "      <th>tenure</th>\n",
       "      <th>PhoneService</th>\n",
       "      <th>MultipleLines</th>\n",
       "      <th>InternetService</th>\n",
       "      <th>OnlineSecurity</th>\n",
       "      <th>...</th>\n",
       "      <th>TechSupport</th>\n",
       "      <th>StreamingTV</th>\n",
       "      <th>StreamingMovies</th>\n",
       "      <th>Contract</th>\n",
       "      <th>PaperlessBilling</th>\n",
       "      <th>PaymentMethod</th>\n",
       "      <th>MonthlyCharges</th>\n",
       "      <th>TotalCharges</th>\n",
       "      <th>Churn</th>\n",
       "      <th>tenure_group</th>\n",
       "    </tr>\n",
       "  </thead>\n",
       "  <tbody>\n",
       "    <tr>\n",
       "      <td>0</td>\n",
       "      <td>7590-VHVEG</td>\n",
       "      <td>Female</td>\n",
       "      <td>No</td>\n",
       "      <td>Yes</td>\n",
       "      <td>No</td>\n",
       "      <td>1</td>\n",
       "      <td>No</td>\n",
       "      <td>No phone service</td>\n",
       "      <td>DSL</td>\n",
       "      <td>No</td>\n",
       "      <td>...</td>\n",
       "      <td>No</td>\n",
       "      <td>No</td>\n",
       "      <td>No</td>\n",
       "      <td>Month-to-month</td>\n",
       "      <td>Yes</td>\n",
       "      <td>Electronic check</td>\n",
       "      <td>29.85</td>\n",
       "      <td>29.85</td>\n",
       "      <td>No</td>\n",
       "      <td>Tenure_0-12</td>\n",
       "    </tr>\n",
       "    <tr>\n",
       "      <td>1</td>\n",
       "      <td>5575-GNVDE</td>\n",
       "      <td>Male</td>\n",
       "      <td>No</td>\n",
       "      <td>No</td>\n",
       "      <td>No</td>\n",
       "      <td>34</td>\n",
       "      <td>Yes</td>\n",
       "      <td>No</td>\n",
       "      <td>DSL</td>\n",
       "      <td>Yes</td>\n",
       "      <td>...</td>\n",
       "      <td>No</td>\n",
       "      <td>No</td>\n",
       "      <td>No</td>\n",
       "      <td>One year</td>\n",
       "      <td>No</td>\n",
       "      <td>Mailed check</td>\n",
       "      <td>56.95</td>\n",
       "      <td>1889.50</td>\n",
       "      <td>No</td>\n",
       "      <td>Tenure_24-48</td>\n",
       "    </tr>\n",
       "    <tr>\n",
       "      <td>2</td>\n",
       "      <td>3668-QPYBK</td>\n",
       "      <td>Male</td>\n",
       "      <td>No</td>\n",
       "      <td>No</td>\n",
       "      <td>No</td>\n",
       "      <td>2</td>\n",
       "      <td>Yes</td>\n",
       "      <td>No</td>\n",
       "      <td>DSL</td>\n",
       "      <td>Yes</td>\n",
       "      <td>...</td>\n",
       "      <td>No</td>\n",
       "      <td>No</td>\n",
       "      <td>No</td>\n",
       "      <td>Month-to-month</td>\n",
       "      <td>Yes</td>\n",
       "      <td>Mailed check</td>\n",
       "      <td>53.85</td>\n",
       "      <td>108.15</td>\n",
       "      <td>Yes</td>\n",
       "      <td>Tenure_0-12</td>\n",
       "    </tr>\n",
       "    <tr>\n",
       "      <td>3</td>\n",
       "      <td>7795-CFOCW</td>\n",
       "      <td>Male</td>\n",
       "      <td>No</td>\n",
       "      <td>No</td>\n",
       "      <td>No</td>\n",
       "      <td>45</td>\n",
       "      <td>No</td>\n",
       "      <td>No phone service</td>\n",
       "      <td>DSL</td>\n",
       "      <td>Yes</td>\n",
       "      <td>...</td>\n",
       "      <td>Yes</td>\n",
       "      <td>No</td>\n",
       "      <td>No</td>\n",
       "      <td>One year</td>\n",
       "      <td>No</td>\n",
       "      <td>Bank transfer (automatic)</td>\n",
       "      <td>42.30</td>\n",
       "      <td>1840.75</td>\n",
       "      <td>No</td>\n",
       "      <td>Tenure_24-48</td>\n",
       "    </tr>\n",
       "    <tr>\n",
       "      <td>4</td>\n",
       "      <td>9237-HQITU</td>\n",
       "      <td>Female</td>\n",
       "      <td>No</td>\n",
       "      <td>No</td>\n",
       "      <td>No</td>\n",
       "      <td>2</td>\n",
       "      <td>Yes</td>\n",
       "      <td>No</td>\n",
       "      <td>Fiber optic</td>\n",
       "      <td>No</td>\n",
       "      <td>...</td>\n",
       "      <td>No</td>\n",
       "      <td>No</td>\n",
       "      <td>No</td>\n",
       "      <td>Month-to-month</td>\n",
       "      <td>Yes</td>\n",
       "      <td>Electronic check</td>\n",
       "      <td>70.70</td>\n",
       "      <td>151.65</td>\n",
       "      <td>Yes</td>\n",
       "      <td>Tenure_0-12</td>\n",
       "    </tr>\n",
       "    <tr>\n",
       "      <td>...</td>\n",
       "      <td>...</td>\n",
       "      <td>...</td>\n",
       "      <td>...</td>\n",
       "      <td>...</td>\n",
       "      <td>...</td>\n",
       "      <td>...</td>\n",
       "      <td>...</td>\n",
       "      <td>...</td>\n",
       "      <td>...</td>\n",
       "      <td>...</td>\n",
       "      <td>...</td>\n",
       "      <td>...</td>\n",
       "      <td>...</td>\n",
       "      <td>...</td>\n",
       "      <td>...</td>\n",
       "      <td>...</td>\n",
       "      <td>...</td>\n",
       "      <td>...</td>\n",
       "      <td>...</td>\n",
       "      <td>...</td>\n",
       "      <td>...</td>\n",
       "    </tr>\n",
       "    <tr>\n",
       "      <td>7027</td>\n",
       "      <td>6840-RESVB</td>\n",
       "      <td>Male</td>\n",
       "      <td>No</td>\n",
       "      <td>Yes</td>\n",
       "      <td>Yes</td>\n",
       "      <td>24</td>\n",
       "      <td>Yes</td>\n",
       "      <td>Yes</td>\n",
       "      <td>DSL</td>\n",
       "      <td>Yes</td>\n",
       "      <td>...</td>\n",
       "      <td>Yes</td>\n",
       "      <td>Yes</td>\n",
       "      <td>Yes</td>\n",
       "      <td>One year</td>\n",
       "      <td>Yes</td>\n",
       "      <td>Mailed check</td>\n",
       "      <td>84.80</td>\n",
       "      <td>1990.50</td>\n",
       "      <td>No</td>\n",
       "      <td>Tenure_12-24</td>\n",
       "    </tr>\n",
       "    <tr>\n",
       "      <td>7028</td>\n",
       "      <td>2234-XADUH</td>\n",
       "      <td>Female</td>\n",
       "      <td>No</td>\n",
       "      <td>Yes</td>\n",
       "      <td>Yes</td>\n",
       "      <td>72</td>\n",
       "      <td>Yes</td>\n",
       "      <td>Yes</td>\n",
       "      <td>Fiber optic</td>\n",
       "      <td>No</td>\n",
       "      <td>...</td>\n",
       "      <td>No</td>\n",
       "      <td>Yes</td>\n",
       "      <td>Yes</td>\n",
       "      <td>One year</td>\n",
       "      <td>Yes</td>\n",
       "      <td>Credit card (automatic)</td>\n",
       "      <td>103.20</td>\n",
       "      <td>7362.90</td>\n",
       "      <td>No</td>\n",
       "      <td>Tenure_gt_60</td>\n",
       "    </tr>\n",
       "    <tr>\n",
       "      <td>7029</td>\n",
       "      <td>4801-JZAZL</td>\n",
       "      <td>Female</td>\n",
       "      <td>No</td>\n",
       "      <td>Yes</td>\n",
       "      <td>Yes</td>\n",
       "      <td>11</td>\n",
       "      <td>No</td>\n",
       "      <td>No phone service</td>\n",
       "      <td>DSL</td>\n",
       "      <td>Yes</td>\n",
       "      <td>...</td>\n",
       "      <td>No</td>\n",
       "      <td>No</td>\n",
       "      <td>No</td>\n",
       "      <td>Month-to-month</td>\n",
       "      <td>Yes</td>\n",
       "      <td>Electronic check</td>\n",
       "      <td>29.60</td>\n",
       "      <td>346.45</td>\n",
       "      <td>No</td>\n",
       "      <td>Tenure_0-12</td>\n",
       "    </tr>\n",
       "    <tr>\n",
       "      <td>7030</td>\n",
       "      <td>8361-LTMKD</td>\n",
       "      <td>Male</td>\n",
       "      <td>Yes</td>\n",
       "      <td>Yes</td>\n",
       "      <td>No</td>\n",
       "      <td>4</td>\n",
       "      <td>Yes</td>\n",
       "      <td>Yes</td>\n",
       "      <td>Fiber optic</td>\n",
       "      <td>No</td>\n",
       "      <td>...</td>\n",
       "      <td>No</td>\n",
       "      <td>No</td>\n",
       "      <td>No</td>\n",
       "      <td>Month-to-month</td>\n",
       "      <td>Yes</td>\n",
       "      <td>Mailed check</td>\n",
       "      <td>74.40</td>\n",
       "      <td>306.60</td>\n",
       "      <td>Yes</td>\n",
       "      <td>Tenure_0-12</td>\n",
       "    </tr>\n",
       "    <tr>\n",
       "      <td>7031</td>\n",
       "      <td>3186-AJIEK</td>\n",
       "      <td>Male</td>\n",
       "      <td>No</td>\n",
       "      <td>No</td>\n",
       "      <td>No</td>\n",
       "      <td>66</td>\n",
       "      <td>Yes</td>\n",
       "      <td>No</td>\n",
       "      <td>Fiber optic</td>\n",
       "      <td>Yes</td>\n",
       "      <td>...</td>\n",
       "      <td>Yes</td>\n",
       "      <td>Yes</td>\n",
       "      <td>Yes</td>\n",
       "      <td>Two year</td>\n",
       "      <td>Yes</td>\n",
       "      <td>Bank transfer (automatic)</td>\n",
       "      <td>105.65</td>\n",
       "      <td>6844.50</td>\n",
       "      <td>No</td>\n",
       "      <td>Tenure_gt_60</td>\n",
       "    </tr>\n",
       "  </tbody>\n",
       "</table>\n",
       "<p>7032 rows × 22 columns</p>\n",
       "</div>"
      ],
      "text/plain": [
       "      customerID  gender SeniorCitizen Partner Dependents  tenure  \\\n",
       "0     7590-VHVEG  Female            No     Yes         No       1   \n",
       "1     5575-GNVDE    Male            No      No         No      34   \n",
       "2     3668-QPYBK    Male            No      No         No       2   \n",
       "3     7795-CFOCW    Male            No      No         No      45   \n",
       "4     9237-HQITU  Female            No      No         No       2   \n",
       "...          ...     ...           ...     ...        ...     ...   \n",
       "7027  6840-RESVB    Male            No     Yes        Yes      24   \n",
       "7028  2234-XADUH  Female            No     Yes        Yes      72   \n",
       "7029  4801-JZAZL  Female            No     Yes        Yes      11   \n",
       "7030  8361-LTMKD    Male           Yes     Yes         No       4   \n",
       "7031  3186-AJIEK    Male            No      No         No      66   \n",
       "\n",
       "     PhoneService     MultipleLines InternetService OnlineSecurity  ...  \\\n",
       "0              No  No phone service             DSL             No  ...   \n",
       "1             Yes                No             DSL            Yes  ...   \n",
       "2             Yes                No             DSL            Yes  ...   \n",
       "3              No  No phone service             DSL            Yes  ...   \n",
       "4             Yes                No     Fiber optic             No  ...   \n",
       "...           ...               ...             ...            ...  ...   \n",
       "7027          Yes               Yes             DSL            Yes  ...   \n",
       "7028          Yes               Yes     Fiber optic             No  ...   \n",
       "7029           No  No phone service             DSL            Yes  ...   \n",
       "7030          Yes               Yes     Fiber optic             No  ...   \n",
       "7031          Yes                No     Fiber optic            Yes  ...   \n",
       "\n",
       "     TechSupport StreamingTV StreamingMovies        Contract PaperlessBilling  \\\n",
       "0             No          No              No  Month-to-month              Yes   \n",
       "1             No          No              No        One year               No   \n",
       "2             No          No              No  Month-to-month              Yes   \n",
       "3            Yes          No              No        One year               No   \n",
       "4             No          No              No  Month-to-month              Yes   \n",
       "...          ...         ...             ...             ...              ...   \n",
       "7027         Yes         Yes             Yes        One year              Yes   \n",
       "7028          No         Yes             Yes        One year              Yes   \n",
       "7029          No          No              No  Month-to-month              Yes   \n",
       "7030          No          No              No  Month-to-month              Yes   \n",
       "7031         Yes         Yes             Yes        Two year              Yes   \n",
       "\n",
       "                  PaymentMethod MonthlyCharges TotalCharges  Churn  \\\n",
       "0              Electronic check          29.85        29.85     No   \n",
       "1                  Mailed check          56.95      1889.50     No   \n",
       "2                  Mailed check          53.85       108.15    Yes   \n",
       "3     Bank transfer (automatic)          42.30      1840.75     No   \n",
       "4              Electronic check          70.70       151.65    Yes   \n",
       "...                         ...            ...          ...    ...   \n",
       "7027               Mailed check          84.80      1990.50     No   \n",
       "7028    Credit card (automatic)         103.20      7362.90     No   \n",
       "7029           Electronic check          29.60       346.45     No   \n",
       "7030               Mailed check          74.40       306.60    Yes   \n",
       "7031  Bank transfer (automatic)         105.65      6844.50     No   \n",
       "\n",
       "      tenure_group  \n",
       "0      Tenure_0-12  \n",
       "1     Tenure_24-48  \n",
       "2      Tenure_0-12  \n",
       "3     Tenure_24-48  \n",
       "4      Tenure_0-12  \n",
       "...            ...  \n",
       "7027  Tenure_12-24  \n",
       "7028  Tenure_gt_60  \n",
       "7029   Tenure_0-12  \n",
       "7030   Tenure_0-12  \n",
       "7031  Tenure_gt_60  \n",
       "\n",
       "[7032 rows x 22 columns]"
      ]
     },
     "execution_count": 100,
     "metadata": {},
     "output_type": "execute_result"
    }
   ],
   "source": [
    "data"
   ]
  },
  {
   "cell_type": "code",
   "execution_count": 101,
   "metadata": {},
   "outputs": [
    {
     "data": {
      "text/html": [
       "\n",
       "        <iframe\n",
       "            width=\"100%\"\n",
       "            height=\"500\"\n",
       "            src=\"pivottablejs.html\"\n",
       "            frameborder=\"0\"\n",
       "            allowfullscreen\n",
       "        ></iframe>\n",
       "        "
      ],
      "text/plain": [
       "<IPython.lib.display.IFrame at 0x1e6479a4548>"
      ]
     },
     "execution_count": 101,
     "metadata": {},
     "output_type": "execute_result"
    }
   ],
   "source": [
    "from pivottablejs import pivot_ui\n",
    "pivot_ui(data)"
   ]
  },
  {
   "cell_type": "code",
   "execution_count": 102,
   "metadata": {},
   "outputs": [
    {
     "data": {
      "application/vnd.plotly.v1+json": {
       "config": {
        "linkText": "Export to plot.ly",
        "plotlyServerURL": "https://plot.ly",
        "showLink": false
       },
       "data": [
        {
         "marker": {
          "line": {
           "color": "black",
           "width": 0.5
          }
         },
         "name": "Churn Customers",
         "opacity": 0.9,
         "type": "bar",
         "x": [
          "Tenure_0-12",
          "Tenure_24-48",
          "Tenure_12-24",
          "Tenure_48-60",
          "Tenure_gt_60"
         ],
         "y": [
          1037,
          325,
          294,
          120,
          93
         ]
        },
        {
         "marker": {
          "line": {
           "color": "black",
           "width": 0.5
          }
         },
         "name": "Non Churn Customers",
         "opacity": 0.9,
         "type": "bar",
         "x": [
          "Tenure_gt_60",
          "Tenure_24-48",
          "Tenure_0-12",
          "Tenure_12-24",
          "Tenure_48-60"
         ],
         "y": [
          1314,
          1269,
          1138,
          730,
          712
         ]
        }
       ],
       "layout": {
        "paper_bgcolor": "rgb(243,243,243)",
        "plot_bgcolor": "rgb(243,243,243)",
        "template": {
         "data": {
          "bar": [
           {
            "error_x": {
             "color": "#2a3f5f"
            },
            "error_y": {
             "color": "#2a3f5f"
            },
            "marker": {
             "line": {
              "color": "#E5ECF6",
              "width": 0.5
             }
            },
            "type": "bar"
           }
          ],
          "barpolar": [
           {
            "marker": {
             "line": {
              "color": "#E5ECF6",
              "width": 0.5
             }
            },
            "type": "barpolar"
           }
          ],
          "carpet": [
           {
            "aaxis": {
             "endlinecolor": "#2a3f5f",
             "gridcolor": "white",
             "linecolor": "white",
             "minorgridcolor": "white",
             "startlinecolor": "#2a3f5f"
            },
            "baxis": {
             "endlinecolor": "#2a3f5f",
             "gridcolor": "white",
             "linecolor": "white",
             "minorgridcolor": "white",
             "startlinecolor": "#2a3f5f"
            },
            "type": "carpet"
           }
          ],
          "choropleth": [
           {
            "colorbar": {
             "outlinewidth": 0,
             "ticks": ""
            },
            "type": "choropleth"
           }
          ],
          "contour": [
           {
            "colorbar": {
             "outlinewidth": 0,
             "ticks": ""
            },
            "colorscale": [
             [
              0,
              "#0d0887"
             ],
             [
              0.1111111111111111,
              "#46039f"
             ],
             [
              0.2222222222222222,
              "#7201a8"
             ],
             [
              0.3333333333333333,
              "#9c179e"
             ],
             [
              0.4444444444444444,
              "#bd3786"
             ],
             [
              0.5555555555555556,
              "#d8576b"
             ],
             [
              0.6666666666666666,
              "#ed7953"
             ],
             [
              0.7777777777777778,
              "#fb9f3a"
             ],
             [
              0.8888888888888888,
              "#fdca26"
             ],
             [
              1,
              "#f0f921"
             ]
            ],
            "type": "contour"
           }
          ],
          "contourcarpet": [
           {
            "colorbar": {
             "outlinewidth": 0,
             "ticks": ""
            },
            "type": "contourcarpet"
           }
          ],
          "heatmap": [
           {
            "colorbar": {
             "outlinewidth": 0,
             "ticks": ""
            },
            "colorscale": [
             [
              0,
              "#0d0887"
             ],
             [
              0.1111111111111111,
              "#46039f"
             ],
             [
              0.2222222222222222,
              "#7201a8"
             ],
             [
              0.3333333333333333,
              "#9c179e"
             ],
             [
              0.4444444444444444,
              "#bd3786"
             ],
             [
              0.5555555555555556,
              "#d8576b"
             ],
             [
              0.6666666666666666,
              "#ed7953"
             ],
             [
              0.7777777777777778,
              "#fb9f3a"
             ],
             [
              0.8888888888888888,
              "#fdca26"
             ],
             [
              1,
              "#f0f921"
             ]
            ],
            "type": "heatmap"
           }
          ],
          "heatmapgl": [
           {
            "colorbar": {
             "outlinewidth": 0,
             "ticks": ""
            },
            "colorscale": [
             [
              0,
              "#0d0887"
             ],
             [
              0.1111111111111111,
              "#46039f"
             ],
             [
              0.2222222222222222,
              "#7201a8"
             ],
             [
              0.3333333333333333,
              "#9c179e"
             ],
             [
              0.4444444444444444,
              "#bd3786"
             ],
             [
              0.5555555555555556,
              "#d8576b"
             ],
             [
              0.6666666666666666,
              "#ed7953"
             ],
             [
              0.7777777777777778,
              "#fb9f3a"
             ],
             [
              0.8888888888888888,
              "#fdca26"
             ],
             [
              1,
              "#f0f921"
             ]
            ],
            "type": "heatmapgl"
           }
          ],
          "histogram": [
           {
            "marker": {
             "colorbar": {
              "outlinewidth": 0,
              "ticks": ""
             }
            },
            "type": "histogram"
           }
          ],
          "histogram2d": [
           {
            "colorbar": {
             "outlinewidth": 0,
             "ticks": ""
            },
            "colorscale": [
             [
              0,
              "#0d0887"
             ],
             [
              0.1111111111111111,
              "#46039f"
             ],
             [
              0.2222222222222222,
              "#7201a8"
             ],
             [
              0.3333333333333333,
              "#9c179e"
             ],
             [
              0.4444444444444444,
              "#bd3786"
             ],
             [
              0.5555555555555556,
              "#d8576b"
             ],
             [
              0.6666666666666666,
              "#ed7953"
             ],
             [
              0.7777777777777778,
              "#fb9f3a"
             ],
             [
              0.8888888888888888,
              "#fdca26"
             ],
             [
              1,
              "#f0f921"
             ]
            ],
            "type": "histogram2d"
           }
          ],
          "histogram2dcontour": [
           {
            "colorbar": {
             "outlinewidth": 0,
             "ticks": ""
            },
            "colorscale": [
             [
              0,
              "#0d0887"
             ],
             [
              0.1111111111111111,
              "#46039f"
             ],
             [
              0.2222222222222222,
              "#7201a8"
             ],
             [
              0.3333333333333333,
              "#9c179e"
             ],
             [
              0.4444444444444444,
              "#bd3786"
             ],
             [
              0.5555555555555556,
              "#d8576b"
             ],
             [
              0.6666666666666666,
              "#ed7953"
             ],
             [
              0.7777777777777778,
              "#fb9f3a"
             ],
             [
              0.8888888888888888,
              "#fdca26"
             ],
             [
              1,
              "#f0f921"
             ]
            ],
            "type": "histogram2dcontour"
           }
          ],
          "mesh3d": [
           {
            "colorbar": {
             "outlinewidth": 0,
             "ticks": ""
            },
            "type": "mesh3d"
           }
          ],
          "parcoords": [
           {
            "line": {
             "colorbar": {
              "outlinewidth": 0,
              "ticks": ""
             }
            },
            "type": "parcoords"
           }
          ],
          "pie": [
           {
            "automargin": true,
            "type": "pie"
           }
          ],
          "scatter": [
           {
            "marker": {
             "colorbar": {
              "outlinewidth": 0,
              "ticks": ""
             }
            },
            "type": "scatter"
           }
          ],
          "scatter3d": [
           {
            "line": {
             "colorbar": {
              "outlinewidth": 0,
              "ticks": ""
             }
            },
            "marker": {
             "colorbar": {
              "outlinewidth": 0,
              "ticks": ""
             }
            },
            "type": "scatter3d"
           }
          ],
          "scattercarpet": [
           {
            "marker": {
             "colorbar": {
              "outlinewidth": 0,
              "ticks": ""
             }
            },
            "type": "scattercarpet"
           }
          ],
          "scattergeo": [
           {
            "marker": {
             "colorbar": {
              "outlinewidth": 0,
              "ticks": ""
             }
            },
            "type": "scattergeo"
           }
          ],
          "scattergl": [
           {
            "marker": {
             "colorbar": {
              "outlinewidth": 0,
              "ticks": ""
             }
            },
            "type": "scattergl"
           }
          ],
          "scattermapbox": [
           {
            "marker": {
             "colorbar": {
              "outlinewidth": 0,
              "ticks": ""
             }
            },
            "type": "scattermapbox"
           }
          ],
          "scatterpolar": [
           {
            "marker": {
             "colorbar": {
              "outlinewidth": 0,
              "ticks": ""
             }
            },
            "type": "scatterpolar"
           }
          ],
          "scatterpolargl": [
           {
            "marker": {
             "colorbar": {
              "outlinewidth": 0,
              "ticks": ""
             }
            },
            "type": "scatterpolargl"
           }
          ],
          "scatterternary": [
           {
            "marker": {
             "colorbar": {
              "outlinewidth": 0,
              "ticks": ""
             }
            },
            "type": "scatterternary"
           }
          ],
          "surface": [
           {
            "colorbar": {
             "outlinewidth": 0,
             "ticks": ""
            },
            "colorscale": [
             [
              0,
              "#0d0887"
             ],
             [
              0.1111111111111111,
              "#46039f"
             ],
             [
              0.2222222222222222,
              "#7201a8"
             ],
             [
              0.3333333333333333,
              "#9c179e"
             ],
             [
              0.4444444444444444,
              "#bd3786"
             ],
             [
              0.5555555555555556,
              "#d8576b"
             ],
             [
              0.6666666666666666,
              "#ed7953"
             ],
             [
              0.7777777777777778,
              "#fb9f3a"
             ],
             [
              0.8888888888888888,
              "#fdca26"
             ],
             [
              1,
              "#f0f921"
             ]
            ],
            "type": "surface"
           }
          ],
          "table": [
           {
            "cells": {
             "fill": {
              "color": "#EBF0F8"
             },
             "line": {
              "color": "white"
             }
            },
            "header": {
             "fill": {
              "color": "#C8D4E3"
             },
             "line": {
              "color": "white"
             }
            },
            "type": "table"
           }
          ]
         },
         "layout": {
          "annotationdefaults": {
           "arrowcolor": "#2a3f5f",
           "arrowhead": 0,
           "arrowwidth": 1
          },
          "coloraxis": {
           "colorbar": {
            "outlinewidth": 0,
            "ticks": ""
           }
          },
          "colorscale": {
           "diverging": [
            [
             0,
             "#8e0152"
            ],
            [
             0.1,
             "#c51b7d"
            ],
            [
             0.2,
             "#de77ae"
            ],
            [
             0.3,
             "#f1b6da"
            ],
            [
             0.4,
             "#fde0ef"
            ],
            [
             0.5,
             "#f7f7f7"
            ],
            [
             0.6,
             "#e6f5d0"
            ],
            [
             0.7,
             "#b8e186"
            ],
            [
             0.8,
             "#7fbc41"
            ],
            [
             0.9,
             "#4d9221"
            ],
            [
             1,
             "#276419"
            ]
           ],
           "sequential": [
            [
             0,
             "#0d0887"
            ],
            [
             0.1111111111111111,
             "#46039f"
            ],
            [
             0.2222222222222222,
             "#7201a8"
            ],
            [
             0.3333333333333333,
             "#9c179e"
            ],
            [
             0.4444444444444444,
             "#bd3786"
            ],
            [
             0.5555555555555556,
             "#d8576b"
            ],
            [
             0.6666666666666666,
             "#ed7953"
            ],
            [
             0.7777777777777778,
             "#fb9f3a"
            ],
            [
             0.8888888888888888,
             "#fdca26"
            ],
            [
             1,
             "#f0f921"
            ]
           ],
           "sequentialminus": [
            [
             0,
             "#0d0887"
            ],
            [
             0.1111111111111111,
             "#46039f"
            ],
            [
             0.2222222222222222,
             "#7201a8"
            ],
            [
             0.3333333333333333,
             "#9c179e"
            ],
            [
             0.4444444444444444,
             "#bd3786"
            ],
            [
             0.5555555555555556,
             "#d8576b"
            ],
            [
             0.6666666666666666,
             "#ed7953"
            ],
            [
             0.7777777777777778,
             "#fb9f3a"
            ],
            [
             0.8888888888888888,
             "#fdca26"
            ],
            [
             1,
             "#f0f921"
            ]
           ]
          },
          "colorway": [
           "#636efa",
           "#EF553B",
           "#00cc96",
           "#ab63fa",
           "#FFA15A",
           "#19d3f3",
           "#FF6692",
           "#B6E880",
           "#FF97FF",
           "#FECB52"
          ],
          "font": {
           "color": "#2a3f5f"
          },
          "geo": {
           "bgcolor": "white",
           "lakecolor": "white",
           "landcolor": "#E5ECF6",
           "showlakes": true,
           "showland": true,
           "subunitcolor": "white"
          },
          "hoverlabel": {
           "align": "left"
          },
          "hovermode": "closest",
          "mapbox": {
           "style": "light"
          },
          "paper_bgcolor": "white",
          "plot_bgcolor": "#E5ECF6",
          "polar": {
           "angularaxis": {
            "gridcolor": "white",
            "linecolor": "white",
            "ticks": ""
           },
           "bgcolor": "#E5ECF6",
           "radialaxis": {
            "gridcolor": "white",
            "linecolor": "white",
            "ticks": ""
           }
          },
          "scene": {
           "xaxis": {
            "backgroundcolor": "#E5ECF6",
            "gridcolor": "white",
            "gridwidth": 2,
            "linecolor": "white",
            "showbackground": true,
            "ticks": "",
            "zerolinecolor": "white"
           },
           "yaxis": {
            "backgroundcolor": "#E5ECF6",
            "gridcolor": "white",
            "gridwidth": 2,
            "linecolor": "white",
            "showbackground": true,
            "ticks": "",
            "zerolinecolor": "white"
           },
           "zaxis": {
            "backgroundcolor": "#E5ECF6",
            "gridcolor": "white",
            "gridwidth": 2,
            "linecolor": "white",
            "showbackground": true,
            "ticks": "",
            "zerolinecolor": "white"
           }
          },
          "shapedefaults": {
           "line": {
            "color": "#2a3f5f"
           }
          },
          "ternary": {
           "aaxis": {
            "gridcolor": "white",
            "linecolor": "white",
            "ticks": ""
           },
           "baxis": {
            "gridcolor": "white",
            "linecolor": "white",
            "ticks": ""
           },
           "bgcolor": "#E5ECF6",
           "caxis": {
            "gridcolor": "white",
            "linecolor": "white",
            "ticks": ""
           }
          },
          "title": {
           "x": 0.05
          },
          "xaxis": {
           "automargin": true,
           "gridcolor": "white",
           "linecolor": "white",
           "ticks": "",
           "title": {
            "standoff": 15
           },
           "zerolinecolor": "white",
           "zerolinewidth": 2
          },
          "yaxis": {
           "automargin": true,
           "gridcolor": "white",
           "linecolor": "white",
           "ticks": "",
           "title": {
            "standoff": 15
           },
           "zerolinecolor": "white",
           "zerolinewidth": 2
          }
         }
        },
        "title": {
         "text": "Customer Churning in tenure groups"
        },
        "xaxis": {
         "gridcolor": "rgb(255, 255, 255)",
         "gridwidth": 2,
         "ticklen": 5,
         "title": {
          "text": "tenure group"
         },
         "zerolinewidth": 1
        },
        "yaxis": {
         "gridcolor": "rgb(255, 255, 255)",
         "gridwidth": 2,
         "ticklen": 5,
         "title": {
          "text": "count"
         },
         "zerolinewidth": 1
        }
       }
      },
      "text/html": [
       "<div>\n",
       "        \n",
       "        \n",
       "            <div id=\"860a04a9-a48b-4221-b01d-892e4c0969f1\" class=\"plotly-graph-div\" style=\"height:525px; width:100%;\"></div>\n",
       "            <script type=\"text/javascript\">\n",
       "                require([\"plotly\"], function(Plotly) {\n",
       "                    window.PLOTLYENV=window.PLOTLYENV || {};\n",
       "                    \n",
       "                if (document.getElementById(\"860a04a9-a48b-4221-b01d-892e4c0969f1\")) {\n",
       "                    Plotly.newPlot(\n",
       "                        '860a04a9-a48b-4221-b01d-892e4c0969f1',\n",
       "                        [{\"marker\": {\"line\": {\"color\": \"black\", \"width\": 0.5}}, \"name\": \"Churn Customers\", \"opacity\": 0.9, \"type\": \"bar\", \"x\": [\"Tenure_0-12\", \"Tenure_24-48\", \"Tenure_12-24\", \"Tenure_48-60\", \"Tenure_gt_60\"], \"y\": [1037, 325, 294, 120, 93]}, {\"marker\": {\"line\": {\"color\": \"black\", \"width\": 0.5}}, \"name\": \"Non Churn Customers\", \"opacity\": 0.9, \"type\": \"bar\", \"x\": [\"Tenure_gt_60\", \"Tenure_24-48\", \"Tenure_0-12\", \"Tenure_12-24\", \"Tenure_48-60\"], \"y\": [1314, 1269, 1138, 730, 712]}],\n",
       "                        {\"paper_bgcolor\": \"rgb(243,243,243)\", \"plot_bgcolor\": \"rgb(243,243,243)\", \"template\": {\"data\": {\"bar\": [{\"error_x\": {\"color\": \"#2a3f5f\"}, \"error_y\": {\"color\": \"#2a3f5f\"}, \"marker\": {\"line\": {\"color\": \"#E5ECF6\", \"width\": 0.5}}, \"type\": \"bar\"}], \"barpolar\": [{\"marker\": {\"line\": {\"color\": \"#E5ECF6\", \"width\": 0.5}}, \"type\": \"barpolar\"}], \"carpet\": [{\"aaxis\": {\"endlinecolor\": \"#2a3f5f\", \"gridcolor\": \"white\", \"linecolor\": \"white\", \"minorgridcolor\": \"white\", \"startlinecolor\": \"#2a3f5f\"}, \"baxis\": {\"endlinecolor\": \"#2a3f5f\", \"gridcolor\": \"white\", \"linecolor\": \"white\", \"minorgridcolor\": \"white\", \"startlinecolor\": \"#2a3f5f\"}, \"type\": \"carpet\"}], \"choropleth\": [{\"colorbar\": {\"outlinewidth\": 0, \"ticks\": \"\"}, \"type\": \"choropleth\"}], \"contour\": [{\"colorbar\": {\"outlinewidth\": 0, \"ticks\": \"\"}, \"colorscale\": [[0.0, \"#0d0887\"], [0.1111111111111111, \"#46039f\"], [0.2222222222222222, \"#7201a8\"], [0.3333333333333333, \"#9c179e\"], [0.4444444444444444, \"#bd3786\"], [0.5555555555555556, \"#d8576b\"], [0.6666666666666666, \"#ed7953\"], [0.7777777777777778, \"#fb9f3a\"], [0.8888888888888888, \"#fdca26\"], [1.0, \"#f0f921\"]], \"type\": \"contour\"}], \"contourcarpet\": [{\"colorbar\": {\"outlinewidth\": 0, \"ticks\": \"\"}, \"type\": \"contourcarpet\"}], \"heatmap\": [{\"colorbar\": {\"outlinewidth\": 0, \"ticks\": \"\"}, \"colorscale\": [[0.0, \"#0d0887\"], [0.1111111111111111, \"#46039f\"], [0.2222222222222222, \"#7201a8\"], [0.3333333333333333, \"#9c179e\"], [0.4444444444444444, \"#bd3786\"], [0.5555555555555556, \"#d8576b\"], [0.6666666666666666, \"#ed7953\"], [0.7777777777777778, \"#fb9f3a\"], [0.8888888888888888, \"#fdca26\"], [1.0, \"#f0f921\"]], \"type\": \"heatmap\"}], \"heatmapgl\": [{\"colorbar\": {\"outlinewidth\": 0, \"ticks\": \"\"}, \"colorscale\": [[0.0, \"#0d0887\"], [0.1111111111111111, \"#46039f\"], [0.2222222222222222, \"#7201a8\"], [0.3333333333333333, \"#9c179e\"], [0.4444444444444444, \"#bd3786\"], [0.5555555555555556, \"#d8576b\"], [0.6666666666666666, \"#ed7953\"], [0.7777777777777778, \"#fb9f3a\"], [0.8888888888888888, \"#fdca26\"], [1.0, \"#f0f921\"]], \"type\": \"heatmapgl\"}], \"histogram\": [{\"marker\": {\"colorbar\": {\"outlinewidth\": 0, \"ticks\": \"\"}}, \"type\": \"histogram\"}], \"histogram2d\": [{\"colorbar\": {\"outlinewidth\": 0, \"ticks\": \"\"}, \"colorscale\": [[0.0, \"#0d0887\"], [0.1111111111111111, \"#46039f\"], [0.2222222222222222, \"#7201a8\"], [0.3333333333333333, \"#9c179e\"], [0.4444444444444444, \"#bd3786\"], [0.5555555555555556, \"#d8576b\"], [0.6666666666666666, \"#ed7953\"], [0.7777777777777778, \"#fb9f3a\"], [0.8888888888888888, \"#fdca26\"], [1.0, \"#f0f921\"]], \"type\": \"histogram2d\"}], \"histogram2dcontour\": [{\"colorbar\": {\"outlinewidth\": 0, \"ticks\": \"\"}, \"colorscale\": [[0.0, \"#0d0887\"], [0.1111111111111111, \"#46039f\"], [0.2222222222222222, \"#7201a8\"], [0.3333333333333333, \"#9c179e\"], [0.4444444444444444, \"#bd3786\"], [0.5555555555555556, \"#d8576b\"], [0.6666666666666666, \"#ed7953\"], [0.7777777777777778, \"#fb9f3a\"], [0.8888888888888888, \"#fdca26\"], [1.0, \"#f0f921\"]], \"type\": \"histogram2dcontour\"}], \"mesh3d\": [{\"colorbar\": {\"outlinewidth\": 0, \"ticks\": \"\"}, \"type\": \"mesh3d\"}], \"parcoords\": [{\"line\": {\"colorbar\": {\"outlinewidth\": 0, \"ticks\": \"\"}}, \"type\": \"parcoords\"}], \"pie\": [{\"automargin\": true, \"type\": \"pie\"}], \"scatter\": [{\"marker\": {\"colorbar\": {\"outlinewidth\": 0, \"ticks\": \"\"}}, \"type\": \"scatter\"}], \"scatter3d\": [{\"line\": {\"colorbar\": {\"outlinewidth\": 0, \"ticks\": \"\"}}, \"marker\": {\"colorbar\": {\"outlinewidth\": 0, \"ticks\": \"\"}}, \"type\": \"scatter3d\"}], \"scattercarpet\": [{\"marker\": {\"colorbar\": {\"outlinewidth\": 0, \"ticks\": \"\"}}, \"type\": \"scattercarpet\"}], \"scattergeo\": [{\"marker\": {\"colorbar\": {\"outlinewidth\": 0, \"ticks\": \"\"}}, \"type\": \"scattergeo\"}], \"scattergl\": [{\"marker\": {\"colorbar\": {\"outlinewidth\": 0, \"ticks\": \"\"}}, \"type\": \"scattergl\"}], \"scattermapbox\": [{\"marker\": {\"colorbar\": {\"outlinewidth\": 0, \"ticks\": \"\"}}, \"type\": \"scattermapbox\"}], \"scatterpolar\": [{\"marker\": {\"colorbar\": {\"outlinewidth\": 0, \"ticks\": \"\"}}, \"type\": \"scatterpolar\"}], \"scatterpolargl\": [{\"marker\": {\"colorbar\": {\"outlinewidth\": 0, \"ticks\": \"\"}}, \"type\": \"scatterpolargl\"}], \"scatterternary\": [{\"marker\": {\"colorbar\": {\"outlinewidth\": 0, \"ticks\": \"\"}}, \"type\": \"scatterternary\"}], \"surface\": [{\"colorbar\": {\"outlinewidth\": 0, \"ticks\": \"\"}, \"colorscale\": [[0.0, \"#0d0887\"], [0.1111111111111111, \"#46039f\"], [0.2222222222222222, \"#7201a8\"], [0.3333333333333333, \"#9c179e\"], [0.4444444444444444, \"#bd3786\"], [0.5555555555555556, \"#d8576b\"], [0.6666666666666666, \"#ed7953\"], [0.7777777777777778, \"#fb9f3a\"], [0.8888888888888888, \"#fdca26\"], [1.0, \"#f0f921\"]], \"type\": \"surface\"}], \"table\": [{\"cells\": {\"fill\": {\"color\": \"#EBF0F8\"}, \"line\": {\"color\": \"white\"}}, \"header\": {\"fill\": {\"color\": \"#C8D4E3\"}, \"line\": {\"color\": \"white\"}}, \"type\": \"table\"}]}, \"layout\": {\"annotationdefaults\": {\"arrowcolor\": \"#2a3f5f\", \"arrowhead\": 0, \"arrowwidth\": 1}, \"coloraxis\": {\"colorbar\": {\"outlinewidth\": 0, \"ticks\": \"\"}}, \"colorscale\": {\"diverging\": [[0, \"#8e0152\"], [0.1, \"#c51b7d\"], [0.2, \"#de77ae\"], [0.3, \"#f1b6da\"], [0.4, \"#fde0ef\"], [0.5, \"#f7f7f7\"], [0.6, \"#e6f5d0\"], [0.7, \"#b8e186\"], [0.8, \"#7fbc41\"], [0.9, \"#4d9221\"], [1, \"#276419\"]], \"sequential\": [[0.0, \"#0d0887\"], [0.1111111111111111, \"#46039f\"], [0.2222222222222222, \"#7201a8\"], [0.3333333333333333, \"#9c179e\"], [0.4444444444444444, \"#bd3786\"], [0.5555555555555556, \"#d8576b\"], [0.6666666666666666, \"#ed7953\"], [0.7777777777777778, \"#fb9f3a\"], [0.8888888888888888, \"#fdca26\"], [1.0, \"#f0f921\"]], \"sequentialminus\": [[0.0, \"#0d0887\"], [0.1111111111111111, \"#46039f\"], [0.2222222222222222, \"#7201a8\"], [0.3333333333333333, \"#9c179e\"], [0.4444444444444444, \"#bd3786\"], [0.5555555555555556, \"#d8576b\"], [0.6666666666666666, \"#ed7953\"], [0.7777777777777778, \"#fb9f3a\"], [0.8888888888888888, \"#fdca26\"], [1.0, \"#f0f921\"]]}, \"colorway\": [\"#636efa\", \"#EF553B\", \"#00cc96\", \"#ab63fa\", \"#FFA15A\", \"#19d3f3\", \"#FF6692\", \"#B6E880\", \"#FF97FF\", \"#FECB52\"], \"font\": {\"color\": \"#2a3f5f\"}, \"geo\": {\"bgcolor\": \"white\", \"lakecolor\": \"white\", \"landcolor\": \"#E5ECF6\", \"showlakes\": true, \"showland\": true, \"subunitcolor\": \"white\"}, \"hoverlabel\": {\"align\": \"left\"}, \"hovermode\": \"closest\", \"mapbox\": {\"style\": \"light\"}, \"paper_bgcolor\": \"white\", \"plot_bgcolor\": \"#E5ECF6\", \"polar\": {\"angularaxis\": {\"gridcolor\": \"white\", \"linecolor\": \"white\", \"ticks\": \"\"}, \"bgcolor\": \"#E5ECF6\", \"radialaxis\": {\"gridcolor\": \"white\", \"linecolor\": \"white\", \"ticks\": \"\"}}, \"scene\": {\"xaxis\": {\"backgroundcolor\": \"#E5ECF6\", \"gridcolor\": \"white\", \"gridwidth\": 2, \"linecolor\": \"white\", \"showbackground\": true, \"ticks\": \"\", \"zerolinecolor\": \"white\"}, \"yaxis\": {\"backgroundcolor\": \"#E5ECF6\", \"gridcolor\": \"white\", \"gridwidth\": 2, \"linecolor\": \"white\", \"showbackground\": true, \"ticks\": \"\", \"zerolinecolor\": \"white\"}, \"zaxis\": {\"backgroundcolor\": \"#E5ECF6\", \"gridcolor\": \"white\", \"gridwidth\": 2, \"linecolor\": \"white\", \"showbackground\": true, \"ticks\": \"\", \"zerolinecolor\": \"white\"}}, \"shapedefaults\": {\"line\": {\"color\": \"#2a3f5f\"}}, \"ternary\": {\"aaxis\": {\"gridcolor\": \"white\", \"linecolor\": \"white\", \"ticks\": \"\"}, \"baxis\": {\"gridcolor\": \"white\", \"linecolor\": \"white\", \"ticks\": \"\"}, \"bgcolor\": \"#E5ECF6\", \"caxis\": {\"gridcolor\": \"white\", \"linecolor\": \"white\", \"ticks\": \"\"}}, \"title\": {\"x\": 0.05}, \"xaxis\": {\"automargin\": true, \"gridcolor\": \"white\", \"linecolor\": \"white\", \"ticks\": \"\", \"title\": {\"standoff\": 15}, \"zerolinecolor\": \"white\", \"zerolinewidth\": 2}, \"yaxis\": {\"automargin\": true, \"gridcolor\": \"white\", \"linecolor\": \"white\", \"ticks\": \"\", \"title\": {\"standoff\": 15}, \"zerolinecolor\": \"white\", \"zerolinewidth\": 2}}}, \"title\": {\"text\": \"Customer Churning in tenure groups\"}, \"xaxis\": {\"gridcolor\": \"rgb(255, 255, 255)\", \"gridwidth\": 2, \"ticklen\": 5, \"title\": {\"text\": \"tenure group\"}, \"zerolinewidth\": 1}, \"yaxis\": {\"gridcolor\": \"rgb(255, 255, 255)\", \"gridwidth\": 2, \"ticklen\": 5, \"title\": {\"text\": \"count\"}, \"zerolinewidth\": 1}},\n",
       "                        {\"responsive\": true}\n",
       "                    ).then(function(){\n",
       "                            \n",
       "var gd = document.getElementById('860a04a9-a48b-4221-b01d-892e4c0969f1');\n",
       "var x = new MutationObserver(function (mutations, observer) {{\n",
       "        var display = window.getComputedStyle(gd).display;\n",
       "        if (!display || display === 'none') {{\n",
       "            console.log([gd, 'removed!']);\n",
       "            Plotly.purge(gd);\n",
       "            observer.disconnect();\n",
       "        }}\n",
       "}});\n",
       "\n",
       "// Listen for the removal of the full notebook cells\n",
       "var notebookContainer = gd.closest('#notebook-container');\n",
       "if (notebookContainer) {{\n",
       "    x.observe(notebookContainer, {childList: true});\n",
       "}}\n",
       "\n",
       "// Listen for the clearing of the current output cell\n",
       "var outputEl = gd.closest('.output');\n",
       "if (outputEl) {{\n",
       "    x.observe(outputEl, {childList: true});\n",
       "}}\n",
       "\n",
       "                        })\n",
       "                };\n",
       "                });\n",
       "            </script>\n",
       "        </div>"
      ]
     },
     "metadata": {},
     "output_type": "display_data"
    }
   ],
   "source": [
    "#cusomer attrition in tenure groups\n",
    "tg_ch  =  churn[\"tenure_group\"].value_counts().reset_index()\n",
    "tg_ch.columns  = [\"tenure_group\",\"count\"]\n",
    "tg_nch =  not_churn[\"tenure_group\"].value_counts().reset_index()\n",
    "tg_nch.columns = [\"tenure_group\",\"count\"]\n",
    "\n",
    "#bar - churn\n",
    "trace1 = go.Bar(x = tg_ch[\"tenure_group\"]  , y = tg_ch[\"count\"],\n",
    "                name = \"Churn Customers\",\n",
    "                marker = dict(line = dict(width = .5,color = \"black\")),\n",
    "                opacity = .9)\n",
    "\n",
    "#bar - not churn\n",
    "trace2 = go.Bar(x = tg_nch[\"tenure_group\"] , y = tg_nch[\"count\"],\n",
    "                name = \"Non Churn Customers\",\n",
    "                marker = dict(line = dict(width = .5,color = \"black\")),\n",
    "                opacity = .9)\n",
    "\n",
    "layout = go.Layout(dict(title = \"Customer Churning in tenure groups\",\n",
    "                        plot_bgcolor  = \"rgb(243,243,243)\",\n",
    "                        paper_bgcolor = \"rgb(243,243,243)\",\n",
    "                        xaxis = dict(gridcolor = 'rgb(255, 255, 255)',\n",
    "                                     title = \"tenure group\",\n",
    "                                     zerolinewidth=1,ticklen=5,gridwidth=2),\n",
    "                        yaxis = dict(gridcolor = 'rgb(255, 255, 255)',\n",
    "                                     title = \"count\",\n",
    "                                     zerolinewidth=1,ticklen=5,gridwidth=2),\n",
    "                       )\n",
    "                  )\n",
    "traces = [trace1,trace2]\n",
    "fig  = go.Figure(data=traces,layout=layout)\n",
    "py.iplot(fig)"
   ]
  },
  {
   "cell_type": "code",
   "execution_count": 103,
   "metadata": {},
   "outputs": [
    {
     "data": {
      "text/plain": [
       "array(['DSL', 'Fiber optic', 'No'], dtype=object)"
      ]
     },
     "execution_count": 103,
     "metadata": {},
     "output_type": "execute_result"
    }
   ],
   "source": [
    "data['InternetService'].unique()"
   ]
  },
  {
   "cell_type": "code",
   "execution_count": 104,
   "metadata": {},
   "outputs": [
    {
     "data": {
      "text/plain": [
       "0        No\n",
       "1        No\n",
       "2       Yes\n",
       "3        No\n",
       "4       Yes\n",
       "       ... \n",
       "7027     No\n",
       "7028     No\n",
       "7029     No\n",
       "7030    Yes\n",
       "7031     No\n",
       "Name: Churn, Length: 7032, dtype: object"
      ]
     },
     "execution_count": 104,
     "metadata": {},
     "output_type": "execute_result"
    }
   ],
   "source": [
    "data['Churn']"
   ]
  },
  {
   "cell_type": "markdown",
   "metadata": {},
   "source": [
    "for i in range(len(data)):\n",
    "    if data['Churn'][i] == 'No':\n",
    "        data['Churn'][i] = 0\n",
    "    else:\n",
    "        data['Churn'][i] = 1"
   ]
  },
  {
   "cell_type": "code",
   "execution_count": 105,
   "metadata": {},
   "outputs": [
    {
     "data": {
      "text/html": [
       "<div>\n",
       "<style scoped>\n",
       "    .dataframe tbody tr th:only-of-type {\n",
       "        vertical-align: middle;\n",
       "    }\n",
       "\n",
       "    .dataframe tbody tr th {\n",
       "        vertical-align: top;\n",
       "    }\n",
       "\n",
       "    .dataframe thead th {\n",
       "        text-align: right;\n",
       "    }\n",
       "</style>\n",
       "<table border=\"1\" class=\"dataframe\">\n",
       "  <thead>\n",
       "    <tr style=\"text-align: right;\">\n",
       "      <th></th>\n",
       "      <th>customerID</th>\n",
       "      <th>gender</th>\n",
       "      <th>SeniorCitizen</th>\n",
       "      <th>Partner</th>\n",
       "      <th>Dependents</th>\n",
       "      <th>tenure</th>\n",
       "      <th>PhoneService</th>\n",
       "      <th>MultipleLines</th>\n",
       "      <th>InternetService</th>\n",
       "      <th>OnlineSecurity</th>\n",
       "      <th>...</th>\n",
       "      <th>TechSupport</th>\n",
       "      <th>StreamingTV</th>\n",
       "      <th>StreamingMovies</th>\n",
       "      <th>Contract</th>\n",
       "      <th>PaperlessBilling</th>\n",
       "      <th>PaymentMethod</th>\n",
       "      <th>MonthlyCharges</th>\n",
       "      <th>TotalCharges</th>\n",
       "      <th>Churn</th>\n",
       "      <th>tenure_group</th>\n",
       "    </tr>\n",
       "  </thead>\n",
       "  <tbody>\n",
       "    <tr>\n",
       "      <td>0</td>\n",
       "      <td>7590-VHVEG</td>\n",
       "      <td>Female</td>\n",
       "      <td>No</td>\n",
       "      <td>Yes</td>\n",
       "      <td>No</td>\n",
       "      <td>1</td>\n",
       "      <td>No</td>\n",
       "      <td>No phone service</td>\n",
       "      <td>DSL</td>\n",
       "      <td>No</td>\n",
       "      <td>...</td>\n",
       "      <td>No</td>\n",
       "      <td>No</td>\n",
       "      <td>No</td>\n",
       "      <td>Month-to-month</td>\n",
       "      <td>Yes</td>\n",
       "      <td>Electronic check</td>\n",
       "      <td>29.85</td>\n",
       "      <td>29.85</td>\n",
       "      <td>No</td>\n",
       "      <td>Tenure_0-12</td>\n",
       "    </tr>\n",
       "    <tr>\n",
       "      <td>1</td>\n",
       "      <td>5575-GNVDE</td>\n",
       "      <td>Male</td>\n",
       "      <td>No</td>\n",
       "      <td>No</td>\n",
       "      <td>No</td>\n",
       "      <td>34</td>\n",
       "      <td>Yes</td>\n",
       "      <td>No</td>\n",
       "      <td>DSL</td>\n",
       "      <td>Yes</td>\n",
       "      <td>...</td>\n",
       "      <td>No</td>\n",
       "      <td>No</td>\n",
       "      <td>No</td>\n",
       "      <td>One year</td>\n",
       "      <td>No</td>\n",
       "      <td>Mailed check</td>\n",
       "      <td>56.95</td>\n",
       "      <td>1889.50</td>\n",
       "      <td>No</td>\n",
       "      <td>Tenure_24-48</td>\n",
       "    </tr>\n",
       "    <tr>\n",
       "      <td>2</td>\n",
       "      <td>3668-QPYBK</td>\n",
       "      <td>Male</td>\n",
       "      <td>No</td>\n",
       "      <td>No</td>\n",
       "      <td>No</td>\n",
       "      <td>2</td>\n",
       "      <td>Yes</td>\n",
       "      <td>No</td>\n",
       "      <td>DSL</td>\n",
       "      <td>Yes</td>\n",
       "      <td>...</td>\n",
       "      <td>No</td>\n",
       "      <td>No</td>\n",
       "      <td>No</td>\n",
       "      <td>Month-to-month</td>\n",
       "      <td>Yes</td>\n",
       "      <td>Mailed check</td>\n",
       "      <td>53.85</td>\n",
       "      <td>108.15</td>\n",
       "      <td>Yes</td>\n",
       "      <td>Tenure_0-12</td>\n",
       "    </tr>\n",
       "    <tr>\n",
       "      <td>3</td>\n",
       "      <td>7795-CFOCW</td>\n",
       "      <td>Male</td>\n",
       "      <td>No</td>\n",
       "      <td>No</td>\n",
       "      <td>No</td>\n",
       "      <td>45</td>\n",
       "      <td>No</td>\n",
       "      <td>No phone service</td>\n",
       "      <td>DSL</td>\n",
       "      <td>Yes</td>\n",
       "      <td>...</td>\n",
       "      <td>Yes</td>\n",
       "      <td>No</td>\n",
       "      <td>No</td>\n",
       "      <td>One year</td>\n",
       "      <td>No</td>\n",
       "      <td>Bank transfer (automatic)</td>\n",
       "      <td>42.30</td>\n",
       "      <td>1840.75</td>\n",
       "      <td>No</td>\n",
       "      <td>Tenure_24-48</td>\n",
       "    </tr>\n",
       "    <tr>\n",
       "      <td>4</td>\n",
       "      <td>9237-HQITU</td>\n",
       "      <td>Female</td>\n",
       "      <td>No</td>\n",
       "      <td>No</td>\n",
       "      <td>No</td>\n",
       "      <td>2</td>\n",
       "      <td>Yes</td>\n",
       "      <td>No</td>\n",
       "      <td>Fiber optic</td>\n",
       "      <td>No</td>\n",
       "      <td>...</td>\n",
       "      <td>No</td>\n",
       "      <td>No</td>\n",
       "      <td>No</td>\n",
       "      <td>Month-to-month</td>\n",
       "      <td>Yes</td>\n",
       "      <td>Electronic check</td>\n",
       "      <td>70.70</td>\n",
       "      <td>151.65</td>\n",
       "      <td>Yes</td>\n",
       "      <td>Tenure_0-12</td>\n",
       "    </tr>\n",
       "  </tbody>\n",
       "</table>\n",
       "<p>5 rows × 22 columns</p>\n",
       "</div>"
      ],
      "text/plain": [
       "   customerID  gender SeniorCitizen Partner Dependents  tenure PhoneService  \\\n",
       "0  7590-VHVEG  Female            No     Yes         No       1           No   \n",
       "1  5575-GNVDE    Male            No      No         No      34          Yes   \n",
       "2  3668-QPYBK    Male            No      No         No       2          Yes   \n",
       "3  7795-CFOCW    Male            No      No         No      45           No   \n",
       "4  9237-HQITU  Female            No      No         No       2          Yes   \n",
       "\n",
       "      MultipleLines InternetService OnlineSecurity  ... TechSupport  \\\n",
       "0  No phone service             DSL             No  ...          No   \n",
       "1                No             DSL            Yes  ...          No   \n",
       "2                No             DSL            Yes  ...          No   \n",
       "3  No phone service             DSL            Yes  ...         Yes   \n",
       "4                No     Fiber optic             No  ...          No   \n",
       "\n",
       "  StreamingTV StreamingMovies        Contract PaperlessBilling  \\\n",
       "0          No              No  Month-to-month              Yes   \n",
       "1          No              No        One year               No   \n",
       "2          No              No  Month-to-month              Yes   \n",
       "3          No              No        One year               No   \n",
       "4          No              No  Month-to-month              Yes   \n",
       "\n",
       "               PaymentMethod MonthlyCharges TotalCharges  Churn  tenure_group  \n",
       "0           Electronic check          29.85        29.85     No   Tenure_0-12  \n",
       "1               Mailed check          56.95      1889.50     No  Tenure_24-48  \n",
       "2               Mailed check          53.85       108.15    Yes   Tenure_0-12  \n",
       "3  Bank transfer (automatic)          42.30      1840.75     No  Tenure_24-48  \n",
       "4           Electronic check          70.70       151.65    Yes   Tenure_0-12  \n",
       "\n",
       "[5 rows x 22 columns]"
      ]
     },
     "execution_count": 105,
     "metadata": {},
     "output_type": "execute_result"
    }
   ],
   "source": [
    "data.head()"
   ]
  },
  {
   "cell_type": "code",
   "execution_count": 106,
   "metadata": {},
   "outputs": [
    {
     "data": {
      "text/plain": [
       "(7032, 22)"
      ]
     },
     "execution_count": 106,
     "metadata": {},
     "output_type": "execute_result"
    }
   ],
   "source": [
    "# Check the Number of Rows and Columns\n",
    "data.shape"
   ]
  },
  {
   "cell_type": "markdown",
   "metadata": {},
   "source": [
    "> The dataset contains 7032 rows and 22 Columns"
   ]
  },
  {
   "cell_type": "markdown",
   "metadata": {},
   "source": [
    "<div class=\"alert alert-block alert-info\">\n",
    "   \n",
    "## SECTION 3: Data Preprocessing\n",
    "\n",
    "<a id=\"section_3\"></a>"
   ]
  },
  {
   "cell_type": "markdown",
   "metadata": {},
   "source": [
    "> Missing value imputation, data type conversion, standardization and renaming the column"
   ]
  },
  {
   "cell_type": "code",
   "execution_count": 107,
   "metadata": {},
   "outputs": [],
   "source": [
    "from sklearn.preprocessing import LabelEncoder\n",
    "from sklearn.preprocessing import StandardScaler\n",
    "\n",
    "#customer id col\n",
    "Id_col     = ['customerID']\n",
    "#Target columns\n",
    "target_col = [\"Churn\"]\n",
    "#categorical columns\n",
    "cat_cols   = data.nunique()[data.nunique() < 6].keys().tolist()\n",
    "cat_cols   = [x for x in cat_cols if x not in target_col]\n",
    "#numerical columns\n",
    "num_cols   = [x for x in data.columns if x not in cat_cols + target_col + Id_col]\n",
    "#Binary columns with 2 values\n",
    "bin_cols   = data.nunique()[data.nunique() == 2].keys().tolist()\n",
    "#Columns more than 2 values\n",
    "multi_cols = [i for i in cat_cols if i not in bin_cols]\n",
    "\n",
    "#Label encoding Binary columns\n",
    "le = LabelEncoder()\n",
    "for i in bin_cols :\n",
    "    data[i] = le.fit_transform(data[i])\n",
    "    \n",
    "#Duplicating columns for multi value columns\n",
    "data = pd.get_dummies(data = data,columns = multi_cols )\n",
    "\n",
    "#Scaling Numerical columns\n",
    "std = StandardScaler()\n",
    "scaled = std.fit_transform(data[num_cols])\n",
    "scaled = pd.DataFrame(scaled,columns=num_cols)\n",
    "\n",
    "#dropping original values merging scaled values for numerical columns\n",
    "df_data_og = data.copy()\n",
    "data = data.drop(columns = num_cols,axis = 1)\n",
    "data = data.merge(scaled,left_index=True,right_index=True,how = \"left\")"
   ]
  },
  {
   "cell_type": "code",
   "execution_count": 108,
   "metadata": {},
   "outputs": [
    {
     "data": {
      "text/html": [
       "<div>\n",
       "<style scoped>\n",
       "    .dataframe tbody tr th:only-of-type {\n",
       "        vertical-align: middle;\n",
       "    }\n",
       "\n",
       "    .dataframe tbody tr th {\n",
       "        vertical-align: top;\n",
       "    }\n",
       "\n",
       "    .dataframe thead th {\n",
       "        text-align: right;\n",
       "    }\n",
       "</style>\n",
       "<table border=\"1\" class=\"dataframe\">\n",
       "  <thead>\n",
       "    <tr style=\"text-align: right;\">\n",
       "      <th></th>\n",
       "      <th>customerID</th>\n",
       "      <th>gender</th>\n",
       "      <th>SeniorCitizen</th>\n",
       "      <th>Partner</th>\n",
       "      <th>Dependents</th>\n",
       "      <th>PhoneService</th>\n",
       "      <th>OnlineSecurity</th>\n",
       "      <th>OnlineBackup</th>\n",
       "      <th>DeviceProtection</th>\n",
       "      <th>TechSupport</th>\n",
       "      <th>...</th>\n",
       "      <th>PaymentMethod_Electronic check</th>\n",
       "      <th>PaymentMethod_Mailed check</th>\n",
       "      <th>tenure_group_Tenure_0-12</th>\n",
       "      <th>tenure_group_Tenure_12-24</th>\n",
       "      <th>tenure_group_Tenure_24-48</th>\n",
       "      <th>tenure_group_Tenure_48-60</th>\n",
       "      <th>tenure_group_Tenure_gt_60</th>\n",
       "      <th>tenure</th>\n",
       "      <th>MonthlyCharges</th>\n",
       "      <th>TotalCharges</th>\n",
       "    </tr>\n",
       "  </thead>\n",
       "  <tbody>\n",
       "    <tr>\n",
       "      <td>0</td>\n",
       "      <td>7590-VHVEG</td>\n",
       "      <td>0</td>\n",
       "      <td>0</td>\n",
       "      <td>1</td>\n",
       "      <td>0</td>\n",
       "      <td>0</td>\n",
       "      <td>0</td>\n",
       "      <td>1</td>\n",
       "      <td>0</td>\n",
       "      <td>0</td>\n",
       "      <td>...</td>\n",
       "      <td>1</td>\n",
       "      <td>0</td>\n",
       "      <td>1</td>\n",
       "      <td>0</td>\n",
       "      <td>0</td>\n",
       "      <td>0</td>\n",
       "      <td>0</td>\n",
       "      <td>-1.280248</td>\n",
       "      <td>-1.161694</td>\n",
       "      <td>-0.994194</td>\n",
       "    </tr>\n",
       "    <tr>\n",
       "      <td>1</td>\n",
       "      <td>5575-GNVDE</td>\n",
       "      <td>1</td>\n",
       "      <td>0</td>\n",
       "      <td>0</td>\n",
       "      <td>0</td>\n",
       "      <td>1</td>\n",
       "      <td>1</td>\n",
       "      <td>0</td>\n",
       "      <td>1</td>\n",
       "      <td>0</td>\n",
       "      <td>...</td>\n",
       "      <td>0</td>\n",
       "      <td>1</td>\n",
       "      <td>0</td>\n",
       "      <td>0</td>\n",
       "      <td>1</td>\n",
       "      <td>0</td>\n",
       "      <td>0</td>\n",
       "      <td>0.064303</td>\n",
       "      <td>-0.260878</td>\n",
       "      <td>-0.173740</td>\n",
       "    </tr>\n",
       "    <tr>\n",
       "      <td>2</td>\n",
       "      <td>3668-QPYBK</td>\n",
       "      <td>1</td>\n",
       "      <td>0</td>\n",
       "      <td>0</td>\n",
       "      <td>0</td>\n",
       "      <td>1</td>\n",
       "      <td>1</td>\n",
       "      <td>1</td>\n",
       "      <td>0</td>\n",
       "      <td>0</td>\n",
       "      <td>...</td>\n",
       "      <td>0</td>\n",
       "      <td>1</td>\n",
       "      <td>1</td>\n",
       "      <td>0</td>\n",
       "      <td>0</td>\n",
       "      <td>0</td>\n",
       "      <td>0</td>\n",
       "      <td>-1.239504</td>\n",
       "      <td>-0.363923</td>\n",
       "      <td>-0.959649</td>\n",
       "    </tr>\n",
       "    <tr>\n",
       "      <td>3</td>\n",
       "      <td>7795-CFOCW</td>\n",
       "      <td>1</td>\n",
       "      <td>0</td>\n",
       "      <td>0</td>\n",
       "      <td>0</td>\n",
       "      <td>0</td>\n",
       "      <td>1</td>\n",
       "      <td>0</td>\n",
       "      <td>1</td>\n",
       "      <td>1</td>\n",
       "      <td>...</td>\n",
       "      <td>0</td>\n",
       "      <td>0</td>\n",
       "      <td>0</td>\n",
       "      <td>0</td>\n",
       "      <td>1</td>\n",
       "      <td>0</td>\n",
       "      <td>0</td>\n",
       "      <td>0.512486</td>\n",
       "      <td>-0.747850</td>\n",
       "      <td>-0.195248</td>\n",
       "    </tr>\n",
       "    <tr>\n",
       "      <td>4</td>\n",
       "      <td>9237-HQITU</td>\n",
       "      <td>0</td>\n",
       "      <td>0</td>\n",
       "      <td>0</td>\n",
       "      <td>0</td>\n",
       "      <td>1</td>\n",
       "      <td>0</td>\n",
       "      <td>0</td>\n",
       "      <td>0</td>\n",
       "      <td>0</td>\n",
       "      <td>...</td>\n",
       "      <td>1</td>\n",
       "      <td>0</td>\n",
       "      <td>1</td>\n",
       "      <td>0</td>\n",
       "      <td>0</td>\n",
       "      <td>0</td>\n",
       "      <td>0</td>\n",
       "      <td>-1.239504</td>\n",
       "      <td>0.196178</td>\n",
       "      <td>-0.940457</td>\n",
       "    </tr>\n",
       "  </tbody>\n",
       "</table>\n",
       "<p>5 rows × 35 columns</p>\n",
       "</div>"
      ],
      "text/plain": [
       "   customerID  gender  SeniorCitizen  Partner  Dependents  PhoneService  \\\n",
       "0  7590-VHVEG       0              0        1           0             0   \n",
       "1  5575-GNVDE       1              0        0           0             1   \n",
       "2  3668-QPYBK       1              0        0           0             1   \n",
       "3  7795-CFOCW       1              0        0           0             0   \n",
       "4  9237-HQITU       0              0        0           0             1   \n",
       "\n",
       "   OnlineSecurity  OnlineBackup  DeviceProtection  TechSupport  ...  \\\n",
       "0               0             1                 0            0  ...   \n",
       "1               1             0                 1            0  ...   \n",
       "2               1             1                 0            0  ...   \n",
       "3               1             0                 1            1  ...   \n",
       "4               0             0                 0            0  ...   \n",
       "\n",
       "   PaymentMethod_Electronic check  PaymentMethod_Mailed check  \\\n",
       "0                               1                           0   \n",
       "1                               0                           1   \n",
       "2                               0                           1   \n",
       "3                               0                           0   \n",
       "4                               1                           0   \n",
       "\n",
       "   tenure_group_Tenure_0-12  tenure_group_Tenure_12-24  \\\n",
       "0                         1                          0   \n",
       "1                         0                          0   \n",
       "2                         1                          0   \n",
       "3                         0                          0   \n",
       "4                         1                          0   \n",
       "\n",
       "   tenure_group_Tenure_24-48  tenure_group_Tenure_48-60  \\\n",
       "0                          0                          0   \n",
       "1                          1                          0   \n",
       "2                          0                          0   \n",
       "3                          1                          0   \n",
       "4                          0                          0   \n",
       "\n",
       "   tenure_group_Tenure_gt_60    tenure  MonthlyCharges  TotalCharges  \n",
       "0                          0 -1.280248       -1.161694     -0.994194  \n",
       "1                          0  0.064303       -0.260878     -0.173740  \n",
       "2                          0 -1.239504       -0.363923     -0.959649  \n",
       "3                          0  0.512486       -0.747850     -0.195248  \n",
       "4                          0 -1.239504        0.196178     -0.940457  \n",
       "\n",
       "[5 rows x 35 columns]"
      ]
     },
     "execution_count": 108,
     "metadata": {},
     "output_type": "execute_result"
    }
   ],
   "source": [
    "data.head()"
   ]
  },
  {
   "cell_type": "code",
   "execution_count": 109,
   "metadata": {},
   "outputs": [
    {
     "data": {
      "application/vnd.plotly.v1+json": {
       "config": {
        "linkText": "Export to plot.ly",
        "plotlyServerURL": "https://plot.ly",
        "showLink": false
       },
       "data": [
        {
         "cells": {
          "fill": {
           "color": [
            "lightgrey",
            "#F5F8FF"
           ]
          },
          "line": {
           "color": [
            "#506784"
           ]
          },
          "values": [
           [
            "gender",
            "SeniorCitizen",
            "Partner",
            "Dependents",
            "tenure",
            "PhoneService",
            "OnlineSecurity",
            "OnlineBackup",
            "DeviceProtection",
            "TechSupport",
            "StreamingTV",
            "StreamingMovies",
            "PaperlessBilling",
            "MonthlyCharges",
            "TotalCharges",
            "Churn",
            "MultipleLines_No",
            "MultipleLines_No phone service",
            "MultipleLines_Yes",
            "InternetService_DSL",
            "InternetService_Fiber optic",
            "InternetService_No",
            "Contract_Month-to-month",
            "Contract_One year",
            "Contract_Two year",
            "PaymentMethod_Bank transfer (automatic)",
            "PaymentMethod_Credit card (automatic)",
            "PaymentMethod_Electronic check",
            "PaymentMethod_Mailed check",
            "tenure_group_Tenure_0-12",
            "tenure_group_Tenure_12-24",
            "tenure_group_Tenure_24-48",
            "tenure_group_Tenure_48-60",
            "tenure_group_Tenure_gt_60"
           ],
           [
            7032,
            7032,
            7032,
            7032,
            7032,
            7032,
            7032,
            7032,
            7032,
            7032,
            7032,
            7032,
            7032,
            7032,
            7032,
            7032,
            7032,
            7032,
            7032,
            7032,
            7032,
            7032,
            7032,
            7032,
            7032,
            7032,
            7032,
            7032,
            7032,
            7032,
            7032,
            7032,
            7032,
            7032
           ],
           [
            0.505,
            0.162,
            0.483,
            0.298,
            32.422,
            0.903,
            0.287,
            0.345,
            0.344,
            0.29,
            0.384,
            0.388,
            0.593,
            64.798,
            2283.3,
            0.266,
            0.481,
            0.097,
            0.422,
            0.344,
            0.44,
            0.216,
            0.551,
            0.209,
            0.24,
            0.219,
            0.216,
            0.336,
            0.228,
            0.309,
            0.146,
            0.227,
            0.118,
            0.2
           ],
           [
            0.5,
            0.369,
            0.5,
            0.458,
            24.545,
            0.296,
            0.452,
            0.475,
            0.475,
            0.454,
            0.486,
            0.487,
            0.491,
            30.086,
            2266.771,
            0.442,
            0.5,
            0.296,
            0.494,
            0.475,
            0.496,
            0.412,
            0.497,
            0.407,
            0.427,
            0.414,
            0.412,
            0.472,
            0.42,
            0.462,
            0.353,
            0.419,
            0.323,
            0.4
           ],
           [
            0,
            0,
            0,
            0,
            1,
            0,
            0,
            0,
            0,
            0,
            0,
            0,
            0,
            18.25,
            18.8,
            0,
            0,
            0,
            0,
            0,
            0,
            0,
            0,
            0,
            0,
            0,
            0,
            0,
            0,
            0,
            0,
            0,
            0,
            0
           ],
           [
            0,
            0,
            0,
            0,
            9,
            1,
            0,
            0,
            0,
            0,
            0,
            0,
            0,
            35.588,
            401.45,
            0,
            0,
            0,
            0,
            0,
            0,
            0,
            0,
            0,
            0,
            0,
            0,
            0,
            0,
            0,
            0,
            0,
            0,
            0
           ],
           [
            1,
            0,
            0,
            0,
            29,
            1,
            0,
            0,
            0,
            0,
            0,
            0,
            1,
            70.35,
            1397.475,
            0,
            0,
            0,
            0,
            0,
            0,
            0,
            1,
            0,
            0,
            0,
            0,
            0,
            0,
            0,
            0,
            0,
            0,
            0
           ],
           [
            1,
            0,
            1,
            1,
            55,
            1,
            1,
            1,
            1,
            1,
            1,
            1,
            1,
            89.862,
            3794.738,
            1,
            1,
            0,
            1,
            1,
            1,
            0,
            1,
            0,
            0,
            0,
            0,
            1,
            0,
            1,
            0,
            0,
            0,
            0
           ],
           [
            1,
            1,
            1,
            1,
            72,
            1,
            1,
            1,
            1,
            1,
            1,
            1,
            1,
            118.75,
            8684.8,
            1,
            1,
            1,
            1,
            1,
            1,
            1,
            1,
            1,
            1,
            1,
            1,
            1,
            1,
            1,
            1,
            1,
            1,
            1
           ]
          ]
         },
         "columnwidth": [
          200,
          60,
          100,
          100,
          60,
          60,
          80,
          80,
          80
         ],
         "header": {
          "fill": {
           "color": [
            "#119DFF"
           ]
          },
          "line": {
           "color": [
            "#506784"
           ]
          },
          "values": [
           "feature",
           "count",
           "mean",
           "std",
           "min",
           "25%",
           "50%",
           "75%",
           "max"
          ]
         },
         "type": "table"
        }
       ],
       "layout": {
        "template": {
         "data": {
          "bar": [
           {
            "error_x": {
             "color": "#2a3f5f"
            },
            "error_y": {
             "color": "#2a3f5f"
            },
            "marker": {
             "line": {
              "color": "#E5ECF6",
              "width": 0.5
             }
            },
            "type": "bar"
           }
          ],
          "barpolar": [
           {
            "marker": {
             "line": {
              "color": "#E5ECF6",
              "width": 0.5
             }
            },
            "type": "barpolar"
           }
          ],
          "carpet": [
           {
            "aaxis": {
             "endlinecolor": "#2a3f5f",
             "gridcolor": "white",
             "linecolor": "white",
             "minorgridcolor": "white",
             "startlinecolor": "#2a3f5f"
            },
            "baxis": {
             "endlinecolor": "#2a3f5f",
             "gridcolor": "white",
             "linecolor": "white",
             "minorgridcolor": "white",
             "startlinecolor": "#2a3f5f"
            },
            "type": "carpet"
           }
          ],
          "choropleth": [
           {
            "colorbar": {
             "outlinewidth": 0,
             "ticks": ""
            },
            "type": "choropleth"
           }
          ],
          "contour": [
           {
            "colorbar": {
             "outlinewidth": 0,
             "ticks": ""
            },
            "colorscale": [
             [
              0,
              "#0d0887"
             ],
             [
              0.1111111111111111,
              "#46039f"
             ],
             [
              0.2222222222222222,
              "#7201a8"
             ],
             [
              0.3333333333333333,
              "#9c179e"
             ],
             [
              0.4444444444444444,
              "#bd3786"
             ],
             [
              0.5555555555555556,
              "#d8576b"
             ],
             [
              0.6666666666666666,
              "#ed7953"
             ],
             [
              0.7777777777777778,
              "#fb9f3a"
             ],
             [
              0.8888888888888888,
              "#fdca26"
             ],
             [
              1,
              "#f0f921"
             ]
            ],
            "type": "contour"
           }
          ],
          "contourcarpet": [
           {
            "colorbar": {
             "outlinewidth": 0,
             "ticks": ""
            },
            "type": "contourcarpet"
           }
          ],
          "heatmap": [
           {
            "colorbar": {
             "outlinewidth": 0,
             "ticks": ""
            },
            "colorscale": [
             [
              0,
              "#0d0887"
             ],
             [
              0.1111111111111111,
              "#46039f"
             ],
             [
              0.2222222222222222,
              "#7201a8"
             ],
             [
              0.3333333333333333,
              "#9c179e"
             ],
             [
              0.4444444444444444,
              "#bd3786"
             ],
             [
              0.5555555555555556,
              "#d8576b"
             ],
             [
              0.6666666666666666,
              "#ed7953"
             ],
             [
              0.7777777777777778,
              "#fb9f3a"
             ],
             [
              0.8888888888888888,
              "#fdca26"
             ],
             [
              1,
              "#f0f921"
             ]
            ],
            "type": "heatmap"
           }
          ],
          "heatmapgl": [
           {
            "colorbar": {
             "outlinewidth": 0,
             "ticks": ""
            },
            "colorscale": [
             [
              0,
              "#0d0887"
             ],
             [
              0.1111111111111111,
              "#46039f"
             ],
             [
              0.2222222222222222,
              "#7201a8"
             ],
             [
              0.3333333333333333,
              "#9c179e"
             ],
             [
              0.4444444444444444,
              "#bd3786"
             ],
             [
              0.5555555555555556,
              "#d8576b"
             ],
             [
              0.6666666666666666,
              "#ed7953"
             ],
             [
              0.7777777777777778,
              "#fb9f3a"
             ],
             [
              0.8888888888888888,
              "#fdca26"
             ],
             [
              1,
              "#f0f921"
             ]
            ],
            "type": "heatmapgl"
           }
          ],
          "histogram": [
           {
            "marker": {
             "colorbar": {
              "outlinewidth": 0,
              "ticks": ""
             }
            },
            "type": "histogram"
           }
          ],
          "histogram2d": [
           {
            "colorbar": {
             "outlinewidth": 0,
             "ticks": ""
            },
            "colorscale": [
             [
              0,
              "#0d0887"
             ],
             [
              0.1111111111111111,
              "#46039f"
             ],
             [
              0.2222222222222222,
              "#7201a8"
             ],
             [
              0.3333333333333333,
              "#9c179e"
             ],
             [
              0.4444444444444444,
              "#bd3786"
             ],
             [
              0.5555555555555556,
              "#d8576b"
             ],
             [
              0.6666666666666666,
              "#ed7953"
             ],
             [
              0.7777777777777778,
              "#fb9f3a"
             ],
             [
              0.8888888888888888,
              "#fdca26"
             ],
             [
              1,
              "#f0f921"
             ]
            ],
            "type": "histogram2d"
           }
          ],
          "histogram2dcontour": [
           {
            "colorbar": {
             "outlinewidth": 0,
             "ticks": ""
            },
            "colorscale": [
             [
              0,
              "#0d0887"
             ],
             [
              0.1111111111111111,
              "#46039f"
             ],
             [
              0.2222222222222222,
              "#7201a8"
             ],
             [
              0.3333333333333333,
              "#9c179e"
             ],
             [
              0.4444444444444444,
              "#bd3786"
             ],
             [
              0.5555555555555556,
              "#d8576b"
             ],
             [
              0.6666666666666666,
              "#ed7953"
             ],
             [
              0.7777777777777778,
              "#fb9f3a"
             ],
             [
              0.8888888888888888,
              "#fdca26"
             ],
             [
              1,
              "#f0f921"
             ]
            ],
            "type": "histogram2dcontour"
           }
          ],
          "mesh3d": [
           {
            "colorbar": {
             "outlinewidth": 0,
             "ticks": ""
            },
            "type": "mesh3d"
           }
          ],
          "parcoords": [
           {
            "line": {
             "colorbar": {
              "outlinewidth": 0,
              "ticks": ""
             }
            },
            "type": "parcoords"
           }
          ],
          "pie": [
           {
            "automargin": true,
            "type": "pie"
           }
          ],
          "scatter": [
           {
            "marker": {
             "colorbar": {
              "outlinewidth": 0,
              "ticks": ""
             }
            },
            "type": "scatter"
           }
          ],
          "scatter3d": [
           {
            "line": {
             "colorbar": {
              "outlinewidth": 0,
              "ticks": ""
             }
            },
            "marker": {
             "colorbar": {
              "outlinewidth": 0,
              "ticks": ""
             }
            },
            "type": "scatter3d"
           }
          ],
          "scattercarpet": [
           {
            "marker": {
             "colorbar": {
              "outlinewidth": 0,
              "ticks": ""
             }
            },
            "type": "scattercarpet"
           }
          ],
          "scattergeo": [
           {
            "marker": {
             "colorbar": {
              "outlinewidth": 0,
              "ticks": ""
             }
            },
            "type": "scattergeo"
           }
          ],
          "scattergl": [
           {
            "marker": {
             "colorbar": {
              "outlinewidth": 0,
              "ticks": ""
             }
            },
            "type": "scattergl"
           }
          ],
          "scattermapbox": [
           {
            "marker": {
             "colorbar": {
              "outlinewidth": 0,
              "ticks": ""
             }
            },
            "type": "scattermapbox"
           }
          ],
          "scatterpolar": [
           {
            "marker": {
             "colorbar": {
              "outlinewidth": 0,
              "ticks": ""
             }
            },
            "type": "scatterpolar"
           }
          ],
          "scatterpolargl": [
           {
            "marker": {
             "colorbar": {
              "outlinewidth": 0,
              "ticks": ""
             }
            },
            "type": "scatterpolargl"
           }
          ],
          "scatterternary": [
           {
            "marker": {
             "colorbar": {
              "outlinewidth": 0,
              "ticks": ""
             }
            },
            "type": "scatterternary"
           }
          ],
          "surface": [
           {
            "colorbar": {
             "outlinewidth": 0,
             "ticks": ""
            },
            "colorscale": [
             [
              0,
              "#0d0887"
             ],
             [
              0.1111111111111111,
              "#46039f"
             ],
             [
              0.2222222222222222,
              "#7201a8"
             ],
             [
              0.3333333333333333,
              "#9c179e"
             ],
             [
              0.4444444444444444,
              "#bd3786"
             ],
             [
              0.5555555555555556,
              "#d8576b"
             ],
             [
              0.6666666666666666,
              "#ed7953"
             ],
             [
              0.7777777777777778,
              "#fb9f3a"
             ],
             [
              0.8888888888888888,
              "#fdca26"
             ],
             [
              1,
              "#f0f921"
             ]
            ],
            "type": "surface"
           }
          ],
          "table": [
           {
            "cells": {
             "fill": {
              "color": "#EBF0F8"
             },
             "line": {
              "color": "white"
             }
            },
            "header": {
             "fill": {
              "color": "#C8D4E3"
             },
             "line": {
              "color": "white"
             }
            },
            "type": "table"
           }
          ]
         },
         "layout": {
          "annotationdefaults": {
           "arrowcolor": "#2a3f5f",
           "arrowhead": 0,
           "arrowwidth": 1
          },
          "coloraxis": {
           "colorbar": {
            "outlinewidth": 0,
            "ticks": ""
           }
          },
          "colorscale": {
           "diverging": [
            [
             0,
             "#8e0152"
            ],
            [
             0.1,
             "#c51b7d"
            ],
            [
             0.2,
             "#de77ae"
            ],
            [
             0.3,
             "#f1b6da"
            ],
            [
             0.4,
             "#fde0ef"
            ],
            [
             0.5,
             "#f7f7f7"
            ],
            [
             0.6,
             "#e6f5d0"
            ],
            [
             0.7,
             "#b8e186"
            ],
            [
             0.8,
             "#7fbc41"
            ],
            [
             0.9,
             "#4d9221"
            ],
            [
             1,
             "#276419"
            ]
           ],
           "sequential": [
            [
             0,
             "#0d0887"
            ],
            [
             0.1111111111111111,
             "#46039f"
            ],
            [
             0.2222222222222222,
             "#7201a8"
            ],
            [
             0.3333333333333333,
             "#9c179e"
            ],
            [
             0.4444444444444444,
             "#bd3786"
            ],
            [
             0.5555555555555556,
             "#d8576b"
            ],
            [
             0.6666666666666666,
             "#ed7953"
            ],
            [
             0.7777777777777778,
             "#fb9f3a"
            ],
            [
             0.8888888888888888,
             "#fdca26"
            ],
            [
             1,
             "#f0f921"
            ]
           ],
           "sequentialminus": [
            [
             0,
             "#0d0887"
            ],
            [
             0.1111111111111111,
             "#46039f"
            ],
            [
             0.2222222222222222,
             "#7201a8"
            ],
            [
             0.3333333333333333,
             "#9c179e"
            ],
            [
             0.4444444444444444,
             "#bd3786"
            ],
            [
             0.5555555555555556,
             "#d8576b"
            ],
            [
             0.6666666666666666,
             "#ed7953"
            ],
            [
             0.7777777777777778,
             "#fb9f3a"
            ],
            [
             0.8888888888888888,
             "#fdca26"
            ],
            [
             1,
             "#f0f921"
            ]
           ]
          },
          "colorway": [
           "#636efa",
           "#EF553B",
           "#00cc96",
           "#ab63fa",
           "#FFA15A",
           "#19d3f3",
           "#FF6692",
           "#B6E880",
           "#FF97FF",
           "#FECB52"
          ],
          "font": {
           "color": "#2a3f5f"
          },
          "geo": {
           "bgcolor": "white",
           "lakecolor": "white",
           "landcolor": "#E5ECF6",
           "showlakes": true,
           "showland": true,
           "subunitcolor": "white"
          },
          "hoverlabel": {
           "align": "left"
          },
          "hovermode": "closest",
          "mapbox": {
           "style": "light"
          },
          "paper_bgcolor": "white",
          "plot_bgcolor": "#E5ECF6",
          "polar": {
           "angularaxis": {
            "gridcolor": "white",
            "linecolor": "white",
            "ticks": ""
           },
           "bgcolor": "#E5ECF6",
           "radialaxis": {
            "gridcolor": "white",
            "linecolor": "white",
            "ticks": ""
           }
          },
          "scene": {
           "xaxis": {
            "backgroundcolor": "#E5ECF6",
            "gridcolor": "white",
            "gridwidth": 2,
            "linecolor": "white",
            "showbackground": true,
            "ticks": "",
            "zerolinecolor": "white"
           },
           "yaxis": {
            "backgroundcolor": "#E5ECF6",
            "gridcolor": "white",
            "gridwidth": 2,
            "linecolor": "white",
            "showbackground": true,
            "ticks": "",
            "zerolinecolor": "white"
           },
           "zaxis": {
            "backgroundcolor": "#E5ECF6",
            "gridcolor": "white",
            "gridwidth": 2,
            "linecolor": "white",
            "showbackground": true,
            "ticks": "",
            "zerolinecolor": "white"
           }
          },
          "shapedefaults": {
           "line": {
            "color": "#2a3f5f"
           }
          },
          "ternary": {
           "aaxis": {
            "gridcolor": "white",
            "linecolor": "white",
            "ticks": ""
           },
           "baxis": {
            "gridcolor": "white",
            "linecolor": "white",
            "ticks": ""
           },
           "bgcolor": "#E5ECF6",
           "caxis": {
            "gridcolor": "white",
            "linecolor": "white",
            "ticks": ""
           }
          },
          "title": {
           "x": 0.05
          },
          "xaxis": {
           "automargin": true,
           "gridcolor": "white",
           "linecolor": "white",
           "ticks": "",
           "title": {
            "standoff": 15
           },
           "zerolinecolor": "white",
           "zerolinewidth": 2
          },
          "yaxis": {
           "automargin": true,
           "gridcolor": "white",
           "linecolor": "white",
           "ticks": "",
           "title": {
            "standoff": 15
           },
           "zerolinecolor": "white",
           "zerolinewidth": 2
          }
         }
        },
        "title": {
         "text": "Variable Summary"
        }
       }
      },
      "text/html": [
       "<div>\n",
       "        \n",
       "        \n",
       "            <div id=\"dc4536d7-e07e-4ea0-8b26-33bff58acd47\" class=\"plotly-graph-div\" style=\"height:525px; width:100%;\"></div>\n",
       "            <script type=\"text/javascript\">\n",
       "                require([\"plotly\"], function(Plotly) {\n",
       "                    window.PLOTLYENV=window.PLOTLYENV || {};\n",
       "                    \n",
       "                if (document.getElementById(\"dc4536d7-e07e-4ea0-8b26-33bff58acd47\")) {\n",
       "                    Plotly.newPlot(\n",
       "                        'dc4536d7-e07e-4ea0-8b26-33bff58acd47',\n",
       "                        [{\"cells\": {\"fill\": {\"color\": [\"lightgrey\", \"#F5F8FF\"]}, \"line\": {\"color\": [\"#506784\"]}, \"values\": [[\"gender\", \"SeniorCitizen\", \"Partner\", \"Dependents\", \"tenure\", \"PhoneService\", \"OnlineSecurity\", \"OnlineBackup\", \"DeviceProtection\", \"TechSupport\", \"StreamingTV\", \"StreamingMovies\", \"PaperlessBilling\", \"MonthlyCharges\", \"TotalCharges\", \"Churn\", \"MultipleLines_No\", \"MultipleLines_No phone service\", \"MultipleLines_Yes\", \"InternetService_DSL\", \"InternetService_Fiber optic\", \"InternetService_No\", \"Contract_Month-to-month\", \"Contract_One year\", \"Contract_Two year\", \"PaymentMethod_Bank transfer (automatic)\", \"PaymentMethod_Credit card (automatic)\", \"PaymentMethod_Electronic check\", \"PaymentMethod_Mailed check\", \"tenure_group_Tenure_0-12\", \"tenure_group_Tenure_12-24\", \"tenure_group_Tenure_24-48\", \"tenure_group_Tenure_48-60\", \"tenure_group_Tenure_gt_60\"], [7032.0, 7032.0, 7032.0, 7032.0, 7032.0, 7032.0, 7032.0, 7032.0, 7032.0, 7032.0, 7032.0, 7032.0, 7032.0, 7032.0, 7032.0, 7032.0, 7032.0, 7032.0, 7032.0, 7032.0, 7032.0, 7032.0, 7032.0, 7032.0, 7032.0, 7032.0, 7032.0, 7032.0, 7032.0, 7032.0, 7032.0, 7032.0, 7032.0, 7032.0], [0.505, 0.162, 0.483, 0.298, 32.422, 0.903, 0.287, 0.345, 0.344, 0.29, 0.384, 0.388, 0.593, 64.798, 2283.3, 0.266, 0.481, 0.097, 0.422, 0.344, 0.44, 0.216, 0.551, 0.209, 0.24, 0.219, 0.216, 0.336, 0.228, 0.309, 0.146, 0.227, 0.118, 0.2], [0.5, 0.369, 0.5, 0.458, 24.545, 0.296, 0.452, 0.475, 0.475, 0.454, 0.486, 0.487, 0.491, 30.086, 2266.771, 0.442, 0.5, 0.296, 0.494, 0.475, 0.496, 0.412, 0.497, 0.407, 0.427, 0.414, 0.412, 0.472, 0.42, 0.462, 0.353, 0.419, 0.323, 0.4], [0.0, 0.0, 0.0, 0.0, 1.0, 0.0, 0.0, 0.0, 0.0, 0.0, 0.0, 0.0, 0.0, 18.25, 18.8, 0.0, 0.0, 0.0, 0.0, 0.0, 0.0, 0.0, 0.0, 0.0, 0.0, 0.0, 0.0, 0.0, 0.0, 0.0, 0.0, 0.0, 0.0, 0.0], [0.0, 0.0, 0.0, 0.0, 9.0, 1.0, 0.0, 0.0, 0.0, 0.0, 0.0, 0.0, 0.0, 35.588, 401.45, 0.0, 0.0, 0.0, 0.0, 0.0, 0.0, 0.0, 0.0, 0.0, 0.0, 0.0, 0.0, 0.0, 0.0, 0.0, 0.0, 0.0, 0.0, 0.0], [1.0, 0.0, 0.0, 0.0, 29.0, 1.0, 0.0, 0.0, 0.0, 0.0, 0.0, 0.0, 1.0, 70.35, 1397.475, 0.0, 0.0, 0.0, 0.0, 0.0, 0.0, 0.0, 1.0, 0.0, 0.0, 0.0, 0.0, 0.0, 0.0, 0.0, 0.0, 0.0, 0.0, 0.0], [1.0, 0.0, 1.0, 1.0, 55.0, 1.0, 1.0, 1.0, 1.0, 1.0, 1.0, 1.0, 1.0, 89.862, 3794.738, 1.0, 1.0, 0.0, 1.0, 1.0, 1.0, 0.0, 1.0, 0.0, 0.0, 0.0, 0.0, 1.0, 0.0, 1.0, 0.0, 0.0, 0.0, 0.0], [1.0, 1.0, 1.0, 1.0, 72.0, 1.0, 1.0, 1.0, 1.0, 1.0, 1.0, 1.0, 1.0, 118.75, 8684.8, 1.0, 1.0, 1.0, 1.0, 1.0, 1.0, 1.0, 1.0, 1.0, 1.0, 1.0, 1.0, 1.0, 1.0, 1.0, 1.0, 1.0, 1.0, 1.0]]}, \"columnwidth\": [200, 60, 100, 100, 60, 60, 80, 80, 80], \"header\": {\"fill\": {\"color\": [\"#119DFF\"]}, \"line\": {\"color\": [\"#506784\"]}, \"values\": [\"feature\", \"count\", \"mean\", \"std\", \"min\", \"25%\", \"50%\", \"75%\", \"max\"]}, \"type\": \"table\"}],\n",
       "                        {\"template\": {\"data\": {\"bar\": [{\"error_x\": {\"color\": \"#2a3f5f\"}, \"error_y\": {\"color\": \"#2a3f5f\"}, \"marker\": {\"line\": {\"color\": \"#E5ECF6\", \"width\": 0.5}}, \"type\": \"bar\"}], \"barpolar\": [{\"marker\": {\"line\": {\"color\": \"#E5ECF6\", \"width\": 0.5}}, \"type\": \"barpolar\"}], \"carpet\": [{\"aaxis\": {\"endlinecolor\": \"#2a3f5f\", \"gridcolor\": \"white\", \"linecolor\": \"white\", \"minorgridcolor\": \"white\", \"startlinecolor\": \"#2a3f5f\"}, \"baxis\": {\"endlinecolor\": \"#2a3f5f\", \"gridcolor\": \"white\", \"linecolor\": \"white\", \"minorgridcolor\": \"white\", \"startlinecolor\": \"#2a3f5f\"}, \"type\": \"carpet\"}], \"choropleth\": [{\"colorbar\": {\"outlinewidth\": 0, \"ticks\": \"\"}, \"type\": \"choropleth\"}], \"contour\": [{\"colorbar\": {\"outlinewidth\": 0, \"ticks\": \"\"}, \"colorscale\": [[0.0, \"#0d0887\"], [0.1111111111111111, \"#46039f\"], [0.2222222222222222, \"#7201a8\"], [0.3333333333333333, \"#9c179e\"], [0.4444444444444444, \"#bd3786\"], [0.5555555555555556, \"#d8576b\"], [0.6666666666666666, \"#ed7953\"], [0.7777777777777778, \"#fb9f3a\"], [0.8888888888888888, \"#fdca26\"], [1.0, \"#f0f921\"]], \"type\": \"contour\"}], \"contourcarpet\": [{\"colorbar\": {\"outlinewidth\": 0, \"ticks\": \"\"}, \"type\": \"contourcarpet\"}], \"heatmap\": [{\"colorbar\": {\"outlinewidth\": 0, \"ticks\": \"\"}, \"colorscale\": [[0.0, \"#0d0887\"], [0.1111111111111111, \"#46039f\"], [0.2222222222222222, \"#7201a8\"], [0.3333333333333333, \"#9c179e\"], [0.4444444444444444, \"#bd3786\"], [0.5555555555555556, \"#d8576b\"], [0.6666666666666666, \"#ed7953\"], [0.7777777777777778, \"#fb9f3a\"], [0.8888888888888888, \"#fdca26\"], [1.0, \"#f0f921\"]], \"type\": \"heatmap\"}], \"heatmapgl\": [{\"colorbar\": {\"outlinewidth\": 0, \"ticks\": \"\"}, \"colorscale\": [[0.0, \"#0d0887\"], [0.1111111111111111, \"#46039f\"], [0.2222222222222222, \"#7201a8\"], [0.3333333333333333, \"#9c179e\"], [0.4444444444444444, \"#bd3786\"], [0.5555555555555556, \"#d8576b\"], [0.6666666666666666, \"#ed7953\"], [0.7777777777777778, \"#fb9f3a\"], [0.8888888888888888, \"#fdca26\"], [1.0, \"#f0f921\"]], \"type\": \"heatmapgl\"}], \"histogram\": [{\"marker\": {\"colorbar\": {\"outlinewidth\": 0, \"ticks\": \"\"}}, \"type\": \"histogram\"}], \"histogram2d\": [{\"colorbar\": {\"outlinewidth\": 0, \"ticks\": \"\"}, \"colorscale\": [[0.0, \"#0d0887\"], [0.1111111111111111, \"#46039f\"], [0.2222222222222222, \"#7201a8\"], [0.3333333333333333, \"#9c179e\"], [0.4444444444444444, \"#bd3786\"], [0.5555555555555556, \"#d8576b\"], [0.6666666666666666, \"#ed7953\"], [0.7777777777777778, \"#fb9f3a\"], [0.8888888888888888, \"#fdca26\"], [1.0, \"#f0f921\"]], \"type\": \"histogram2d\"}], \"histogram2dcontour\": [{\"colorbar\": {\"outlinewidth\": 0, \"ticks\": \"\"}, \"colorscale\": [[0.0, \"#0d0887\"], [0.1111111111111111, \"#46039f\"], [0.2222222222222222, \"#7201a8\"], [0.3333333333333333, \"#9c179e\"], [0.4444444444444444, \"#bd3786\"], [0.5555555555555556, \"#d8576b\"], [0.6666666666666666, \"#ed7953\"], [0.7777777777777778, \"#fb9f3a\"], [0.8888888888888888, \"#fdca26\"], [1.0, \"#f0f921\"]], \"type\": \"histogram2dcontour\"}], \"mesh3d\": [{\"colorbar\": {\"outlinewidth\": 0, \"ticks\": \"\"}, \"type\": \"mesh3d\"}], \"parcoords\": [{\"line\": {\"colorbar\": {\"outlinewidth\": 0, \"ticks\": \"\"}}, \"type\": \"parcoords\"}], \"pie\": [{\"automargin\": true, \"type\": \"pie\"}], \"scatter\": [{\"marker\": {\"colorbar\": {\"outlinewidth\": 0, \"ticks\": \"\"}}, \"type\": \"scatter\"}], \"scatter3d\": [{\"line\": {\"colorbar\": {\"outlinewidth\": 0, \"ticks\": \"\"}}, \"marker\": {\"colorbar\": {\"outlinewidth\": 0, \"ticks\": \"\"}}, \"type\": \"scatter3d\"}], \"scattercarpet\": [{\"marker\": {\"colorbar\": {\"outlinewidth\": 0, \"ticks\": \"\"}}, \"type\": \"scattercarpet\"}], \"scattergeo\": [{\"marker\": {\"colorbar\": {\"outlinewidth\": 0, \"ticks\": \"\"}}, \"type\": \"scattergeo\"}], \"scattergl\": [{\"marker\": {\"colorbar\": {\"outlinewidth\": 0, \"ticks\": \"\"}}, \"type\": \"scattergl\"}], \"scattermapbox\": [{\"marker\": {\"colorbar\": {\"outlinewidth\": 0, \"ticks\": \"\"}}, \"type\": \"scattermapbox\"}], \"scatterpolar\": [{\"marker\": {\"colorbar\": {\"outlinewidth\": 0, \"ticks\": \"\"}}, \"type\": \"scatterpolar\"}], \"scatterpolargl\": [{\"marker\": {\"colorbar\": {\"outlinewidth\": 0, \"ticks\": \"\"}}, \"type\": \"scatterpolargl\"}], \"scatterternary\": [{\"marker\": {\"colorbar\": {\"outlinewidth\": 0, \"ticks\": \"\"}}, \"type\": \"scatterternary\"}], \"surface\": [{\"colorbar\": {\"outlinewidth\": 0, \"ticks\": \"\"}, \"colorscale\": [[0.0, \"#0d0887\"], [0.1111111111111111, \"#46039f\"], [0.2222222222222222, \"#7201a8\"], [0.3333333333333333, \"#9c179e\"], [0.4444444444444444, \"#bd3786\"], [0.5555555555555556, \"#d8576b\"], [0.6666666666666666, \"#ed7953\"], [0.7777777777777778, \"#fb9f3a\"], [0.8888888888888888, \"#fdca26\"], [1.0, \"#f0f921\"]], \"type\": \"surface\"}], \"table\": [{\"cells\": {\"fill\": {\"color\": \"#EBF0F8\"}, \"line\": {\"color\": \"white\"}}, \"header\": {\"fill\": {\"color\": \"#C8D4E3\"}, \"line\": {\"color\": \"white\"}}, \"type\": \"table\"}]}, \"layout\": {\"annotationdefaults\": {\"arrowcolor\": \"#2a3f5f\", \"arrowhead\": 0, \"arrowwidth\": 1}, \"coloraxis\": {\"colorbar\": {\"outlinewidth\": 0, \"ticks\": \"\"}}, \"colorscale\": {\"diverging\": [[0, \"#8e0152\"], [0.1, \"#c51b7d\"], [0.2, \"#de77ae\"], [0.3, \"#f1b6da\"], [0.4, \"#fde0ef\"], [0.5, \"#f7f7f7\"], [0.6, \"#e6f5d0\"], [0.7, \"#b8e186\"], [0.8, \"#7fbc41\"], [0.9, \"#4d9221\"], [1, \"#276419\"]], \"sequential\": [[0.0, \"#0d0887\"], [0.1111111111111111, \"#46039f\"], [0.2222222222222222, \"#7201a8\"], [0.3333333333333333, \"#9c179e\"], [0.4444444444444444, \"#bd3786\"], [0.5555555555555556, \"#d8576b\"], [0.6666666666666666, \"#ed7953\"], [0.7777777777777778, \"#fb9f3a\"], [0.8888888888888888, \"#fdca26\"], [1.0, \"#f0f921\"]], \"sequentialminus\": [[0.0, \"#0d0887\"], [0.1111111111111111, \"#46039f\"], [0.2222222222222222, \"#7201a8\"], [0.3333333333333333, \"#9c179e\"], [0.4444444444444444, \"#bd3786\"], [0.5555555555555556, \"#d8576b\"], [0.6666666666666666, \"#ed7953\"], [0.7777777777777778, \"#fb9f3a\"], [0.8888888888888888, \"#fdca26\"], [1.0, \"#f0f921\"]]}, \"colorway\": [\"#636efa\", \"#EF553B\", \"#00cc96\", \"#ab63fa\", \"#FFA15A\", \"#19d3f3\", \"#FF6692\", \"#B6E880\", \"#FF97FF\", \"#FECB52\"], \"font\": {\"color\": \"#2a3f5f\"}, \"geo\": {\"bgcolor\": \"white\", \"lakecolor\": \"white\", \"landcolor\": \"#E5ECF6\", \"showlakes\": true, \"showland\": true, \"subunitcolor\": \"white\"}, \"hoverlabel\": {\"align\": \"left\"}, \"hovermode\": \"closest\", \"mapbox\": {\"style\": \"light\"}, \"paper_bgcolor\": \"white\", \"plot_bgcolor\": \"#E5ECF6\", \"polar\": {\"angularaxis\": {\"gridcolor\": \"white\", \"linecolor\": \"white\", \"ticks\": \"\"}, \"bgcolor\": \"#E5ECF6\", \"radialaxis\": {\"gridcolor\": \"white\", \"linecolor\": \"white\", \"ticks\": \"\"}}, \"scene\": {\"xaxis\": {\"backgroundcolor\": \"#E5ECF6\", \"gridcolor\": \"white\", \"gridwidth\": 2, \"linecolor\": \"white\", \"showbackground\": true, \"ticks\": \"\", \"zerolinecolor\": \"white\"}, \"yaxis\": {\"backgroundcolor\": \"#E5ECF6\", \"gridcolor\": \"white\", \"gridwidth\": 2, \"linecolor\": \"white\", \"showbackground\": true, \"ticks\": \"\", \"zerolinecolor\": \"white\"}, \"zaxis\": {\"backgroundcolor\": \"#E5ECF6\", \"gridcolor\": \"white\", \"gridwidth\": 2, \"linecolor\": \"white\", \"showbackground\": true, \"ticks\": \"\", \"zerolinecolor\": \"white\"}}, \"shapedefaults\": {\"line\": {\"color\": \"#2a3f5f\"}}, \"ternary\": {\"aaxis\": {\"gridcolor\": \"white\", \"linecolor\": \"white\", \"ticks\": \"\"}, \"baxis\": {\"gridcolor\": \"white\", \"linecolor\": \"white\", \"ticks\": \"\"}, \"bgcolor\": \"#E5ECF6\", \"caxis\": {\"gridcolor\": \"white\", \"linecolor\": \"white\", \"ticks\": \"\"}}, \"title\": {\"x\": 0.05}, \"xaxis\": {\"automargin\": true, \"gridcolor\": \"white\", \"linecolor\": \"white\", \"ticks\": \"\", \"title\": {\"standoff\": 15}, \"zerolinecolor\": \"white\", \"zerolinewidth\": 2}, \"yaxis\": {\"automargin\": true, \"gridcolor\": \"white\", \"linecolor\": \"white\", \"ticks\": \"\", \"title\": {\"standoff\": 15}, \"zerolinecolor\": \"white\", \"zerolinewidth\": 2}}}, \"title\": {\"text\": \"Variable Summary\"}},\n",
       "                        {\"responsive\": true}\n",
       "                    ).then(function(){\n",
       "                            \n",
       "var gd = document.getElementById('dc4536d7-e07e-4ea0-8b26-33bff58acd47');\n",
       "var x = new MutationObserver(function (mutations, observer) {{\n",
       "        var display = window.getComputedStyle(gd).display;\n",
       "        if (!display || display === 'none') {{\n",
       "            console.log([gd, 'removed!']);\n",
       "            Plotly.purge(gd);\n",
       "            observer.disconnect();\n",
       "        }}\n",
       "}});\n",
       "\n",
       "// Listen for the removal of the full notebook cells\n",
       "var notebookContainer = gd.closest('#notebook-container');\n",
       "if (notebookContainer) {{\n",
       "    x.observe(notebookContainer, {childList: true});\n",
       "}}\n",
       "\n",
       "// Listen for the clearing of the current output cell\n",
       "var outputEl = gd.closest('.output');\n",
       "if (outputEl) {{\n",
       "    x.observe(outputEl, {childList: true});\n",
       "}}\n",
       "\n",
       "                        })\n",
       "                };\n",
       "                });\n",
       "            </script>\n",
       "        </div>"
      ]
     },
     "metadata": {},
     "output_type": "display_data"
    }
   ],
   "source": [
    "summary = (df_data_og[[i for i in df_data_og.columns if i not in Id_col]].\n",
    "           describe().transpose().reset_index())\n",
    "\n",
    "summary = summary.rename(columns = {\"index\" : \"feature\"})\n",
    "summary = np.around(summary,3)\n",
    "\n",
    "val_lst = [summary['feature'], summary['count'],\n",
    "           summary['mean'],summary['std'],\n",
    "           summary['min'], summary['25%'],\n",
    "           summary['50%'], summary['75%'], summary['max']]\n",
    "\n",
    "trace  = go.Table(header = dict(values = summary.columns.tolist(),\n",
    "                                line = dict(color = ['#506784']),\n",
    "                                fill = dict(color = ['#119DFF']),\n",
    "                               ),\n",
    "                  cells  = dict(values = val_lst,\n",
    "                                line = dict(color = ['#506784']),\n",
    "                                fill = dict(color = [\"lightgrey\",'#F5F8FF'])\n",
    "                               ),\n",
    "                  columnwidth = [200,60,100,100,60,60,80,80,80])\n",
    "layout = go.Layout(dict(title = \"Variable Summary\"))\n",
    "figure = go.Figure(data=[trace],layout=layout)\n",
    "py.iplot(figure)"
   ]
  },
  {
   "cell_type": "markdown",
   "metadata": {},
   "source": [
    "### Feature Correlation "
   ]
  },
  {
   "cell_type": "code",
   "execution_count": 110,
   "metadata": {},
   "outputs": [
    {
     "data": {
      "application/vnd.plotly.v1+json": {
       "config": {
        "linkText": "Export to plot.ly",
        "plotlyServerURL": "https://plot.ly",
        "showLink": false
       },
       "data": [
        {
         "colorbar": {
          "title": {
           "side": "right",
           "text": "Pearson Correlation coefficient"
          }
         },
         "colorscale": [
          [
           0,
           "#440154"
          ],
          [
           0.1111111111111111,
           "#482878"
          ],
          [
           0.2222222222222222,
           "#3e4989"
          ],
          [
           0.3333333333333333,
           "#31688e"
          ],
          [
           0.4444444444444444,
           "#26828e"
          ],
          [
           0.5555555555555556,
           "#1f9e89"
          ],
          [
           0.6666666666666666,
           "#35b779"
          ],
          [
           0.7777777777777778,
           "#6ece58"
          ],
          [
           0.8888888888888888,
           "#b5de2b"
          ],
          [
           1,
           "#fde725"
          ]
         ],
         "type": "heatmap",
         "x": [
          "gender",
          "SeniorCitizen",
          "Partner",
          "Dependents",
          "PhoneService",
          "OnlineSecurity",
          "OnlineBackup",
          "DeviceProtection",
          "TechSupport",
          "StreamingTV",
          "StreamingMovies",
          "PaperlessBilling",
          "Churn",
          "MultipleLines_No",
          "MultipleLines_No phone service",
          "MultipleLines_Yes",
          "InternetService_DSL",
          "InternetService_Fiber optic",
          "InternetService_No",
          "Contract_Month-to-month",
          "Contract_One year",
          "Contract_Two year",
          "PaymentMethod_Bank transfer (automatic)",
          "PaymentMethod_Credit card (automatic)",
          "PaymentMethod_Electronic check",
          "PaymentMethod_Mailed check",
          "tenure_group_Tenure_0-12",
          "tenure_group_Tenure_12-24",
          "tenure_group_Tenure_24-48",
          "tenure_group_Tenure_48-60",
          "tenure_group_Tenure_gt_60",
          "tenure",
          "MonthlyCharges",
          "TotalCharges"
         ],
         "y": [
          "gender",
          "SeniorCitizen",
          "Partner",
          "Dependents",
          "PhoneService",
          "OnlineSecurity",
          "OnlineBackup",
          "DeviceProtection",
          "TechSupport",
          "StreamingTV",
          "StreamingMovies",
          "PaperlessBilling",
          "Churn",
          "MultipleLines_No",
          "MultipleLines_No phone service",
          "MultipleLines_Yes",
          "InternetService_DSL",
          "InternetService_Fiber optic",
          "InternetService_No",
          "Contract_Month-to-month",
          "Contract_One year",
          "Contract_Two year",
          "PaymentMethod_Bank transfer (automatic)",
          "PaymentMethod_Credit card (automatic)",
          "PaymentMethod_Electronic check",
          "PaymentMethod_Mailed check",
          "tenure_group_Tenure_0-12",
          "tenure_group_Tenure_12-24",
          "tenure_group_Tenure_24-48",
          "tenure_group_Tenure_48-60",
          "tenure_group_Tenure_gt_60",
          "tenure",
          "MonthlyCharges",
          "TotalCharges"
         ],
         "z": [
          [
           1,
           -0.001819390613419179,
           -0.0013790513218356025,
           0.010348917127614397,
           -0.007514979909200033,
           -0.01632782307070617,
           -0.013092839264555001,
           -0.0008067457759124324,
           -0.008507162405232782,
           -0.0071243969867245535,
           -0.010105418366566195,
           -0.011901894766838502,
           -0.008544643224947218,
           0.0043346914502916285,
           0.0075149799091999425,
           -0.008882737146286056,
           0.00758357610303961,
           -0.011189259276385864,
           0.004744965758849955,
           -0.0032507651194551004,
           0.0077548529142672145,
           -0.003603167413572989,
           -0.015973079031173835,
           0.001631872518613598,
           0.0008437084888753327,
           0.01319936726545174,
           -0.0010503798619876774,
           -0.0006494991207074467,
           -0.010516394125351592,
           -0.004318975744551275,
           0.01627881894278637,
           0.005285371870295646,
           -0.013779327268354416,
           4.783950839776602e-05
          ],
          [
           -0.001819390613419179,
           1,
           0.01695661453202187,
           -0.21055006112684216,
           0.008391611911217043,
           -0.0385763901686064,
           0.06666279065142021,
           0.059513871482029225,
           -0.060576839406188035,
           0.10544501753678828,
           0.11984236746151568,
           0.15625775052783097,
           0.1505410534156757,
           -0.13637672686229402,
           -0.008391611911217034,
           0.14299625086621018,
           -0.10827563872848943,
           0.25492331502717946,
           -0.18251949495535458,
           0.13775207088551514,
           -0.0464907545657889,
           -0.11620511425710835,
           -0.01623474200582214,
           -0.024359419683712323,
           0.17132216591713703,
           -0.15298719260173027,
           -0.02771322371899571,
           0.0018604411671567017,
           0.02038346087056509,
           0.01418568213097567,
           -0.0024069937431968856,
           0.01568347989913396,
           0.21987422950593646,
           0.10241060539532633
          ],
          [
           -0.0013790513218356025,
           0.01695661453202187,
           1,
           0.45226888584550023,
           0.018397189302703662,
           0.14334606167364233,
           0.14184917072520303,
           0.1535564364182745,
           0.12020601780298455,
           0.12448262672518244,
           0.11810820943292764,
           -0.013956696136191696,
           -0.14998192562006138,
           -0.13002839561671578,
           -0.018397189302703666,
           0.1425612874681736,
           -0.0010430787434336079,
           0.0012346095228208073,
           -0.0002855204740384597,
           -0.2802019157901561,
           0.08306706395255747,
           0.24733370647615796,
           0.11140561212215645,
           0.08232738919649572,
           -0.08320661736633733,
           -0.09694798339506473,
           -0.30506147447521575,
           -0.048481275955609554,
           0.028467762106169584,
           0.10534126166196492,
           0.28035324824529767,
           0.38191150910757077,
           0.09782497186892049,
           0.31907236323857324
          ],
          [
           0.010348917127614397,
           -0.21055006112684216,
           0.45226888584550023,
           1,
           -0.001077812708067608,
           0.08078553224088346,
           0.023638813060609963,
           0.013899668260943368,
           0.06305315799997827,
           -0.01649868035801052,
           -0.03837492560091315,
           -0.11013068597336993,
           -0.16312843938822,
           0.023387669506115295,
           0.0010778127080674446,
           -0.024306661314620996,
           0.05159321756471237,
           -0.16410089031864167,
           0.13838288994798562,
           -0.2297147909213749,
           0.06922205672629726,
           0.2016993304297039,
           0.05236890928127545,
           0.06113408322897806,
           -0.1492739811934336,
           0.05644841359590588,
           -0.1453791450700764,
           -0.0014594010172321779,
           0.02464494581436856,
           0.03141940765317757,
           0.1180897178470907,
           0.16338596691556453,
           -0.11234295350128225,
           0.0646532494217739
          ],
          [
           -0.007514979909200033,
           0.008391611911217043,
           0.018397189302703662,
           -0.001077812708067608,
           1,
           -0.09167570469500017,
           -0.05213341919796151,
           -0.07007561533228862,
           -0.09513849428922488,
           -0.021382711870578185,
           -0.03347749718236395,
           0.016696123642784135,
           0.011691398865422323,
           0.31521775126801543,
           -1,
           0.2795295400049995,
           -0.45225528090657086,
           0.29018311793843365,
           0.1718171065699321,
           -0.0012425134067734023,
           -0.0031417807184111624,
           0.0044422513152849235,
           0.008271245210923577,
           -0.006916252198127548,
           0.0027471183312986857,
           -0.004462839400732194,
           -0.00694955039725527,
           0.012306612692869211,
           -0.014777815951004124,
           -0.009750281447949313,
           0.020515848357693,
           0.007877333295041818,
           0.2480330664757158,
           0.11300826095473893
          ],
          [
           -0.01632782307070617,
           -0.0385763901686064,
           0.14334606167364233,
           0.08078553224088346,
           -0.09167570469500017,
           1,
           0.28328454262626757,
           0.274875003842449,
           0.35445796164509147,
           0.1755144708953688,
           0.18742584957299618,
           -0.004051250607988492,
           -0.17126992353351678,
           -0.15167751168612081,
           0.09167570469500017,
           0.0985919934252315,
           0.3203433737595294,
           -0.03050626904076453,
           -0.33279949932167546,
           -0.24684428487400414,
           0.10065777311969464,
           0.19169819815673583,
           0.09436639279979232,
           0.11547320256635303,
           -0.11229466175861408,
           -0.07991768713640306,
           -0.24240887436050382,
           -0.0556619409198579,
           0.0076950987178344265,
           0.0716632710172793,
           0.26322845571231857,
           0.32829748818662485,
           0.2964469592375873,
           0.41261876950713655
          ],
          [
           -0.013092839264555001,
           0.06666279065142021,
           0.14184917072520303,
           0.023638813060609963,
           -0.05213341919796151,
           0.28328454262626757,
           1,
           0.30305766643807824,
           0.29370469187781045,
           0.2816010622259753,
           0.27452301070772545,
           0.12705603268686044,
           -0.08230696876508349,
           -0.2307241996493635,
           0.05213341919796151,
           0.2022283972825372,
           0.15676460995441888,
           0.16594028590307677,
           -0.3809903317320751,
           -0.16439302987919688,
           0.08411316021806066,
           0.11139068731904943,
           0.0869415675760231,
           0.09045518641091457,
           -0.00036426636786500763,
           -0.17407470231312427,
           -0.26736609150996915,
           -0.08408097138202993,
           0.023085000444599418,
           0.09919210454041022,
           0.2787875817043761,
           0.36113847824658735,
           0.4415290881871007,
           0.510100290145439
          ],
          [
           -0.0008067457759124324,
           0.059513871482029225,
           0.1535564364182745,
           0.013899668260943368,
           -0.07007561533228862,
           0.274875003842449,
           0.30305766643807824,
           1,
           0.33285005080469243,
           0.3899237975094597,
           0.4023088228216018,
           0.10407904724402045,
           -0.06619251684228997,
           -0.24084736328107104,
           0.07007561533228862,
           0.201732824517757,
           0.14514955473692903,
           0.17635617323471664,
           -0.3801513548956378,
           -0.22598757731112262,
           0.10291089629343353,
           0.16524753554250074,
           0.08304690185342707,
           0.11125168129784246,
           -0.003308493511411254,
           -0.18732483013668594,
           -0.2739200544387702,
           -0.07733200729381666,
           0.0449724925036831,
           0.07685425917962475,
           0.2755370112516221,
           0.3615199952862194,
           0.48260691224313995,
           0.5228814865154369
          ],
          [
           -0.008507162405232782,
           -0.060576839406188035,
           0.12020601780298455,
           0.06305315799997827,
           -0.09513849428922488,
           0.35445796164509147,
           0.29370469187781045,
           0.33285005080469243,
           1,
           0.277548599200549,
           0.2801552432906342,
           0.03753587307318976,
           -0.16471590834411207,
           -0.15553386914722026,
           0.09513849428922488,
           0.10042125595413272,
           0.3121832985222757,
           -0.020298967520709605,
           -0.33569508671869736,
           -0.28549086901033593,
           0.09625836225380952,
           0.24092408252256528,
           0.10047200087443556,
           0.11702370730984143,
           -0.11480726996437085,
           -0.08463055196615278,
           -0.23862820953475447,
           -0.07201850701116608,
           0.022136746625123563,
           0.06270980841796413,
           0.26539627802277554,
           0.325288454100009,
           0.33830139143424953,
           0.4328683682410939
          ],
          [
           -0.0071243969867245535,
           0.10544501753678828,
           0.12448262672518244,
           -0.01649868035801052,
           -0.021382711870578185,
           0.1755144708953688,
           0.2816010622259753,
           0.3899237975094597,
           0.277548599200549,
           1,
           0.5333800979319763,
           0.22424119793848596,
           0.06325398027519404,
           -0.26746641467807136,
           0.021382711870577976,
           0.25780350066730157,
           0.014973379079172382,
           0.3297441152730512,
           -0.41495062156578044,
           -0.11254989712217289,
           0.061929689963200855,
           0.07212357537070835,
           0.04612070051242859,
           0.040010276337768505,
           0.1447470086556032,
           -0.2477115493728633,
           -0.22076087097198827,
           -0.050234026791169964,
           0.02882937792536747,
           0.08796930347195206,
           0.1981501311372027,
           0.280263628074823,
           0.6296678921767406,
           0.5157090769923935
          ],
          [
           -0.010105418366566195,
           0.11984236746151568,
           0.11810820943292764,
           -0.03837492560091315,
           -0.03347749718236395,
           0.18742584957299618,
           0.27452301070772545,
           0.4023088228216018,
           0.2801552432906342,
           0.5333800979319763,
           1,
           0.21158250423808916,
           0.06085993668146301,
           -0.2759953197780627,
           0.03347749718236395,
           0.2591943175468362,
           0.02562310861129719,
           0.3224574540559222,
           -0.41844975538334045,
           -0.11786687989290552,
           0.06477997824381859,
           0.07560257919382919,
           0.04875484714119087,
           0.048398314068082315,
           0.13742008269944622,
           -0.2502897149395328,
           -0.2213881765552116,
           -0.054338325985925064,
           0.02504810987080452,
           0.08661557153323526,
           0.20754366554274195,
           0.2854022671060787,
           0.6272347301103788,
           0.5198665357835017
          ],
          [
           -0.011901894766838502,
           0.15625775052783097,
           -0.013956696136191696,
           -0.11013068597336993,
           0.016696123642784135,
           -0.004051250607988492,
           0.12705603268686044,
           0.10407904724402045,
           0.03753587307318976,
           0.22424119793848596,
           0.21158250423808916,
           1,
           0.19145432108006671,
           -0.1519737778021082,
           -0.016696123642784142,
           0.1637457730112591,
           -0.06338966821876392,
           0.32647017160380964,
           -0.3205922451174622,
           0.16829626845602835,
           -0.052278164693773076,
           -0.1462807050684952,
           -0.017468900682392235,
           -0.013726285095880284,
           0.20842668228002995,
           -0.20398064814312206,
           -0.003859801258113621,
           0.003328006906514837,
           -0.005388027856510724,
           0.010626123397145876,
           -0.001414839543993747,
           0.004823156615386272,
           0.3519304153712528,
           0.15782978286591698
          ],
          [
           -0.008544643224947218,
           0.1505410534156757,
           -0.14998192562006138,
           -0.16312843938822,
           0.011691398865422323,
           -0.17126992353351678,
           -0.08230696876508349,
           -0.06619251684228997,
           -0.16471590834411207,
           0.06325398027519404,
           0.06085993668146301,
           0.19145432108006671,
           1,
           -0.03265360299730401,
           -0.01169139886542221,
           0.040032739872523634,
           -0.12414142842590645,
           0.30746259069818205,
           -0.22757762044656818,
           0.40456455007784087,
           -0.17822502328994053,
           -0.30155233962397837,
           -0.1181359978280296,
           -0.1346868372340906,
           0.30145463790858057,
           -0.09077284582582087,
           0.3196275743451608,
           0.019928968647699895,
           -0.07585881574899747,
           -0.10079964105628228,
           -0.2260781096915624,
           -0.3540493589532626,
           0.1928582184700881,
           -0.1994840835675715
          ],
          [
           0.0043346914502916285,
           -0.13637672686229402,
           -0.13002839561671578,
           0.023387669506115295,
           0.31521775126801543,
           -0.15167751168612081,
           -0.2307241996493635,
           -0.24084736328107104,
           -0.15553386914722026,
           -0.26746641467807136,
           -0.2759953197780627,
           -0.1519737778021082,
           -0.03265360299730401,
           1,
           -0.3152177512680155,
           -0.8230760279128654,
           -0.06951498798055156,
           -0.19053099387424138,
           0.3099843327828031,
           0.08679791861868207,
           0.0016944436455045328,
           -0.1027560050227385,
           -0.06966277653167001,
           -0.06371157499118037,
           -0.0809902106781048,
           0.22239547449983668,
           0.25617128287621094,
           0.05170274575687212,
           -0.03215707580783382,
           -0.08063023581160907,
           -0.2427981631428492,
           -0.323890766966285,
           -0.3385136039067215,
           -0.39676537714107735
          ],
          [
           0.0075149799091999425,
           -0.008391611911217034,
           -0.018397189302703666,
           0.0010778127080674446,
           -1,
           0.09167570469500017,
           0.05213341919796151,
           0.07007561533228862,
           0.09513849428922488,
           0.021382711870577976,
           0.03347749718236395,
           -0.016696123642784142,
           -0.01169139886542221,
           -0.3152177512680155,
           1,
           -0.2795295400049995,
           0.45225528090657086,
           -0.29018311793843365,
           -0.1718171065699321,
           0.0012425134067734103,
           0.0031417807184113207,
           -0.004442251315284906,
           -0.008271245210923579,
           0.006916252198127564,
           -0.0027471183312986857,
           0.004462839400732508,
           0.006949550397255344,
           -0.012306612692869208,
           0.014777815951004133,
           0.009750281447949528,
           -0.02051584835769357,
           -0.007877333295041807,
           -0.2480330664757158,
           -0.1130082609547389
          ],
          [
           -0.008882737146286056,
           0.14299625086621018,
           0.1425612874681736,
           -0.024306661314620996,
           0.2795295400049995,
           0.0985919934252315,
           0.2022283972825372,
           0.201732824517757,
           0.10042125595413272,
           0.25780350066730157,
           0.2591943175468362,
           0.1637457730112591,
           0.040032739872523634,
           -0.8230760279128654,
           -0.2795295400049995,
           1,
           -0.2003183214156725,
           0.3664202566051166,
           -0.21079354712189471,
           -0.08855832218643561,
           -0.003594461398434266,
           0.10661820819152797,
           0.07542871730303179,
           0.06031899094084278,
           0.08358299305536028,
           -0.22767156949803466,
           -0.26333120743722876,
           -0.04494367118136859,
           0.023690157563696343,
           0.07573985650934924,
           0.25792003827196397,
           0.33239924473562554,
           0.4909121973267493,
           0.4690421356971826
          ],
          [
           0.00758357610303961,
           -0.10827563872848943,
           -0.0010430787434336079,
           0.05159321756471237,
           -0.45225528090657086,
           0.3203433737595294,
           0.15676460995441888,
           0.14514955473692903,
           0.3121832985222757,
           0.014973379079172382,
           0.02562310861129719,
           -0.06338966821876392,
           -0.12414142842590645,
           -0.06951498798055156,
           0.45225528090657086,
           -0.2003183214156725,
           1,
           -0.6416356650534906,
           -0.3799117751052334,
           -0.06522632996531619,
           0.04729967349374622,
           0.030923714855574744,
           0.02475954021490298,
           0.05122176476699011,
           -0.10429333541089097,
           0.04275388869901973,
           -0.0014704079413737543,
           -0.013428683581908657,
           -0.0004678565419111244,
           -0.00079001062411148,
           0.014665913237832425,
           0.013786269825793156,
           -0.16136793538251534,
           -0.052189866637419764
          ],
          [
           -0.011189259276385864,
           0.25492331502717946,
           0.0012346095228208073,
           -0.16410089031864167,
           0.29018311793843365,
           -0.03050626904076453,
           0.16594028590307677,
           0.17635617323471664,
           -0.020298967520709605,
           0.3297441152730512,
           0.3224574540559222,
           0.32647017160380964,
           0.30746259069818205,
           -0.19053099387424138,
           -0.29018311793843365,
           0.3664202566051166,
           -0.6416356650534906,
           1,
           -0.4657363343235562,
           0.24301351814831268,
           -0.07680902975096314,
           -0.20996452908904545,
           -0.022778855291876635,
           -0.050551991558036385,
           0.3357634768102139,
           -0.3059839224841771,
           -0.021440560786684968,
           -0.0014940221824271288,
           0.005613761063888361,
           0.01746632456448475,
           0.0061120739544805805,
           0.017929529906438778,
           0.7871948529419658,
           0.3607687920142481
          ],
          [
           0.004744965758849955,
           -0.18251949495535458,
           -0.0002855204740384597,
           0.13838288994798562,
           0.1718171065699321,
           -0.33279949932167546,
           -0.3809903317320751,
           -0.3801513548956378,
           -0.33569508671869736,
           -0.41495062156578044,
           -0.41844975538334045,
           -0.3205922451174622,
           -0.22757762044656818,
           0.3099843327828031,
           -0.1718171065699321,
           -0.21079354712189471,
           -0.3799117751052334,
           -0.4657363343235562,
           1,
           -0.217823505545489,
           0.038061459724733744,
           0.21754205606911817,
           -0.0010943032992050863,
           0.0018701145623306124,
           -0.2846082097225956,
           0.3196937439459745,
           0.027554030004254233,
           0.01729491162511594,
           -0.006230482005525746,
           -0.020153136101165186,
           -0.024291768931540957,
           -0.037528889581619734,
           -0.7631910615169571,
           -0.37487836259896
          ],
          [
           -0.0032507651194551004,
           0.13775207088551514,
           -0.2802019157901561,
           -0.2297147909213749,
           -0.0012425134067734023,
           -0.24684428487400414,
           -0.16439302987919688,
           -0.22598757731112262,
           -0.28549086901033593,
           -0.11254989712217289,
           -0.11786687989290552,
           0.16829626845602835,
           0.40456455007784087,
           0.08679791861868207,
           0.0012425134067734103,
           -0.08855832218643561,
           -0.06522632996531619,
           0.24301351814831268,
           -0.217823505545489,
           1,
           -0.5700527848944215,
           -0.6219327447713561,
           -0.18015909738683936,
           -0.20496021669474843,
           0.33087881370583405,
           0.006208692442055045,
           0.49205202568054424,
           0.14000368638519403,
           -0.05215631834144274,
           -0.19870886170688193,
           -0.47691223651608966,
           -0.649345648869048,
           0.0589334582292538,
           -0.4467758743246882
          ],
          [
           0.0077548529142672145,
           -0.0464907545657889,
           0.08306706395255747,
           0.06922205672629726,
           -0.0031417807184111624,
           0.10065777311969464,
           0.08411316021806066,
           0.10291089629343353,
           0.09625836225380952,
           0.061929689963200855,
           0.06477997824381859,
           -0.052278164693773076,
           -0.17822502328994053,
           0.0016944436455045328,
           0.0031417807184113207,
           -0.003594461398434266,
           0.04729967349374622,
           -0.07680902975096314,
           0.038061459724733744,
           -0.5700527848944215,
           1,
           -0.28884268256780254,
           0.05762874929825631,
           0.06758968145792751,
           -0.10954646682258033,
           0.0001971241890499786,
           -0.2512993032332009,
           -0.017196458507178478,
           0.15389327309228798,
           0.15891681528381144,
           0.01614171428694319,
           0.2023384083649546,
           0.004809615120440435,
           0.17056928655718714
          ],
          [
           -0.003603167413572989,
           -0.11620511425710835,
           0.24733370647615796,
           0.2016993304297039,
           0.0044422513152849235,
           0.19169819815673583,
           0.11139068731904943,
           0.16524753554250074,
           0.24092408252256528,
           0.07212357537070835,
           0.07560257919382919,
           -0.1462807050684952,
           -0.30155233962397837,
           -0.1027560050227385,
           -0.004442251315284906,
           0.10661820819152797,
           0.030923714855574744,
           -0.20996452908904545,
           0.21754205606911817,
           -0.6219327447713561,
           -0.28884268256780254,
           1,
           0.1550042180767056,
           0.17440993895950943,
           -0.28114743393395547,
           -0.007422540118618717,
           -0.33385014178843664,
           -0.14674905438081498,
           -0.08589992270093438,
           0.08008211690632902,
           0.5403360993105428,
           0.5638005002286687,
           -0.07325607300641665,
           0.35803561609140894
          ],
          [
           -0.015973079031173835,
           -0.01623474200582214,
           0.11140561212215645,
           0.05236890928127545,
           0.008271245210923577,
           0.09436639279979232,
           0.0869415675760231,
           0.08304690185342707,
           0.10047200087443556,
           0.04612070051242859,
           0.04875484714119087,
           -0.017468900682392235,
           -0.1181359978280296,
           -0.06966277653167001,
           -0.008271245210923579,
           0.07542871730303179,
           0.02475954021490298,
           -0.022778855291876635,
           -0.0010943032992050863,
           -0.18015909738683936,
           0.05762874929825631,
           0.1550042180767056,
           1,
           -0.27842319712065355,
           -0.3772703602158491,
           -0.28809669563791657,
           -0.18585512574019983,
           -0.04632871286727803,
           0.02172285552026243,
           0.060183035947993645,
           0.1842491799195877,
           0.24382246495742915,
           0.04240972759459293,
           0.18611944938877964
          ],
          [
           0.001631872518613598,
           -0.024359419683712323,
           0.08232738919649572,
           0.06113408322897806,
           -0.006916252198127548,
           0.11547320256635303,
           0.09045518641091457,
           0.11125168129784246,
           0.11702370730984143,
           0.040010276337768505,
           0.048398314068082315,
           -0.013726285095880284,
           -0.1346868372340906,
           -0.06371157499118037,
           0.006916252198127564,
           0.06031899094084278,
           0.05122176476699011,
           -0.050551991558036385,
           0.0018701145623306124,
           -0.20496021669474843,
           0.06758968145792751,
           0.17440993895950943,
           -0.27842319712065355,
           1,
           -0.37397801626928234,
           -0.28558254792863036,
           -0.18416488323856553,
           -0.03964706284937272,
           0.028232511385228868,
           0.048166948994686994,
           0.17929367300430438,
           0.23280034413314615,
           0.030054608328366407,
           0.1826633671546002
          ],
          [
           0.0008437084888753327,
           0.17132216591713703,
           -0.08320661736633733,
           -0.1492739811934336,
           0.0027471183312986857,
           -0.11229466175861408,
           -0.00036426636786500763,
           -0.003308493511411254,
           -0.11480726996437085,
           0.1447470086556032,
           0.13742008269944622,
           0.20842668228002995,
           0.30145463790858057,
           -0.0809902106781048,
           -0.0027471183312986857,
           0.08358299305536028,
           -0.10429333541089097,
           0.3357634768102139,
           -0.2846082097225956,
           0.33087881370583405,
           -0.10954646682258033,
           -0.28114743393395547,
           -0.3772703602158491,
           -0.37397801626928234,
           1,
           -0.3869714587097063,
           0.1605298863682866,
           0.030386796069204806,
           -0.011569992641797876,
           -0.030584308144429393,
           -0.1754558932547761,
           -0.21019749610817867,
           0.27111737739356384,
           -0.060436278689198375
          ],
          [
           0.01319936726545174,
           -0.15298719260173027,
           -0.09694798339506473,
           0.05644841359590588,
           -0.004462839400732194,
           -0.07991768713640306,
           -0.17407470231312427,
           -0.18732483013668594,
           -0.08463055196615278,
           -0.2477115493728633,
           -0.2502897149395328,
           -0.20398064814312206,
           -0.09077284582582087,
           0.22239547449983668,
           0.004462839400732508,
           -0.22767156949803466,
           0.04275388869901973,
           -0.3059839224841771,
           0.3196937439459745,
           0.006208692442055045,
           0.0001971241890499786,
           -0.007422540118618717,
           -0.28809669563791657,
           -0.28558254792863036,
           -0.3869714587097063,
           1,
           0.18322236745325193,
           0.05037142820607642,
           -0.03609490261093368,
           -0.07217004405828796,
           -0.16005348763614577,
           -0.23218078070201725,
           -0.37656828808083825,
           -0.29470837017550655
          ],
          [
           -0.0010503798619876774,
           -0.02771322371899571,
           -0.30506147447521575,
           -0.1453791450700764,
           -0.00694955039725527,
           -0.24240887436050382,
           -0.26736609150996915,
           -0.2739200544387702,
           -0.23862820953475447,
           -0.22076087097198827,
           -0.2213881765552116,
           -0.003859801258113621,
           0.3196275743451608,
           0.25617128287621094,
           0.006949550397255344,
           -0.26333120743722876,
           -0.0014704079413737543,
           -0.021440560786684968,
           0.027554030004254233,
           0.49205202568054424,
           -0.2512993032332009,
           -0.33385014178843664,
           -0.18585512574019983,
           -0.18416488323856553,
           0.1605298863682866,
           0.18322236745325193,
           1,
           -0.2762680073398803,
           -0.3623015030946614,
           -0.2451384283025972,
           -0.33468123603042815,
           -0.7543297340826929,
           -0.19188064290675352,
           -0.5924430690900127
          ],
          [
           -0.0006494991207074467,
           0.0018604411671567017,
           -0.048481275955609554,
           -0.0014594010172321779,
           0.012306612692869211,
           -0.0556619409198579,
           -0.08408097138202993,
           -0.07733200729381666,
           -0.07201850701116608,
           -0.050234026791169964,
           -0.054338325985925064,
           0.003328006906514837,
           0.019928968647699895,
           0.05170274575687212,
           -0.012306612692869208,
           -0.04494367118136859,
           -0.013428683581908657,
           -0.0014940221824271288,
           0.01729491162511594,
           0.14000368638519403,
           -0.017196458507178478,
           -0.14674905438081498,
           -0.04632871286727803,
           -0.03964706284937272,
           0.030386796069204806,
           0.05037142820607642,
           -0.2762680073398803,
           1,
           -0.2235164922454485,
           -0.15123448603095185,
           -0.20647658168386077,
           -0.23667330012633156,
           -0.04722022100509185,
           -0.21074518016919763
          ],
          [
           -0.010516394125351592,
           0.02038346087056509,
           0.028467762106169584,
           0.02464494581436856,
           -0.014777815951004124,
           0.0076950987178344265,
           0.023085000444599418,
           0.0449724925036831,
           0.022136746625123563,
           0.02882937792536747,
           0.02504810987080452,
           -0.005388027856510724,
           -0.07585881574899747,
           -0.03215707580783382,
           0.014777815951004133,
           0.023690157563696343,
           -0.0004678565419111244,
           0.005613761063888361,
           -0.006230482005525746,
           -0.05215631834144274,
           0.15389327309228798,
           -0.08589992270093438,
           0.02172285552026243,
           0.028232511385228868,
           -0.011569992641797876,
           -0.03609490261093368,
           -0.3623015030946614,
           -0.2235164922454485,
           1,
           -0.19833089664036088,
           -0.270776108381858,
           0.08315302530583908,
           0.020378382125023714,
           0.025594453789595965
          ],
          [
           -0.004318975744551275,
           0.01418568213097567,
           0.10534126166196492,
           0.03141940765317757,
           -0.009750281447949313,
           0.0716632710172793,
           0.09919210454041022,
           0.07685425917962475,
           0.06270980841796413,
           0.08796930347195206,
           0.08661557153323526,
           0.010626123397145876,
           -0.10079964105628228,
           -0.08063023581160907,
           0.009750281447949528,
           0.07573985650934924,
           -0.00079001062411148,
           0.01746632456448475,
           -0.020153136101165186,
           -0.19870886170688193,
           0.15891681528381144,
           0.08008211690632902,
           0.060183035947993645,
           0.048166948994686994,
           -0.030584308144429393,
           -0.07217004405828796,
           -0.2451384283025972,
           -0.15123448603095185,
           -0.19833089664036088,
           1,
           -0.18321102469526726,
           0.3293670640558551,
           0.07004784345008332,
           0.2529046056409522
          ],
          [
           0.01627881894278637,
           -0.0024069937431968856,
           0.28035324824529767,
           0.1180897178470907,
           0.020515848357693,
           0.26322845571231857,
           0.2787875817043761,
           0.2755370112516221,
           0.26539627802277554,
           0.1981501311372027,
           0.20754366554274195,
           -0.001414839543993747,
           -0.2260781096915624,
           -0.2427981631428492,
           -0.02051584835769357,
           0.25792003827196397,
           0.014665913237832425,
           0.0061120739544805805,
           -0.024291768931540957,
           -0.47691223651608966,
           0.01614171428694319,
           0.5403360993105428,
           0.1842491799195877,
           0.17929367300430438,
           -0.1754558932547761,
           -0.16005348763614577,
           -0.33468123603042815,
           -0.20647658168386077,
           -0.270776108381858,
           -0.18321102469526726,
           1,
           0.7272367846079387,
           0.18543957041906836,
           0.6393119430257832
          ],
          [
           0.005285371870295646,
           0.01568347989913396,
           0.38191150910757077,
           0.16338596691556453,
           0.007877333295041818,
           0.32829748818662485,
           0.36113847824658735,
           0.3615199952862194,
           0.325288454100009,
           0.280263628074823,
           0.2854022671060787,
           0.004823156615386272,
           -0.3540493589532626,
           -0.323890766966285,
           -0.007877333295041807,
           0.33239924473562554,
           0.013786269825793156,
           0.017929529906438778,
           -0.037528889581619734,
           -0.649345648869048,
           0.2023384083649546,
           0.5638005002286687,
           0.24382246495742915,
           0.23280034413314615,
           -0.21019749610817867,
           -0.23218078070201725,
           -0.7543297340826929,
           -0.23667330012633156,
           0.08315302530583908,
           0.3293670640558551,
           0.7272367846079387,
           1,
           0.2468617666408947,
           0.8258804609332017
          ],
          [
           -0.013779327268354416,
           0.21987422950593646,
           0.09782497186892049,
           -0.11234295350128225,
           0.2480330664757158,
           0.2964469592375873,
           0.4415290881871007,
           0.48260691224313995,
           0.33830139143424953,
           0.6296678921767406,
           0.6272347301103788,
           0.3519304153712528,
           0.1928582184700881,
           -0.3385136039067215,
           -0.2480330664757158,
           0.4909121973267493,
           -0.16136793538251534,
           0.7871948529419658,
           -0.7631910615169571,
           0.0589334582292538,
           0.004809615120440435,
           -0.07325607300641665,
           0.04240972759459293,
           0.030054608328366407,
           0.27111737739356384,
           -0.37656828808083825,
           -0.19188064290675352,
           -0.04722022100509185,
           0.020378382125023714,
           0.07004784345008332,
           0.18543957041906836,
           0.2468617666408947,
           1,
           0.6510648032262032
          ],
          [
           4.783950839776602e-05,
           0.10241060539532633,
           0.31907236323857324,
           0.0646532494217739,
           0.11300826095473893,
           0.41261876950713655,
           0.510100290145439,
           0.5228814865154369,
           0.4328683682410939,
           0.5157090769923935,
           0.5198665357835017,
           0.15782978286591698,
           -0.1994840835675715,
           -0.39676537714107735,
           -0.1130082609547389,
           0.4690421356971826,
           -0.052189866637419764,
           0.3607687920142481,
           -0.37487836259896,
           -0.4467758743246882,
           0.17056928655718714,
           0.35803561609140894,
           0.18611944938877964,
           0.1826633671546002,
           -0.060436278689198375,
           -0.29470837017550655,
           -0.5924430690900127,
           -0.21074518016919763,
           0.025594453789595965,
           0.2529046056409522,
           0.6393119430257832,
           0.8258804609332017,
           0.6510648032262032,
           1
          ]
         ]
        }
       ],
       "layout": {
        "autosize": false,
        "height": 720,
        "margin": {
         "b": 210,
         "l": 210,
         "r": 0,
         "t": 25
        },
        "template": {
         "data": {
          "bar": [
           {
            "error_x": {
             "color": "#2a3f5f"
            },
            "error_y": {
             "color": "#2a3f5f"
            },
            "marker": {
             "line": {
              "color": "#E5ECF6",
              "width": 0.5
             }
            },
            "type": "bar"
           }
          ],
          "barpolar": [
           {
            "marker": {
             "line": {
              "color": "#E5ECF6",
              "width": 0.5
             }
            },
            "type": "barpolar"
           }
          ],
          "carpet": [
           {
            "aaxis": {
             "endlinecolor": "#2a3f5f",
             "gridcolor": "white",
             "linecolor": "white",
             "minorgridcolor": "white",
             "startlinecolor": "#2a3f5f"
            },
            "baxis": {
             "endlinecolor": "#2a3f5f",
             "gridcolor": "white",
             "linecolor": "white",
             "minorgridcolor": "white",
             "startlinecolor": "#2a3f5f"
            },
            "type": "carpet"
           }
          ],
          "choropleth": [
           {
            "colorbar": {
             "outlinewidth": 0,
             "ticks": ""
            },
            "type": "choropleth"
           }
          ],
          "contour": [
           {
            "colorbar": {
             "outlinewidth": 0,
             "ticks": ""
            },
            "colorscale": [
             [
              0,
              "#0d0887"
             ],
             [
              0.1111111111111111,
              "#46039f"
             ],
             [
              0.2222222222222222,
              "#7201a8"
             ],
             [
              0.3333333333333333,
              "#9c179e"
             ],
             [
              0.4444444444444444,
              "#bd3786"
             ],
             [
              0.5555555555555556,
              "#d8576b"
             ],
             [
              0.6666666666666666,
              "#ed7953"
             ],
             [
              0.7777777777777778,
              "#fb9f3a"
             ],
             [
              0.8888888888888888,
              "#fdca26"
             ],
             [
              1,
              "#f0f921"
             ]
            ],
            "type": "contour"
           }
          ],
          "contourcarpet": [
           {
            "colorbar": {
             "outlinewidth": 0,
             "ticks": ""
            },
            "type": "contourcarpet"
           }
          ],
          "heatmap": [
           {
            "colorbar": {
             "outlinewidth": 0,
             "ticks": ""
            },
            "colorscale": [
             [
              0,
              "#0d0887"
             ],
             [
              0.1111111111111111,
              "#46039f"
             ],
             [
              0.2222222222222222,
              "#7201a8"
             ],
             [
              0.3333333333333333,
              "#9c179e"
             ],
             [
              0.4444444444444444,
              "#bd3786"
             ],
             [
              0.5555555555555556,
              "#d8576b"
             ],
             [
              0.6666666666666666,
              "#ed7953"
             ],
             [
              0.7777777777777778,
              "#fb9f3a"
             ],
             [
              0.8888888888888888,
              "#fdca26"
             ],
             [
              1,
              "#f0f921"
             ]
            ],
            "type": "heatmap"
           }
          ],
          "heatmapgl": [
           {
            "colorbar": {
             "outlinewidth": 0,
             "ticks": ""
            },
            "colorscale": [
             [
              0,
              "#0d0887"
             ],
             [
              0.1111111111111111,
              "#46039f"
             ],
             [
              0.2222222222222222,
              "#7201a8"
             ],
             [
              0.3333333333333333,
              "#9c179e"
             ],
             [
              0.4444444444444444,
              "#bd3786"
             ],
             [
              0.5555555555555556,
              "#d8576b"
             ],
             [
              0.6666666666666666,
              "#ed7953"
             ],
             [
              0.7777777777777778,
              "#fb9f3a"
             ],
             [
              0.8888888888888888,
              "#fdca26"
             ],
             [
              1,
              "#f0f921"
             ]
            ],
            "type": "heatmapgl"
           }
          ],
          "histogram": [
           {
            "marker": {
             "colorbar": {
              "outlinewidth": 0,
              "ticks": ""
             }
            },
            "type": "histogram"
           }
          ],
          "histogram2d": [
           {
            "colorbar": {
             "outlinewidth": 0,
             "ticks": ""
            },
            "colorscale": [
             [
              0,
              "#0d0887"
             ],
             [
              0.1111111111111111,
              "#46039f"
             ],
             [
              0.2222222222222222,
              "#7201a8"
             ],
             [
              0.3333333333333333,
              "#9c179e"
             ],
             [
              0.4444444444444444,
              "#bd3786"
             ],
             [
              0.5555555555555556,
              "#d8576b"
             ],
             [
              0.6666666666666666,
              "#ed7953"
             ],
             [
              0.7777777777777778,
              "#fb9f3a"
             ],
             [
              0.8888888888888888,
              "#fdca26"
             ],
             [
              1,
              "#f0f921"
             ]
            ],
            "type": "histogram2d"
           }
          ],
          "histogram2dcontour": [
           {
            "colorbar": {
             "outlinewidth": 0,
             "ticks": ""
            },
            "colorscale": [
             [
              0,
              "#0d0887"
             ],
             [
              0.1111111111111111,
              "#46039f"
             ],
             [
              0.2222222222222222,
              "#7201a8"
             ],
             [
              0.3333333333333333,
              "#9c179e"
             ],
             [
              0.4444444444444444,
              "#bd3786"
             ],
             [
              0.5555555555555556,
              "#d8576b"
             ],
             [
              0.6666666666666666,
              "#ed7953"
             ],
             [
              0.7777777777777778,
              "#fb9f3a"
             ],
             [
              0.8888888888888888,
              "#fdca26"
             ],
             [
              1,
              "#f0f921"
             ]
            ],
            "type": "histogram2dcontour"
           }
          ],
          "mesh3d": [
           {
            "colorbar": {
             "outlinewidth": 0,
             "ticks": ""
            },
            "type": "mesh3d"
           }
          ],
          "parcoords": [
           {
            "line": {
             "colorbar": {
              "outlinewidth": 0,
              "ticks": ""
             }
            },
            "type": "parcoords"
           }
          ],
          "pie": [
           {
            "automargin": true,
            "type": "pie"
           }
          ],
          "scatter": [
           {
            "marker": {
             "colorbar": {
              "outlinewidth": 0,
              "ticks": ""
             }
            },
            "type": "scatter"
           }
          ],
          "scatter3d": [
           {
            "line": {
             "colorbar": {
              "outlinewidth": 0,
              "ticks": ""
             }
            },
            "marker": {
             "colorbar": {
              "outlinewidth": 0,
              "ticks": ""
             }
            },
            "type": "scatter3d"
           }
          ],
          "scattercarpet": [
           {
            "marker": {
             "colorbar": {
              "outlinewidth": 0,
              "ticks": ""
             }
            },
            "type": "scattercarpet"
           }
          ],
          "scattergeo": [
           {
            "marker": {
             "colorbar": {
              "outlinewidth": 0,
              "ticks": ""
             }
            },
            "type": "scattergeo"
           }
          ],
          "scattergl": [
           {
            "marker": {
             "colorbar": {
              "outlinewidth": 0,
              "ticks": ""
             }
            },
            "type": "scattergl"
           }
          ],
          "scattermapbox": [
           {
            "marker": {
             "colorbar": {
              "outlinewidth": 0,
              "ticks": ""
             }
            },
            "type": "scattermapbox"
           }
          ],
          "scatterpolar": [
           {
            "marker": {
             "colorbar": {
              "outlinewidth": 0,
              "ticks": ""
             }
            },
            "type": "scatterpolar"
           }
          ],
          "scatterpolargl": [
           {
            "marker": {
             "colorbar": {
              "outlinewidth": 0,
              "ticks": ""
             }
            },
            "type": "scatterpolargl"
           }
          ],
          "scatterternary": [
           {
            "marker": {
             "colorbar": {
              "outlinewidth": 0,
              "ticks": ""
             }
            },
            "type": "scatterternary"
           }
          ],
          "surface": [
           {
            "colorbar": {
             "outlinewidth": 0,
             "ticks": ""
            },
            "colorscale": [
             [
              0,
              "#0d0887"
             ],
             [
              0.1111111111111111,
              "#46039f"
             ],
             [
              0.2222222222222222,
              "#7201a8"
             ],
             [
              0.3333333333333333,
              "#9c179e"
             ],
             [
              0.4444444444444444,
              "#bd3786"
             ],
             [
              0.5555555555555556,
              "#d8576b"
             ],
             [
              0.6666666666666666,
              "#ed7953"
             ],
             [
              0.7777777777777778,
              "#fb9f3a"
             ],
             [
              0.8888888888888888,
              "#fdca26"
             ],
             [
              1,
              "#f0f921"
             ]
            ],
            "type": "surface"
           }
          ],
          "table": [
           {
            "cells": {
             "fill": {
              "color": "#EBF0F8"
             },
             "line": {
              "color": "white"
             }
            },
            "header": {
             "fill": {
              "color": "#C8D4E3"
             },
             "line": {
              "color": "white"
             }
            },
            "type": "table"
           }
          ]
         },
         "layout": {
          "annotationdefaults": {
           "arrowcolor": "#2a3f5f",
           "arrowhead": 0,
           "arrowwidth": 1
          },
          "coloraxis": {
           "colorbar": {
            "outlinewidth": 0,
            "ticks": ""
           }
          },
          "colorscale": {
           "diverging": [
            [
             0,
             "#8e0152"
            ],
            [
             0.1,
             "#c51b7d"
            ],
            [
             0.2,
             "#de77ae"
            ],
            [
             0.3,
             "#f1b6da"
            ],
            [
             0.4,
             "#fde0ef"
            ],
            [
             0.5,
             "#f7f7f7"
            ],
            [
             0.6,
             "#e6f5d0"
            ],
            [
             0.7,
             "#b8e186"
            ],
            [
             0.8,
             "#7fbc41"
            ],
            [
             0.9,
             "#4d9221"
            ],
            [
             1,
             "#276419"
            ]
           ],
           "sequential": [
            [
             0,
             "#0d0887"
            ],
            [
             0.1111111111111111,
             "#46039f"
            ],
            [
             0.2222222222222222,
             "#7201a8"
            ],
            [
             0.3333333333333333,
             "#9c179e"
            ],
            [
             0.4444444444444444,
             "#bd3786"
            ],
            [
             0.5555555555555556,
             "#d8576b"
            ],
            [
             0.6666666666666666,
             "#ed7953"
            ],
            [
             0.7777777777777778,
             "#fb9f3a"
            ],
            [
             0.8888888888888888,
             "#fdca26"
            ],
            [
             1,
             "#f0f921"
            ]
           ],
           "sequentialminus": [
            [
             0,
             "#0d0887"
            ],
            [
             0.1111111111111111,
             "#46039f"
            ],
            [
             0.2222222222222222,
             "#7201a8"
            ],
            [
             0.3333333333333333,
             "#9c179e"
            ],
            [
             0.4444444444444444,
             "#bd3786"
            ],
            [
             0.5555555555555556,
             "#d8576b"
            ],
            [
             0.6666666666666666,
             "#ed7953"
            ],
            [
             0.7777777777777778,
             "#fb9f3a"
            ],
            [
             0.8888888888888888,
             "#fdca26"
            ],
            [
             1,
             "#f0f921"
            ]
           ]
          },
          "colorway": [
           "#636efa",
           "#EF553B",
           "#00cc96",
           "#ab63fa",
           "#FFA15A",
           "#19d3f3",
           "#FF6692",
           "#B6E880",
           "#FF97FF",
           "#FECB52"
          ],
          "font": {
           "color": "#2a3f5f"
          },
          "geo": {
           "bgcolor": "white",
           "lakecolor": "white",
           "landcolor": "#E5ECF6",
           "showlakes": true,
           "showland": true,
           "subunitcolor": "white"
          },
          "hoverlabel": {
           "align": "left"
          },
          "hovermode": "closest",
          "mapbox": {
           "style": "light"
          },
          "paper_bgcolor": "white",
          "plot_bgcolor": "#E5ECF6",
          "polar": {
           "angularaxis": {
            "gridcolor": "white",
            "linecolor": "white",
            "ticks": ""
           },
           "bgcolor": "#E5ECF6",
           "radialaxis": {
            "gridcolor": "white",
            "linecolor": "white",
            "ticks": ""
           }
          },
          "scene": {
           "xaxis": {
            "backgroundcolor": "#E5ECF6",
            "gridcolor": "white",
            "gridwidth": 2,
            "linecolor": "white",
            "showbackground": true,
            "ticks": "",
            "zerolinecolor": "white"
           },
           "yaxis": {
            "backgroundcolor": "#E5ECF6",
            "gridcolor": "white",
            "gridwidth": 2,
            "linecolor": "white",
            "showbackground": true,
            "ticks": "",
            "zerolinecolor": "white"
           },
           "zaxis": {
            "backgroundcolor": "#E5ECF6",
            "gridcolor": "white",
            "gridwidth": 2,
            "linecolor": "white",
            "showbackground": true,
            "ticks": "",
            "zerolinecolor": "white"
           }
          },
          "shapedefaults": {
           "line": {
            "color": "#2a3f5f"
           }
          },
          "ternary": {
           "aaxis": {
            "gridcolor": "white",
            "linecolor": "white",
            "ticks": ""
           },
           "baxis": {
            "gridcolor": "white",
            "linecolor": "white",
            "ticks": ""
           },
           "bgcolor": "#E5ECF6",
           "caxis": {
            "gridcolor": "white",
            "linecolor": "white",
            "ticks": ""
           }
          },
          "title": {
           "x": 0.05
          },
          "xaxis": {
           "automargin": true,
           "gridcolor": "white",
           "linecolor": "white",
           "ticks": "",
           "title": {
            "standoff": 15
           },
           "zerolinecolor": "white",
           "zerolinewidth": 2
          },
          "yaxis": {
           "automargin": true,
           "gridcolor": "white",
           "linecolor": "white",
           "ticks": "",
           "title": {
            "standoff": 15
           },
           "zerolinecolor": "white",
           "zerolinewidth": 2
          }
         }
        },
        "title": {
         "text": "Correlation Matrix for variables"
        },
        "width": 800,
        "xaxis": {
         "tickfont": {
          "size": 9
         }
        },
        "yaxis": {
         "tickfont": {
          "size": 9
         }
        }
       }
      },
      "text/html": [
       "<div>\n",
       "        \n",
       "        \n",
       "            <div id=\"96f822ed-5850-46d3-b015-b5a3711d0a02\" class=\"plotly-graph-div\" style=\"height:720px; width:800px;\"></div>\n",
       "            <script type=\"text/javascript\">\n",
       "                require([\"plotly\"], function(Plotly) {\n",
       "                    window.PLOTLYENV=window.PLOTLYENV || {};\n",
       "                    \n",
       "                if (document.getElementById(\"96f822ed-5850-46d3-b015-b5a3711d0a02\")) {\n",
       "                    Plotly.newPlot(\n",
       "                        '96f822ed-5850-46d3-b015-b5a3711d0a02',\n",
       "                        [{\"colorbar\": {\"title\": {\"side\": \"right\", \"text\": \"Pearson Correlation coefficient\"}}, \"colorscale\": [[0.0, \"#440154\"], [0.1111111111111111, \"#482878\"], [0.2222222222222222, \"#3e4989\"], [0.3333333333333333, \"#31688e\"], [0.4444444444444444, \"#26828e\"], [0.5555555555555556, \"#1f9e89\"], [0.6666666666666666, \"#35b779\"], [0.7777777777777778, \"#6ece58\"], [0.8888888888888888, \"#b5de2b\"], [1.0, \"#fde725\"]], \"type\": \"heatmap\", \"x\": [\"gender\", \"SeniorCitizen\", \"Partner\", \"Dependents\", \"PhoneService\", \"OnlineSecurity\", \"OnlineBackup\", \"DeviceProtection\", \"TechSupport\", \"StreamingTV\", \"StreamingMovies\", \"PaperlessBilling\", \"Churn\", \"MultipleLines_No\", \"MultipleLines_No phone service\", \"MultipleLines_Yes\", \"InternetService_DSL\", \"InternetService_Fiber optic\", \"InternetService_No\", \"Contract_Month-to-month\", \"Contract_One year\", \"Contract_Two year\", \"PaymentMethod_Bank transfer (automatic)\", \"PaymentMethod_Credit card (automatic)\", \"PaymentMethod_Electronic check\", \"PaymentMethod_Mailed check\", \"tenure_group_Tenure_0-12\", \"tenure_group_Tenure_12-24\", \"tenure_group_Tenure_24-48\", \"tenure_group_Tenure_48-60\", \"tenure_group_Tenure_gt_60\", \"tenure\", \"MonthlyCharges\", \"TotalCharges\"], \"y\": [\"gender\", \"SeniorCitizen\", \"Partner\", \"Dependents\", \"PhoneService\", \"OnlineSecurity\", \"OnlineBackup\", \"DeviceProtection\", \"TechSupport\", \"StreamingTV\", \"StreamingMovies\", \"PaperlessBilling\", \"Churn\", \"MultipleLines_No\", \"MultipleLines_No phone service\", \"MultipleLines_Yes\", \"InternetService_DSL\", \"InternetService_Fiber optic\", \"InternetService_No\", \"Contract_Month-to-month\", \"Contract_One year\", \"Contract_Two year\", \"PaymentMethod_Bank transfer (automatic)\", \"PaymentMethod_Credit card (automatic)\", \"PaymentMethod_Electronic check\", \"PaymentMethod_Mailed check\", \"tenure_group_Tenure_0-12\", \"tenure_group_Tenure_12-24\", \"tenure_group_Tenure_24-48\", \"tenure_group_Tenure_48-60\", \"tenure_group_Tenure_gt_60\", \"tenure\", \"MonthlyCharges\", \"TotalCharges\"], \"z\": [[1.0, -0.001819390613419179, -0.0013790513218356025, 0.010348917127614397, -0.007514979909200033, -0.01632782307070617, -0.013092839264555001, -0.0008067457759124324, -0.008507162405232782, -0.0071243969867245535, -0.010105418366566195, -0.011901894766838502, -0.008544643224947218, 0.0043346914502916285, 0.0075149799091999425, -0.008882737146286056, 0.00758357610303961, -0.011189259276385864, 0.004744965758849955, -0.0032507651194551004, 0.0077548529142672145, -0.003603167413572989, -0.015973079031173835, 0.001631872518613598, 0.0008437084888753327, 0.01319936726545174, -0.0010503798619876774, -0.0006494991207074467, -0.010516394125351592, -0.004318975744551275, 0.01627881894278637, 0.005285371870295646, -0.013779327268354416, 4.783950839776602e-05], [-0.001819390613419179, 1.0, 0.01695661453202187, -0.21055006112684216, 0.008391611911217043, -0.0385763901686064, 0.06666279065142021, 0.059513871482029225, -0.060576839406188035, 0.10544501753678828, 0.11984236746151568, 0.15625775052783097, 0.1505410534156757, -0.13637672686229402, -0.008391611911217034, 0.14299625086621018, -0.10827563872848943, 0.25492331502717946, -0.18251949495535458, 0.13775207088551514, -0.0464907545657889, -0.11620511425710835, -0.01623474200582214, -0.024359419683712323, 0.17132216591713703, -0.15298719260173027, -0.02771322371899571, 0.0018604411671567017, 0.02038346087056509, 0.01418568213097567, -0.0024069937431968856, 0.01568347989913396, 0.21987422950593646, 0.10241060539532633], [-0.0013790513218356025, 0.01695661453202187, 1.0, 0.45226888584550023, 0.018397189302703662, 0.14334606167364233, 0.14184917072520303, 0.1535564364182745, 0.12020601780298455, 0.12448262672518244, 0.11810820943292764, -0.013956696136191696, -0.14998192562006138, -0.13002839561671578, -0.018397189302703666, 0.1425612874681736, -0.0010430787434336079, 0.0012346095228208073, -0.0002855204740384597, -0.2802019157901561, 0.08306706395255747, 0.24733370647615796, 0.11140561212215645, 0.08232738919649572, -0.08320661736633733, -0.09694798339506473, -0.30506147447521575, -0.048481275955609554, 0.028467762106169584, 0.10534126166196492, 0.28035324824529767, 0.38191150910757077, 0.09782497186892049, 0.31907236323857324], [0.010348917127614397, -0.21055006112684216, 0.45226888584550023, 1.0, -0.001077812708067608, 0.08078553224088346, 0.023638813060609963, 0.013899668260943368, 0.06305315799997827, -0.01649868035801052, -0.03837492560091315, -0.11013068597336993, -0.16312843938822, 0.023387669506115295, 0.0010778127080674446, -0.024306661314620996, 0.05159321756471237, -0.16410089031864167, 0.13838288994798562, -0.2297147909213749, 0.06922205672629726, 0.2016993304297039, 0.05236890928127545, 0.06113408322897806, -0.1492739811934336, 0.05644841359590588, -0.1453791450700764, -0.0014594010172321779, 0.02464494581436856, 0.03141940765317757, 0.1180897178470907, 0.16338596691556453, -0.11234295350128225, 0.0646532494217739], [-0.007514979909200033, 0.008391611911217043, 0.018397189302703662, -0.001077812708067608, 1.0, -0.09167570469500017, -0.05213341919796151, -0.07007561533228862, -0.09513849428922488, -0.021382711870578185, -0.03347749718236395, 0.016696123642784135, 0.011691398865422323, 0.31521775126801543, -1.0, 0.2795295400049995, -0.45225528090657086, 0.29018311793843365, 0.1718171065699321, -0.0012425134067734023, -0.0031417807184111624, 0.0044422513152849235, 0.008271245210923577, -0.006916252198127548, 0.0027471183312986857, -0.004462839400732194, -0.00694955039725527, 0.012306612692869211, -0.014777815951004124, -0.009750281447949313, 0.020515848357693, 0.007877333295041818, 0.2480330664757158, 0.11300826095473893], [-0.01632782307070617, -0.0385763901686064, 0.14334606167364233, 0.08078553224088346, -0.09167570469500017, 1.0, 0.28328454262626757, 0.274875003842449, 0.35445796164509147, 0.1755144708953688, 0.18742584957299618, -0.004051250607988492, -0.17126992353351678, -0.15167751168612081, 0.09167570469500017, 0.0985919934252315, 0.3203433737595294, -0.03050626904076453, -0.33279949932167546, -0.24684428487400414, 0.10065777311969464, 0.19169819815673583, 0.09436639279979232, 0.11547320256635303, -0.11229466175861408, -0.07991768713640306, -0.24240887436050382, -0.0556619409198579, 0.0076950987178344265, 0.0716632710172793, 0.26322845571231857, 0.32829748818662485, 0.2964469592375873, 0.41261876950713655], [-0.013092839264555001, 0.06666279065142021, 0.14184917072520303, 0.023638813060609963, -0.05213341919796151, 0.28328454262626757, 1.0, 0.30305766643807824, 0.29370469187781045, 0.2816010622259753, 0.27452301070772545, 0.12705603268686044, -0.08230696876508349, -0.2307241996493635, 0.05213341919796151, 0.2022283972825372, 0.15676460995441888, 0.16594028590307677, -0.3809903317320751, -0.16439302987919688, 0.08411316021806066, 0.11139068731904943, 0.0869415675760231, 0.09045518641091457, -0.00036426636786500763, -0.17407470231312427, -0.26736609150996915, -0.08408097138202993, 0.023085000444599418, 0.09919210454041022, 0.2787875817043761, 0.36113847824658735, 0.4415290881871007, 0.510100290145439], [-0.0008067457759124324, 0.059513871482029225, 0.1535564364182745, 0.013899668260943368, -0.07007561533228862, 0.274875003842449, 0.30305766643807824, 1.0, 0.33285005080469243, 0.3899237975094597, 0.4023088228216018, 0.10407904724402045, -0.06619251684228997, -0.24084736328107104, 0.07007561533228862, 0.201732824517757, 0.14514955473692903, 0.17635617323471664, -0.3801513548956378, -0.22598757731112262, 0.10291089629343353, 0.16524753554250074, 0.08304690185342707, 0.11125168129784246, -0.003308493511411254, -0.18732483013668594, -0.2739200544387702, -0.07733200729381666, 0.0449724925036831, 0.07685425917962475, 0.2755370112516221, 0.3615199952862194, 0.48260691224313995, 0.5228814865154369], [-0.008507162405232782, -0.060576839406188035, 0.12020601780298455, 0.06305315799997827, -0.09513849428922488, 0.35445796164509147, 0.29370469187781045, 0.33285005080469243, 1.0, 0.277548599200549, 0.2801552432906342, 0.03753587307318976, -0.16471590834411207, -0.15553386914722026, 0.09513849428922488, 0.10042125595413272, 0.3121832985222757, -0.020298967520709605, -0.33569508671869736, -0.28549086901033593, 0.09625836225380952, 0.24092408252256528, 0.10047200087443556, 0.11702370730984143, -0.11480726996437085, -0.08463055196615278, -0.23862820953475447, -0.07201850701116608, 0.022136746625123563, 0.06270980841796413, 0.26539627802277554, 0.325288454100009, 0.33830139143424953, 0.4328683682410939], [-0.0071243969867245535, 0.10544501753678828, 0.12448262672518244, -0.01649868035801052, -0.021382711870578185, 0.1755144708953688, 0.2816010622259753, 0.3899237975094597, 0.277548599200549, 1.0, 0.5333800979319763, 0.22424119793848596, 0.06325398027519404, -0.26746641467807136, 0.021382711870577976, 0.25780350066730157, 0.014973379079172382, 0.3297441152730512, -0.41495062156578044, -0.11254989712217289, 0.061929689963200855, 0.07212357537070835, 0.04612070051242859, 0.040010276337768505, 0.1447470086556032, -0.2477115493728633, -0.22076087097198827, -0.050234026791169964, 0.02882937792536747, 0.08796930347195206, 0.1981501311372027, 0.280263628074823, 0.6296678921767406, 0.5157090769923935], [-0.010105418366566195, 0.11984236746151568, 0.11810820943292764, -0.03837492560091315, -0.03347749718236395, 0.18742584957299618, 0.27452301070772545, 0.4023088228216018, 0.2801552432906342, 0.5333800979319763, 1.0, 0.21158250423808916, 0.06085993668146301, -0.2759953197780627, 0.03347749718236395, 0.2591943175468362, 0.02562310861129719, 0.3224574540559222, -0.41844975538334045, -0.11786687989290552, 0.06477997824381859, 0.07560257919382919, 0.04875484714119087, 0.048398314068082315, 0.13742008269944622, -0.2502897149395328, -0.2213881765552116, -0.054338325985925064, 0.02504810987080452, 0.08661557153323526, 0.20754366554274195, 0.2854022671060787, 0.6272347301103788, 0.5198665357835017], [-0.011901894766838502, 0.15625775052783097, -0.013956696136191696, -0.11013068597336993, 0.016696123642784135, -0.004051250607988492, 0.12705603268686044, 0.10407904724402045, 0.03753587307318976, 0.22424119793848596, 0.21158250423808916, 1.0, 0.19145432108006671, -0.1519737778021082, -0.016696123642784142, 0.1637457730112591, -0.06338966821876392, 0.32647017160380964, -0.3205922451174622, 0.16829626845602835, -0.052278164693773076, -0.1462807050684952, -0.017468900682392235, -0.013726285095880284, 0.20842668228002995, -0.20398064814312206, -0.003859801258113621, 0.003328006906514837, -0.005388027856510724, 0.010626123397145876, -0.001414839543993747, 0.004823156615386272, 0.3519304153712528, 0.15782978286591698], [-0.008544643224947218, 0.1505410534156757, -0.14998192562006138, -0.16312843938822, 0.011691398865422323, -0.17126992353351678, -0.08230696876508349, -0.06619251684228997, -0.16471590834411207, 0.06325398027519404, 0.06085993668146301, 0.19145432108006671, 1.0, -0.03265360299730401, -0.01169139886542221, 0.040032739872523634, -0.12414142842590645, 0.30746259069818205, -0.22757762044656818, 0.40456455007784087, -0.17822502328994053, -0.30155233962397837, -0.1181359978280296, -0.1346868372340906, 0.30145463790858057, -0.09077284582582087, 0.3196275743451608, 0.019928968647699895, -0.07585881574899747, -0.10079964105628228, -0.2260781096915624, -0.3540493589532626, 0.1928582184700881, -0.1994840835675715], [0.0043346914502916285, -0.13637672686229402, -0.13002839561671578, 0.023387669506115295, 0.31521775126801543, -0.15167751168612081, -0.2307241996493635, -0.24084736328107104, -0.15553386914722026, -0.26746641467807136, -0.2759953197780627, -0.1519737778021082, -0.03265360299730401, 1.0, -0.3152177512680155, -0.8230760279128654, -0.06951498798055156, -0.19053099387424138, 0.3099843327828031, 0.08679791861868207, 0.0016944436455045328, -0.1027560050227385, -0.06966277653167001, -0.06371157499118037, -0.0809902106781048, 0.22239547449983668, 0.25617128287621094, 0.05170274575687212, -0.03215707580783382, -0.08063023581160907, -0.2427981631428492, -0.323890766966285, -0.3385136039067215, -0.39676537714107735], [0.0075149799091999425, -0.008391611911217034, -0.018397189302703666, 0.0010778127080674446, -1.0, 0.09167570469500017, 0.05213341919796151, 0.07007561533228862, 0.09513849428922488, 0.021382711870577976, 0.03347749718236395, -0.016696123642784142, -0.01169139886542221, -0.3152177512680155, 1.0, -0.2795295400049995, 0.45225528090657086, -0.29018311793843365, -0.1718171065699321, 0.0012425134067734103, 0.0031417807184113207, -0.004442251315284906, -0.008271245210923579, 0.006916252198127564, -0.0027471183312986857, 0.004462839400732508, 0.006949550397255344, -0.012306612692869208, 0.014777815951004133, 0.009750281447949528, -0.02051584835769357, -0.007877333295041807, -0.2480330664757158, -0.1130082609547389], [-0.008882737146286056, 0.14299625086621018, 0.1425612874681736, -0.024306661314620996, 0.2795295400049995, 0.0985919934252315, 0.2022283972825372, 0.201732824517757, 0.10042125595413272, 0.25780350066730157, 0.2591943175468362, 0.1637457730112591, 0.040032739872523634, -0.8230760279128654, -0.2795295400049995, 1.0, -0.2003183214156725, 0.3664202566051166, -0.21079354712189471, -0.08855832218643561, -0.003594461398434266, 0.10661820819152797, 0.07542871730303179, 0.06031899094084278, 0.08358299305536028, -0.22767156949803466, -0.26333120743722876, -0.04494367118136859, 0.023690157563696343, 0.07573985650934924, 0.25792003827196397, 0.33239924473562554, 0.4909121973267493, 0.4690421356971826], [0.00758357610303961, -0.10827563872848943, -0.0010430787434336079, 0.05159321756471237, -0.45225528090657086, 0.3203433737595294, 0.15676460995441888, 0.14514955473692903, 0.3121832985222757, 0.014973379079172382, 0.02562310861129719, -0.06338966821876392, -0.12414142842590645, -0.06951498798055156, 0.45225528090657086, -0.2003183214156725, 1.0, -0.6416356650534906, -0.3799117751052334, -0.06522632996531619, 0.04729967349374622, 0.030923714855574744, 0.02475954021490298, 0.05122176476699011, -0.10429333541089097, 0.04275388869901973, -0.0014704079413737543, -0.013428683581908657, -0.0004678565419111244, -0.00079001062411148, 0.014665913237832425, 0.013786269825793156, -0.16136793538251534, -0.052189866637419764], [-0.011189259276385864, 0.25492331502717946, 0.0012346095228208073, -0.16410089031864167, 0.29018311793843365, -0.03050626904076453, 0.16594028590307677, 0.17635617323471664, -0.020298967520709605, 0.3297441152730512, 0.3224574540559222, 0.32647017160380964, 0.30746259069818205, -0.19053099387424138, -0.29018311793843365, 0.3664202566051166, -0.6416356650534906, 1.0, -0.4657363343235562, 0.24301351814831268, -0.07680902975096314, -0.20996452908904545, -0.022778855291876635, -0.050551991558036385, 0.3357634768102139, -0.3059839224841771, -0.021440560786684968, -0.0014940221824271288, 0.005613761063888361, 0.01746632456448475, 0.0061120739544805805, 0.017929529906438778, 0.7871948529419658, 0.3607687920142481], [0.004744965758849955, -0.18251949495535458, -0.0002855204740384597, 0.13838288994798562, 0.1718171065699321, -0.33279949932167546, -0.3809903317320751, -0.3801513548956378, -0.33569508671869736, -0.41495062156578044, -0.41844975538334045, -0.3205922451174622, -0.22757762044656818, 0.3099843327828031, -0.1718171065699321, -0.21079354712189471, -0.3799117751052334, -0.4657363343235562, 1.0, -0.217823505545489, 0.038061459724733744, 0.21754205606911817, -0.0010943032992050863, 0.0018701145623306124, -0.2846082097225956, 0.3196937439459745, 0.027554030004254233, 0.01729491162511594, -0.006230482005525746, -0.020153136101165186, -0.024291768931540957, -0.037528889581619734, -0.7631910615169571, -0.37487836259896], [-0.0032507651194551004, 0.13775207088551514, -0.2802019157901561, -0.2297147909213749, -0.0012425134067734023, -0.24684428487400414, -0.16439302987919688, -0.22598757731112262, -0.28549086901033593, -0.11254989712217289, -0.11786687989290552, 0.16829626845602835, 0.40456455007784087, 0.08679791861868207, 0.0012425134067734103, -0.08855832218643561, -0.06522632996531619, 0.24301351814831268, -0.217823505545489, 1.0, -0.5700527848944215, -0.6219327447713561, -0.18015909738683936, -0.20496021669474843, 0.33087881370583405, 0.006208692442055045, 0.49205202568054424, 0.14000368638519403, -0.05215631834144274, -0.19870886170688193, -0.47691223651608966, -0.649345648869048, 0.0589334582292538, -0.4467758743246882], [0.0077548529142672145, -0.0464907545657889, 0.08306706395255747, 0.06922205672629726, -0.0031417807184111624, 0.10065777311969464, 0.08411316021806066, 0.10291089629343353, 0.09625836225380952, 0.061929689963200855, 0.06477997824381859, -0.052278164693773076, -0.17822502328994053, 0.0016944436455045328, 0.0031417807184113207, -0.003594461398434266, 0.04729967349374622, -0.07680902975096314, 0.038061459724733744, -0.5700527848944215, 1.0, -0.28884268256780254, 0.05762874929825631, 0.06758968145792751, -0.10954646682258033, 0.0001971241890499786, -0.2512993032332009, -0.017196458507178478, 0.15389327309228798, 0.15891681528381144, 0.01614171428694319, 0.2023384083649546, 0.004809615120440435, 0.17056928655718714], [-0.003603167413572989, -0.11620511425710835, 0.24733370647615796, 0.2016993304297039, 0.0044422513152849235, 0.19169819815673583, 0.11139068731904943, 0.16524753554250074, 0.24092408252256528, 0.07212357537070835, 0.07560257919382919, -0.1462807050684952, -0.30155233962397837, -0.1027560050227385, -0.004442251315284906, 0.10661820819152797, 0.030923714855574744, -0.20996452908904545, 0.21754205606911817, -0.6219327447713561, -0.28884268256780254, 1.0, 0.1550042180767056, 0.17440993895950943, -0.28114743393395547, -0.007422540118618717, -0.33385014178843664, -0.14674905438081498, -0.08589992270093438, 0.08008211690632902, 0.5403360993105428, 0.5638005002286687, -0.07325607300641665, 0.35803561609140894], [-0.015973079031173835, -0.01623474200582214, 0.11140561212215645, 0.05236890928127545, 0.008271245210923577, 0.09436639279979232, 0.0869415675760231, 0.08304690185342707, 0.10047200087443556, 0.04612070051242859, 0.04875484714119087, -0.017468900682392235, -0.1181359978280296, -0.06966277653167001, -0.008271245210923579, 0.07542871730303179, 0.02475954021490298, -0.022778855291876635, -0.0010943032992050863, -0.18015909738683936, 0.05762874929825631, 0.1550042180767056, 1.0, -0.27842319712065355, -0.3772703602158491, -0.28809669563791657, -0.18585512574019983, -0.04632871286727803, 0.02172285552026243, 0.060183035947993645, 0.1842491799195877, 0.24382246495742915, 0.04240972759459293, 0.18611944938877964], [0.001631872518613598, -0.024359419683712323, 0.08232738919649572, 0.06113408322897806, -0.006916252198127548, 0.11547320256635303, 0.09045518641091457, 0.11125168129784246, 0.11702370730984143, 0.040010276337768505, 0.048398314068082315, -0.013726285095880284, -0.1346868372340906, -0.06371157499118037, 0.006916252198127564, 0.06031899094084278, 0.05122176476699011, -0.050551991558036385, 0.0018701145623306124, -0.20496021669474843, 0.06758968145792751, 0.17440993895950943, -0.27842319712065355, 1.0, -0.37397801626928234, -0.28558254792863036, -0.18416488323856553, -0.03964706284937272, 0.028232511385228868, 0.048166948994686994, 0.17929367300430438, 0.23280034413314615, 0.030054608328366407, 0.1826633671546002], [0.0008437084888753327, 0.17132216591713703, -0.08320661736633733, -0.1492739811934336, 0.0027471183312986857, -0.11229466175861408, -0.00036426636786500763, -0.003308493511411254, -0.11480726996437085, 0.1447470086556032, 0.13742008269944622, 0.20842668228002995, 0.30145463790858057, -0.0809902106781048, -0.0027471183312986857, 0.08358299305536028, -0.10429333541089097, 0.3357634768102139, -0.2846082097225956, 0.33087881370583405, -0.10954646682258033, -0.28114743393395547, -0.3772703602158491, -0.37397801626928234, 1.0, -0.3869714587097063, 0.1605298863682866, 0.030386796069204806, -0.011569992641797876, -0.030584308144429393, -0.1754558932547761, -0.21019749610817867, 0.27111737739356384, -0.060436278689198375], [0.01319936726545174, -0.15298719260173027, -0.09694798339506473, 0.05644841359590588, -0.004462839400732194, -0.07991768713640306, -0.17407470231312427, -0.18732483013668594, -0.08463055196615278, -0.2477115493728633, -0.2502897149395328, -0.20398064814312206, -0.09077284582582087, 0.22239547449983668, 0.004462839400732508, -0.22767156949803466, 0.04275388869901973, -0.3059839224841771, 0.3196937439459745, 0.006208692442055045, 0.0001971241890499786, -0.007422540118618717, -0.28809669563791657, -0.28558254792863036, -0.3869714587097063, 1.0, 0.18322236745325193, 0.05037142820607642, -0.03609490261093368, -0.07217004405828796, -0.16005348763614577, -0.23218078070201725, -0.37656828808083825, -0.29470837017550655], [-0.0010503798619876774, -0.02771322371899571, -0.30506147447521575, -0.1453791450700764, -0.00694955039725527, -0.24240887436050382, -0.26736609150996915, -0.2739200544387702, -0.23862820953475447, -0.22076087097198827, -0.2213881765552116, -0.003859801258113621, 0.3196275743451608, 0.25617128287621094, 0.006949550397255344, -0.26333120743722876, -0.0014704079413737543, -0.021440560786684968, 0.027554030004254233, 0.49205202568054424, -0.2512993032332009, -0.33385014178843664, -0.18585512574019983, -0.18416488323856553, 0.1605298863682866, 0.18322236745325193, 1.0, -0.2762680073398803, -0.3623015030946614, -0.2451384283025972, -0.33468123603042815, -0.7543297340826929, -0.19188064290675352, -0.5924430690900127], [-0.0006494991207074467, 0.0018604411671567017, -0.048481275955609554, -0.0014594010172321779, 0.012306612692869211, -0.0556619409198579, -0.08408097138202993, -0.07733200729381666, -0.07201850701116608, -0.050234026791169964, -0.054338325985925064, 0.003328006906514837, 0.019928968647699895, 0.05170274575687212, -0.012306612692869208, -0.04494367118136859, -0.013428683581908657, -0.0014940221824271288, 0.01729491162511594, 0.14000368638519403, -0.017196458507178478, -0.14674905438081498, -0.04632871286727803, -0.03964706284937272, 0.030386796069204806, 0.05037142820607642, -0.2762680073398803, 1.0, -0.2235164922454485, -0.15123448603095185, -0.20647658168386077, -0.23667330012633156, -0.04722022100509185, -0.21074518016919763], [-0.010516394125351592, 0.02038346087056509, 0.028467762106169584, 0.02464494581436856, -0.014777815951004124, 0.0076950987178344265, 0.023085000444599418, 0.0449724925036831, 0.022136746625123563, 0.02882937792536747, 0.02504810987080452, -0.005388027856510724, -0.07585881574899747, -0.03215707580783382, 0.014777815951004133, 0.023690157563696343, -0.0004678565419111244, 0.005613761063888361, -0.006230482005525746, -0.05215631834144274, 0.15389327309228798, -0.08589992270093438, 0.02172285552026243, 0.028232511385228868, -0.011569992641797876, -0.03609490261093368, -0.3623015030946614, -0.2235164922454485, 1.0, -0.19833089664036088, -0.270776108381858, 0.08315302530583908, 0.020378382125023714, 0.025594453789595965], [-0.004318975744551275, 0.01418568213097567, 0.10534126166196492, 0.03141940765317757, -0.009750281447949313, 0.0716632710172793, 0.09919210454041022, 0.07685425917962475, 0.06270980841796413, 0.08796930347195206, 0.08661557153323526, 0.010626123397145876, -0.10079964105628228, -0.08063023581160907, 0.009750281447949528, 0.07573985650934924, -0.00079001062411148, 0.01746632456448475, -0.020153136101165186, -0.19870886170688193, 0.15891681528381144, 0.08008211690632902, 0.060183035947993645, 0.048166948994686994, -0.030584308144429393, -0.07217004405828796, -0.2451384283025972, -0.15123448603095185, -0.19833089664036088, 1.0, -0.18321102469526726, 0.3293670640558551, 0.07004784345008332, 0.2529046056409522], [0.01627881894278637, -0.0024069937431968856, 0.28035324824529767, 0.1180897178470907, 0.020515848357693, 0.26322845571231857, 0.2787875817043761, 0.2755370112516221, 0.26539627802277554, 0.1981501311372027, 0.20754366554274195, -0.001414839543993747, -0.2260781096915624, -0.2427981631428492, -0.02051584835769357, 0.25792003827196397, 0.014665913237832425, 0.0061120739544805805, -0.024291768931540957, -0.47691223651608966, 0.01614171428694319, 0.5403360993105428, 0.1842491799195877, 0.17929367300430438, -0.1754558932547761, -0.16005348763614577, -0.33468123603042815, -0.20647658168386077, -0.270776108381858, -0.18321102469526726, 1.0, 0.7272367846079387, 0.18543957041906836, 0.6393119430257832], [0.005285371870295646, 0.01568347989913396, 0.38191150910757077, 0.16338596691556453, 0.007877333295041818, 0.32829748818662485, 0.36113847824658735, 0.3615199952862194, 0.325288454100009, 0.280263628074823, 0.2854022671060787, 0.004823156615386272, -0.3540493589532626, -0.323890766966285, -0.007877333295041807, 0.33239924473562554, 0.013786269825793156, 0.017929529906438778, -0.037528889581619734, -0.649345648869048, 0.2023384083649546, 0.5638005002286687, 0.24382246495742915, 0.23280034413314615, -0.21019749610817867, -0.23218078070201725, -0.7543297340826929, -0.23667330012633156, 0.08315302530583908, 0.3293670640558551, 0.7272367846079387, 1.0, 0.2468617666408947, 0.8258804609332017], [-0.013779327268354416, 0.21987422950593646, 0.09782497186892049, -0.11234295350128225, 0.2480330664757158, 0.2964469592375873, 0.4415290881871007, 0.48260691224313995, 0.33830139143424953, 0.6296678921767406, 0.6272347301103788, 0.3519304153712528, 0.1928582184700881, -0.3385136039067215, -0.2480330664757158, 0.4909121973267493, -0.16136793538251534, 0.7871948529419658, -0.7631910615169571, 0.0589334582292538, 0.004809615120440435, -0.07325607300641665, 0.04240972759459293, 0.030054608328366407, 0.27111737739356384, -0.37656828808083825, -0.19188064290675352, -0.04722022100509185, 0.020378382125023714, 0.07004784345008332, 0.18543957041906836, 0.2468617666408947, 1.0, 0.6510648032262032], [4.783950839776602e-05, 0.10241060539532633, 0.31907236323857324, 0.0646532494217739, 0.11300826095473893, 0.41261876950713655, 0.510100290145439, 0.5228814865154369, 0.4328683682410939, 0.5157090769923935, 0.5198665357835017, 0.15782978286591698, -0.1994840835675715, -0.39676537714107735, -0.1130082609547389, 0.4690421356971826, -0.052189866637419764, 0.3607687920142481, -0.37487836259896, -0.4467758743246882, 0.17056928655718714, 0.35803561609140894, 0.18611944938877964, 0.1826633671546002, -0.060436278689198375, -0.29470837017550655, -0.5924430690900127, -0.21074518016919763, 0.025594453789595965, 0.2529046056409522, 0.6393119430257832, 0.8258804609332017, 0.6510648032262032, 1.0]]}],\n",
       "                        {\"autosize\": false, \"height\": 720, \"margin\": {\"b\": 210, \"l\": 210, \"r\": 0, \"t\": 25}, \"template\": {\"data\": {\"bar\": [{\"error_x\": {\"color\": \"#2a3f5f\"}, \"error_y\": {\"color\": \"#2a3f5f\"}, \"marker\": {\"line\": {\"color\": \"#E5ECF6\", \"width\": 0.5}}, \"type\": \"bar\"}], \"barpolar\": [{\"marker\": {\"line\": {\"color\": \"#E5ECF6\", \"width\": 0.5}}, \"type\": \"barpolar\"}], \"carpet\": [{\"aaxis\": {\"endlinecolor\": \"#2a3f5f\", \"gridcolor\": \"white\", \"linecolor\": \"white\", \"minorgridcolor\": \"white\", \"startlinecolor\": \"#2a3f5f\"}, \"baxis\": {\"endlinecolor\": \"#2a3f5f\", \"gridcolor\": \"white\", \"linecolor\": \"white\", \"minorgridcolor\": \"white\", \"startlinecolor\": \"#2a3f5f\"}, \"type\": \"carpet\"}], \"choropleth\": [{\"colorbar\": {\"outlinewidth\": 0, \"ticks\": \"\"}, \"type\": \"choropleth\"}], \"contour\": [{\"colorbar\": {\"outlinewidth\": 0, \"ticks\": \"\"}, \"colorscale\": [[0.0, \"#0d0887\"], [0.1111111111111111, \"#46039f\"], [0.2222222222222222, \"#7201a8\"], [0.3333333333333333, \"#9c179e\"], [0.4444444444444444, \"#bd3786\"], [0.5555555555555556, \"#d8576b\"], [0.6666666666666666, \"#ed7953\"], [0.7777777777777778, \"#fb9f3a\"], [0.8888888888888888, \"#fdca26\"], [1.0, \"#f0f921\"]], \"type\": \"contour\"}], \"contourcarpet\": [{\"colorbar\": {\"outlinewidth\": 0, \"ticks\": \"\"}, \"type\": \"contourcarpet\"}], \"heatmap\": [{\"colorbar\": {\"outlinewidth\": 0, \"ticks\": \"\"}, \"colorscale\": [[0.0, \"#0d0887\"], [0.1111111111111111, \"#46039f\"], [0.2222222222222222, \"#7201a8\"], [0.3333333333333333, \"#9c179e\"], [0.4444444444444444, \"#bd3786\"], [0.5555555555555556, \"#d8576b\"], [0.6666666666666666, \"#ed7953\"], [0.7777777777777778, \"#fb9f3a\"], [0.8888888888888888, \"#fdca26\"], [1.0, \"#f0f921\"]], \"type\": \"heatmap\"}], \"heatmapgl\": [{\"colorbar\": {\"outlinewidth\": 0, \"ticks\": \"\"}, \"colorscale\": [[0.0, \"#0d0887\"], [0.1111111111111111, \"#46039f\"], [0.2222222222222222, \"#7201a8\"], [0.3333333333333333, \"#9c179e\"], [0.4444444444444444, \"#bd3786\"], [0.5555555555555556, \"#d8576b\"], [0.6666666666666666, \"#ed7953\"], [0.7777777777777778, \"#fb9f3a\"], [0.8888888888888888, \"#fdca26\"], [1.0, \"#f0f921\"]], \"type\": \"heatmapgl\"}], \"histogram\": [{\"marker\": {\"colorbar\": {\"outlinewidth\": 0, \"ticks\": \"\"}}, \"type\": \"histogram\"}], \"histogram2d\": [{\"colorbar\": {\"outlinewidth\": 0, \"ticks\": \"\"}, \"colorscale\": [[0.0, \"#0d0887\"], [0.1111111111111111, \"#46039f\"], [0.2222222222222222, \"#7201a8\"], [0.3333333333333333, \"#9c179e\"], [0.4444444444444444, \"#bd3786\"], [0.5555555555555556, \"#d8576b\"], [0.6666666666666666, \"#ed7953\"], [0.7777777777777778, \"#fb9f3a\"], [0.8888888888888888, \"#fdca26\"], [1.0, \"#f0f921\"]], \"type\": \"histogram2d\"}], \"histogram2dcontour\": [{\"colorbar\": {\"outlinewidth\": 0, \"ticks\": \"\"}, \"colorscale\": [[0.0, \"#0d0887\"], [0.1111111111111111, \"#46039f\"], [0.2222222222222222, \"#7201a8\"], [0.3333333333333333, \"#9c179e\"], [0.4444444444444444, \"#bd3786\"], [0.5555555555555556, \"#d8576b\"], [0.6666666666666666, \"#ed7953\"], [0.7777777777777778, \"#fb9f3a\"], [0.8888888888888888, \"#fdca26\"], [1.0, \"#f0f921\"]], \"type\": \"histogram2dcontour\"}], \"mesh3d\": [{\"colorbar\": {\"outlinewidth\": 0, \"ticks\": \"\"}, \"type\": \"mesh3d\"}], \"parcoords\": [{\"line\": {\"colorbar\": {\"outlinewidth\": 0, \"ticks\": \"\"}}, \"type\": \"parcoords\"}], \"pie\": [{\"automargin\": true, \"type\": \"pie\"}], \"scatter\": [{\"marker\": {\"colorbar\": {\"outlinewidth\": 0, \"ticks\": \"\"}}, \"type\": \"scatter\"}], \"scatter3d\": [{\"line\": {\"colorbar\": {\"outlinewidth\": 0, \"ticks\": \"\"}}, \"marker\": {\"colorbar\": {\"outlinewidth\": 0, \"ticks\": \"\"}}, \"type\": \"scatter3d\"}], \"scattercarpet\": [{\"marker\": {\"colorbar\": {\"outlinewidth\": 0, \"ticks\": \"\"}}, \"type\": \"scattercarpet\"}], \"scattergeo\": [{\"marker\": {\"colorbar\": {\"outlinewidth\": 0, \"ticks\": \"\"}}, \"type\": \"scattergeo\"}], \"scattergl\": [{\"marker\": {\"colorbar\": {\"outlinewidth\": 0, \"ticks\": \"\"}}, \"type\": \"scattergl\"}], \"scattermapbox\": [{\"marker\": {\"colorbar\": {\"outlinewidth\": 0, \"ticks\": \"\"}}, \"type\": \"scattermapbox\"}], \"scatterpolar\": [{\"marker\": {\"colorbar\": {\"outlinewidth\": 0, \"ticks\": \"\"}}, \"type\": \"scatterpolar\"}], \"scatterpolargl\": [{\"marker\": {\"colorbar\": {\"outlinewidth\": 0, \"ticks\": \"\"}}, \"type\": \"scatterpolargl\"}], \"scatterternary\": [{\"marker\": {\"colorbar\": {\"outlinewidth\": 0, \"ticks\": \"\"}}, \"type\": \"scatterternary\"}], \"surface\": [{\"colorbar\": {\"outlinewidth\": 0, \"ticks\": \"\"}, \"colorscale\": [[0.0, \"#0d0887\"], [0.1111111111111111, \"#46039f\"], [0.2222222222222222, \"#7201a8\"], [0.3333333333333333, \"#9c179e\"], [0.4444444444444444, \"#bd3786\"], [0.5555555555555556, \"#d8576b\"], [0.6666666666666666, \"#ed7953\"], [0.7777777777777778, \"#fb9f3a\"], [0.8888888888888888, \"#fdca26\"], [1.0, \"#f0f921\"]], \"type\": \"surface\"}], \"table\": [{\"cells\": {\"fill\": {\"color\": \"#EBF0F8\"}, \"line\": {\"color\": \"white\"}}, \"header\": {\"fill\": {\"color\": \"#C8D4E3\"}, \"line\": {\"color\": \"white\"}}, \"type\": \"table\"}]}, \"layout\": {\"annotationdefaults\": {\"arrowcolor\": \"#2a3f5f\", \"arrowhead\": 0, \"arrowwidth\": 1}, \"coloraxis\": {\"colorbar\": {\"outlinewidth\": 0, \"ticks\": \"\"}}, \"colorscale\": {\"diverging\": [[0, \"#8e0152\"], [0.1, \"#c51b7d\"], [0.2, \"#de77ae\"], [0.3, \"#f1b6da\"], [0.4, \"#fde0ef\"], [0.5, \"#f7f7f7\"], [0.6, \"#e6f5d0\"], [0.7, \"#b8e186\"], [0.8, \"#7fbc41\"], [0.9, \"#4d9221\"], [1, \"#276419\"]], \"sequential\": [[0.0, \"#0d0887\"], [0.1111111111111111, \"#46039f\"], [0.2222222222222222, \"#7201a8\"], [0.3333333333333333, \"#9c179e\"], [0.4444444444444444, \"#bd3786\"], [0.5555555555555556, \"#d8576b\"], [0.6666666666666666, \"#ed7953\"], [0.7777777777777778, \"#fb9f3a\"], [0.8888888888888888, \"#fdca26\"], [1.0, \"#f0f921\"]], \"sequentialminus\": [[0.0, \"#0d0887\"], [0.1111111111111111, \"#46039f\"], [0.2222222222222222, \"#7201a8\"], [0.3333333333333333, \"#9c179e\"], [0.4444444444444444, \"#bd3786\"], [0.5555555555555556, \"#d8576b\"], [0.6666666666666666, \"#ed7953\"], [0.7777777777777778, \"#fb9f3a\"], [0.8888888888888888, \"#fdca26\"], [1.0, \"#f0f921\"]]}, \"colorway\": [\"#636efa\", \"#EF553B\", \"#00cc96\", \"#ab63fa\", \"#FFA15A\", \"#19d3f3\", \"#FF6692\", \"#B6E880\", \"#FF97FF\", \"#FECB52\"], \"font\": {\"color\": \"#2a3f5f\"}, \"geo\": {\"bgcolor\": \"white\", \"lakecolor\": \"white\", \"landcolor\": \"#E5ECF6\", \"showlakes\": true, \"showland\": true, \"subunitcolor\": \"white\"}, \"hoverlabel\": {\"align\": \"left\"}, \"hovermode\": \"closest\", \"mapbox\": {\"style\": \"light\"}, \"paper_bgcolor\": \"white\", \"plot_bgcolor\": \"#E5ECF6\", \"polar\": {\"angularaxis\": {\"gridcolor\": \"white\", \"linecolor\": \"white\", \"ticks\": \"\"}, \"bgcolor\": \"#E5ECF6\", \"radialaxis\": {\"gridcolor\": \"white\", \"linecolor\": \"white\", \"ticks\": \"\"}}, \"scene\": {\"xaxis\": {\"backgroundcolor\": \"#E5ECF6\", \"gridcolor\": \"white\", \"gridwidth\": 2, \"linecolor\": \"white\", \"showbackground\": true, \"ticks\": \"\", \"zerolinecolor\": \"white\"}, \"yaxis\": {\"backgroundcolor\": \"#E5ECF6\", \"gridcolor\": \"white\", \"gridwidth\": 2, \"linecolor\": \"white\", \"showbackground\": true, \"ticks\": \"\", \"zerolinecolor\": \"white\"}, \"zaxis\": {\"backgroundcolor\": \"#E5ECF6\", \"gridcolor\": \"white\", \"gridwidth\": 2, \"linecolor\": \"white\", \"showbackground\": true, \"ticks\": \"\", \"zerolinecolor\": \"white\"}}, \"shapedefaults\": {\"line\": {\"color\": \"#2a3f5f\"}}, \"ternary\": {\"aaxis\": {\"gridcolor\": \"white\", \"linecolor\": \"white\", \"ticks\": \"\"}, \"baxis\": {\"gridcolor\": \"white\", \"linecolor\": \"white\", \"ticks\": \"\"}, \"bgcolor\": \"#E5ECF6\", \"caxis\": {\"gridcolor\": \"white\", \"linecolor\": \"white\", \"ticks\": \"\"}}, \"title\": {\"x\": 0.05}, \"xaxis\": {\"automargin\": true, \"gridcolor\": \"white\", \"linecolor\": \"white\", \"ticks\": \"\", \"title\": {\"standoff\": 15}, \"zerolinecolor\": \"white\", \"zerolinewidth\": 2}, \"yaxis\": {\"automargin\": true, \"gridcolor\": \"white\", \"linecolor\": \"white\", \"ticks\": \"\", \"title\": {\"standoff\": 15}, \"zerolinecolor\": \"white\", \"zerolinewidth\": 2}}}, \"title\": {\"text\": \"Correlation Matrix for variables\"}, \"width\": 800, \"xaxis\": {\"tickfont\": {\"size\": 9}}, \"yaxis\": {\"tickfont\": {\"size\": 9}}},\n",
       "                        {\"responsive\": true}\n",
       "                    ).then(function(){\n",
       "                            \n",
       "var gd = document.getElementById('96f822ed-5850-46d3-b015-b5a3711d0a02');\n",
       "var x = new MutationObserver(function (mutations, observer) {{\n",
       "        var display = window.getComputedStyle(gd).display;\n",
       "        if (!display || display === 'none') {{\n",
       "            console.log([gd, 'removed!']);\n",
       "            Plotly.purge(gd);\n",
       "            observer.disconnect();\n",
       "        }}\n",
       "}});\n",
       "\n",
       "// Listen for the removal of the full notebook cells\n",
       "var notebookContainer = gd.closest('#notebook-container');\n",
       "if (notebookContainer) {{\n",
       "    x.observe(notebookContainer, {childList: true});\n",
       "}}\n",
       "\n",
       "// Listen for the clearing of the current output cell\n",
       "var outputEl = gd.closest('.output');\n",
       "if (outputEl) {{\n",
       "    x.observe(outputEl, {childList: true});\n",
       "}}\n",
       "\n",
       "                        })\n",
       "                };\n",
       "                });\n",
       "            </script>\n",
       "        </div>"
      ]
     },
     "metadata": {},
     "output_type": "display_data"
    }
   ],
   "source": [
    "#correlation\n",
    "correlation = data.corr()\n",
    "#tick labels\n",
    "matrix_cols = correlation.columns.tolist()\n",
    "#convert to array\n",
    "corr_array  = np.array(correlation)\n",
    "\n",
    "#Plotting\n",
    "trace = go.Heatmap(z = corr_array,\n",
    "                   x = matrix_cols,\n",
    "                   y = matrix_cols,\n",
    "                   colorscale = \"Viridis\",\n",
    "                   colorbar   = dict(title = \"Pearson Correlation coefficient\",\n",
    "                                     titleside = \"right\"\n",
    "                                    ) ,\n",
    "                  )\n",
    "\n",
    "layout = go.Layout(dict(title = \"Correlation Matrix for variables\",\n",
    "                        autosize = False,\n",
    "                        height  = 720,\n",
    "                        width   = 800,\n",
    "                        margin  = dict(r = 0 ,l = 210,\n",
    "                                       t = 25,b = 210,\n",
    "                                      ),\n",
    "                        yaxis   = dict(tickfont = dict(size = 9)),\n",
    "                        xaxis   = dict(tickfont = dict(size = 9))\n",
    "                       )\n",
    "                  )\n",
    "\n",
    "traces = [trace]\n",
    "fig = go.Figure(data=traces,layout=layout)\n",
    "py.iplot(fig)"
   ]
  },
  {
   "cell_type": "code",
   "execution_count": 111,
   "metadata": {},
   "outputs": [
    {
     "data": {
      "text/plain": [
       "customerID                                 False\n",
       "gender                                     False\n",
       "SeniorCitizen                              False\n",
       "Partner                                    False\n",
       "Dependents                                 False\n",
       "PhoneService                               False\n",
       "OnlineSecurity                             False\n",
       "OnlineBackup                               False\n",
       "DeviceProtection                           False\n",
       "TechSupport                                False\n",
       "StreamingTV                                False\n",
       "StreamingMovies                            False\n",
       "PaperlessBilling                           False\n",
       "Churn                                      False\n",
       "MultipleLines_No                           False\n",
       "MultipleLines_No phone service             False\n",
       "MultipleLines_Yes                          False\n",
       "InternetService_DSL                        False\n",
       "InternetService_Fiber optic                False\n",
       "InternetService_No                         False\n",
       "Contract_Month-to-month                    False\n",
       "Contract_One year                          False\n",
       "Contract_Two year                          False\n",
       "PaymentMethod_Bank transfer (automatic)    False\n",
       "PaymentMethod_Credit card (automatic)      False\n",
       "PaymentMethod_Electronic check             False\n",
       "PaymentMethod_Mailed check                 False\n",
       "tenure_group_Tenure_0-12                   False\n",
       "tenure_group_Tenure_12-24                  False\n",
       "tenure_group_Tenure_24-48                  False\n",
       "tenure_group_Tenure_48-60                  False\n",
       "tenure_group_Tenure_gt_60                  False\n",
       "tenure                                     False\n",
       "MonthlyCharges                             False\n",
       "TotalCharges                               False\n",
       "dtype: bool"
      ]
     },
     "execution_count": 111,
     "metadata": {},
     "output_type": "execute_result"
    }
   ],
   "source": [
    "# Checking missing values\n",
    "data.isnull().any()"
   ]
  },
  {
   "cell_type": "markdown",
   "metadata": {},
   "source": [
    "Replace missing Data\n",
    "missing_data = list(data[data['TotalCharges'] == \" \"].index)\n",
    "print('Missing Data from TotalCharges Indexes :', missing_data , '\\nTotal rows :', len(missing_data))\n",
    "missing_data = list(data[data['TotalCharges'] == \" \"].index)"
   ]
  },
  {
   "cell_type": "markdown",
   "metadata": {},
   "source": [
    "Convert TotalCharges to Numeric\n",
    "data.TotalCharges = pd.to_numeric(data.TotalCharges, errors='coerce')"
   ]
  },
  {
   "cell_type": "code",
   "execution_count": 112,
   "metadata": {},
   "outputs": [
    {
     "data": {
      "text/html": [
       "<div>\n",
       "<style scoped>\n",
       "    .dataframe tbody tr th:only-of-type {\n",
       "        vertical-align: middle;\n",
       "    }\n",
       "\n",
       "    .dataframe tbody tr th {\n",
       "        vertical-align: top;\n",
       "    }\n",
       "\n",
       "    .dataframe thead th {\n",
       "        text-align: right;\n",
       "    }\n",
       "</style>\n",
       "<table border=\"1\" class=\"dataframe\">\n",
       "  <thead>\n",
       "    <tr style=\"text-align: right;\">\n",
       "      <th></th>\n",
       "      <th>gender</th>\n",
       "      <th>SeniorCitizen</th>\n",
       "      <th>Partner</th>\n",
       "      <th>Dependents</th>\n",
       "      <th>PhoneService</th>\n",
       "      <th>OnlineSecurity</th>\n",
       "      <th>OnlineBackup</th>\n",
       "      <th>DeviceProtection</th>\n",
       "      <th>TechSupport</th>\n",
       "      <th>StreamingTV</th>\n",
       "      <th>...</th>\n",
       "      <th>PaymentMethod_Electronic check</th>\n",
       "      <th>PaymentMethod_Mailed check</th>\n",
       "      <th>tenure_group_Tenure_0-12</th>\n",
       "      <th>tenure_group_Tenure_12-24</th>\n",
       "      <th>tenure_group_Tenure_24-48</th>\n",
       "      <th>tenure_group_Tenure_48-60</th>\n",
       "      <th>tenure_group_Tenure_gt_60</th>\n",
       "      <th>tenure</th>\n",
       "      <th>MonthlyCharges</th>\n",
       "      <th>TotalCharges</th>\n",
       "    </tr>\n",
       "  </thead>\n",
       "  <tbody>\n",
       "    <tr>\n",
       "      <td>count</td>\n",
       "      <td>7032.000000</td>\n",
       "      <td>7032.000000</td>\n",
       "      <td>7032.000000</td>\n",
       "      <td>7032.000000</td>\n",
       "      <td>7032.000000</td>\n",
       "      <td>7032.000000</td>\n",
       "      <td>7032.000000</td>\n",
       "      <td>7032.000000</td>\n",
       "      <td>7032.000000</td>\n",
       "      <td>7032.000000</td>\n",
       "      <td>...</td>\n",
       "      <td>7032.000000</td>\n",
       "      <td>7032.000000</td>\n",
       "      <td>7032.000000</td>\n",
       "      <td>7032.00000</td>\n",
       "      <td>7032.000000</td>\n",
       "      <td>7032.000000</td>\n",
       "      <td>7032.000000</td>\n",
       "      <td>7.032000e+03</td>\n",
       "      <td>7.032000e+03</td>\n",
       "      <td>7.032000e+03</td>\n",
       "    </tr>\n",
       "    <tr>\n",
       "      <td>mean</td>\n",
       "      <td>0.504693</td>\n",
       "      <td>0.162400</td>\n",
       "      <td>0.482509</td>\n",
       "      <td>0.298493</td>\n",
       "      <td>0.903299</td>\n",
       "      <td>0.286547</td>\n",
       "      <td>0.344852</td>\n",
       "      <td>0.343857</td>\n",
       "      <td>0.290102</td>\n",
       "      <td>0.384386</td>\n",
       "      <td>...</td>\n",
       "      <td>0.336320</td>\n",
       "      <td>0.228100</td>\n",
       "      <td>0.309300</td>\n",
       "      <td>0.14562</td>\n",
       "      <td>0.226678</td>\n",
       "      <td>0.118316</td>\n",
       "      <td>0.200085</td>\n",
       "      <td>-1.214741e-16</td>\n",
       "      <td>9.652878e-17</td>\n",
       "      <td>-1.172113e-16</td>\n",
       "    </tr>\n",
       "    <tr>\n",
       "      <td>std</td>\n",
       "      <td>0.500014</td>\n",
       "      <td>0.368844</td>\n",
       "      <td>0.499729</td>\n",
       "      <td>0.457629</td>\n",
       "      <td>0.295571</td>\n",
       "      <td>0.452180</td>\n",
       "      <td>0.475354</td>\n",
       "      <td>0.475028</td>\n",
       "      <td>0.453842</td>\n",
       "      <td>0.486484</td>\n",
       "      <td>...</td>\n",
       "      <td>0.472483</td>\n",
       "      <td>0.419637</td>\n",
       "      <td>0.462238</td>\n",
       "      <td>0.35275</td>\n",
       "      <td>0.418712</td>\n",
       "      <td>0.323005</td>\n",
       "      <td>0.400092</td>\n",
       "      <td>1.000071e+00</td>\n",
       "      <td>1.000071e+00</td>\n",
       "      <td>1.000071e+00</td>\n",
       "    </tr>\n",
       "    <tr>\n",
       "      <td>min</td>\n",
       "      <td>0.000000</td>\n",
       "      <td>0.000000</td>\n",
       "      <td>0.000000</td>\n",
       "      <td>0.000000</td>\n",
       "      <td>0.000000</td>\n",
       "      <td>0.000000</td>\n",
       "      <td>0.000000</td>\n",
       "      <td>0.000000</td>\n",
       "      <td>0.000000</td>\n",
       "      <td>0.000000</td>\n",
       "      <td>...</td>\n",
       "      <td>0.000000</td>\n",
       "      <td>0.000000</td>\n",
       "      <td>0.000000</td>\n",
       "      <td>0.00000</td>\n",
       "      <td>0.000000</td>\n",
       "      <td>0.000000</td>\n",
       "      <td>0.000000</td>\n",
       "      <td>-1.280248e+00</td>\n",
       "      <td>-1.547283e+00</td>\n",
       "      <td>-9.990692e-01</td>\n",
       "    </tr>\n",
       "    <tr>\n",
       "      <td>25%</td>\n",
       "      <td>0.000000</td>\n",
       "      <td>0.000000</td>\n",
       "      <td>0.000000</td>\n",
       "      <td>0.000000</td>\n",
       "      <td>1.000000</td>\n",
       "      <td>0.000000</td>\n",
       "      <td>0.000000</td>\n",
       "      <td>0.000000</td>\n",
       "      <td>0.000000</td>\n",
       "      <td>0.000000</td>\n",
       "      <td>...</td>\n",
       "      <td>0.000000</td>\n",
       "      <td>0.000000</td>\n",
       "      <td>0.000000</td>\n",
       "      <td>0.00000</td>\n",
       "      <td>0.000000</td>\n",
       "      <td>0.000000</td>\n",
       "      <td>0.000000</td>\n",
       "      <td>-9.542963e-01</td>\n",
       "      <td>-9.709769e-01</td>\n",
       "      <td>-8.302488e-01</td>\n",
       "    </tr>\n",
       "    <tr>\n",
       "      <td>50%</td>\n",
       "      <td>1.000000</td>\n",
       "      <td>0.000000</td>\n",
       "      <td>0.000000</td>\n",
       "      <td>0.000000</td>\n",
       "      <td>1.000000</td>\n",
       "      <td>0.000000</td>\n",
       "      <td>0.000000</td>\n",
       "      <td>0.000000</td>\n",
       "      <td>0.000000</td>\n",
       "      <td>0.000000</td>\n",
       "      <td>...</td>\n",
       "      <td>0.000000</td>\n",
       "      <td>0.000000</td>\n",
       "      <td>0.000000</td>\n",
       "      <td>0.00000</td>\n",
       "      <td>0.000000</td>\n",
       "      <td>0.000000</td>\n",
       "      <td>0.000000</td>\n",
       "      <td>-1.394171e-01</td>\n",
       "      <td>1.845440e-01</td>\n",
       "      <td>-3.908151e-01</td>\n",
       "    </tr>\n",
       "    <tr>\n",
       "      <td>75%</td>\n",
       "      <td>1.000000</td>\n",
       "      <td>0.000000</td>\n",
       "      <td>1.000000</td>\n",
       "      <td>1.000000</td>\n",
       "      <td>1.000000</td>\n",
       "      <td>1.000000</td>\n",
       "      <td>1.000000</td>\n",
       "      <td>1.000000</td>\n",
       "      <td>1.000000</td>\n",
       "      <td>1.000000</td>\n",
       "      <td>...</td>\n",
       "      <td>1.000000</td>\n",
       "      <td>0.000000</td>\n",
       "      <td>1.000000</td>\n",
       "      <td>0.00000</td>\n",
       "      <td>0.000000</td>\n",
       "      <td>0.000000</td>\n",
       "      <td>0.000000</td>\n",
       "      <td>9.199259e-01</td>\n",
       "      <td>8.331482e-01</td>\n",
       "      <td>6.668271e-01</td>\n",
       "    </tr>\n",
       "    <tr>\n",
       "      <td>max</td>\n",
       "      <td>1.000000</td>\n",
       "      <td>1.000000</td>\n",
       "      <td>1.000000</td>\n",
       "      <td>1.000000</td>\n",
       "      <td>1.000000</td>\n",
       "      <td>1.000000</td>\n",
       "      <td>1.000000</td>\n",
       "      <td>1.000000</td>\n",
       "      <td>1.000000</td>\n",
       "      <td>1.000000</td>\n",
       "      <td>...</td>\n",
       "      <td>1.000000</td>\n",
       "      <td>1.000000</td>\n",
       "      <td>1.000000</td>\n",
       "      <td>1.00000</td>\n",
       "      <td>1.000000</td>\n",
       "      <td>1.000000</td>\n",
       "      <td>1.000000</td>\n",
       "      <td>1.612573e+00</td>\n",
       "      <td>1.793381e+00</td>\n",
       "      <td>2.824261e+00</td>\n",
       "    </tr>\n",
       "  </tbody>\n",
       "</table>\n",
       "<p>8 rows × 34 columns</p>\n",
       "</div>"
      ],
      "text/plain": [
       "            gender  SeniorCitizen      Partner   Dependents  PhoneService  \\\n",
       "count  7032.000000    7032.000000  7032.000000  7032.000000   7032.000000   \n",
       "mean      0.504693       0.162400     0.482509     0.298493      0.903299   \n",
       "std       0.500014       0.368844     0.499729     0.457629      0.295571   \n",
       "min       0.000000       0.000000     0.000000     0.000000      0.000000   \n",
       "25%       0.000000       0.000000     0.000000     0.000000      1.000000   \n",
       "50%       1.000000       0.000000     0.000000     0.000000      1.000000   \n",
       "75%       1.000000       0.000000     1.000000     1.000000      1.000000   \n",
       "max       1.000000       1.000000     1.000000     1.000000      1.000000   \n",
       "\n",
       "       OnlineSecurity  OnlineBackup  DeviceProtection  TechSupport  \\\n",
       "count     7032.000000   7032.000000       7032.000000  7032.000000   \n",
       "mean         0.286547      0.344852          0.343857     0.290102   \n",
       "std          0.452180      0.475354          0.475028     0.453842   \n",
       "min          0.000000      0.000000          0.000000     0.000000   \n",
       "25%          0.000000      0.000000          0.000000     0.000000   \n",
       "50%          0.000000      0.000000          0.000000     0.000000   \n",
       "75%          1.000000      1.000000          1.000000     1.000000   \n",
       "max          1.000000      1.000000          1.000000     1.000000   \n",
       "\n",
       "       StreamingTV  ...  PaymentMethod_Electronic check  \\\n",
       "count  7032.000000  ...                     7032.000000   \n",
       "mean      0.384386  ...                        0.336320   \n",
       "std       0.486484  ...                        0.472483   \n",
       "min       0.000000  ...                        0.000000   \n",
       "25%       0.000000  ...                        0.000000   \n",
       "50%       0.000000  ...                        0.000000   \n",
       "75%       1.000000  ...                        1.000000   \n",
       "max       1.000000  ...                        1.000000   \n",
       "\n",
       "       PaymentMethod_Mailed check  tenure_group_Tenure_0-12  \\\n",
       "count                 7032.000000               7032.000000   \n",
       "mean                     0.228100                  0.309300   \n",
       "std                      0.419637                  0.462238   \n",
       "min                      0.000000                  0.000000   \n",
       "25%                      0.000000                  0.000000   \n",
       "50%                      0.000000                  0.000000   \n",
       "75%                      0.000000                  1.000000   \n",
       "max                      1.000000                  1.000000   \n",
       "\n",
       "       tenure_group_Tenure_12-24  tenure_group_Tenure_24-48  \\\n",
       "count                 7032.00000                7032.000000   \n",
       "mean                     0.14562                   0.226678   \n",
       "std                      0.35275                   0.418712   \n",
       "min                      0.00000                   0.000000   \n",
       "25%                      0.00000                   0.000000   \n",
       "50%                      0.00000                   0.000000   \n",
       "75%                      0.00000                   0.000000   \n",
       "max                      1.00000                   1.000000   \n",
       "\n",
       "       tenure_group_Tenure_48-60  tenure_group_Tenure_gt_60        tenure  \\\n",
       "count                7032.000000                7032.000000  7.032000e+03   \n",
       "mean                    0.118316                   0.200085 -1.214741e-16   \n",
       "std                     0.323005                   0.400092  1.000071e+00   \n",
       "min                     0.000000                   0.000000 -1.280248e+00   \n",
       "25%                     0.000000                   0.000000 -9.542963e-01   \n",
       "50%                     0.000000                   0.000000 -1.394171e-01   \n",
       "75%                     0.000000                   0.000000  9.199259e-01   \n",
       "max                     1.000000                   1.000000  1.612573e+00   \n",
       "\n",
       "       MonthlyCharges  TotalCharges  \n",
       "count    7.032000e+03  7.032000e+03  \n",
       "mean     9.652878e-17 -1.172113e-16  \n",
       "std      1.000071e+00  1.000071e+00  \n",
       "min     -1.547283e+00 -9.990692e-01  \n",
       "25%     -9.709769e-01 -8.302488e-01  \n",
       "50%      1.845440e-01 -3.908151e-01  \n",
       "75%      8.331482e-01  6.668271e-01  \n",
       "max      1.793381e+00  2.824261e+00  \n",
       "\n",
       "[8 rows x 34 columns]"
      ]
     },
     "execution_count": 112,
     "metadata": {},
     "output_type": "execute_result"
    }
   ],
   "source": [
    "# Explore the data\n",
    "data.describe()"
   ]
  },
  {
   "cell_type": "code",
   "execution_count": 113,
   "metadata": {},
   "outputs": [],
   "source": [
    "# Drop the customerID column\n",
    "data.drop(labels=['customerID'], axis = 1, inplace=True)"
   ]
  },
  {
   "cell_type": "markdown",
   "metadata": {},
   "source": [
    "# Change the Data types to Categorical\n",
    "# Print the unique entries in the features\n",
    "column_ex = ['MonthlyCharges', 'CustomerID', 'Tenure', 'TotalCharges']\n",
    "for name in data.columns:\n",
    "    if name not in column_ex:\n",
    "        data[name] = data[name].astype('category').cat.codes"
   ]
  },
  {
   "cell_type": "code",
   "execution_count": 114,
   "metadata": {},
   "outputs": [
    {
     "data": {
      "text/html": [
       "<div>\n",
       "<style scoped>\n",
       "    .dataframe tbody tr th:only-of-type {\n",
       "        vertical-align: middle;\n",
       "    }\n",
       "\n",
       "    .dataframe tbody tr th {\n",
       "        vertical-align: top;\n",
       "    }\n",
       "\n",
       "    .dataframe thead th {\n",
       "        text-align: right;\n",
       "    }\n",
       "</style>\n",
       "<table border=\"1\" class=\"dataframe\">\n",
       "  <thead>\n",
       "    <tr style=\"text-align: right;\">\n",
       "      <th></th>\n",
       "      <th>gender</th>\n",
       "      <th>SeniorCitizen</th>\n",
       "      <th>Partner</th>\n",
       "      <th>Dependents</th>\n",
       "      <th>PhoneService</th>\n",
       "      <th>OnlineSecurity</th>\n",
       "      <th>OnlineBackup</th>\n",
       "      <th>DeviceProtection</th>\n",
       "      <th>TechSupport</th>\n",
       "      <th>StreamingTV</th>\n",
       "      <th>...</th>\n",
       "      <th>PaymentMethod_Electronic check</th>\n",
       "      <th>PaymentMethod_Mailed check</th>\n",
       "      <th>tenure_group_Tenure_0-12</th>\n",
       "      <th>tenure_group_Tenure_12-24</th>\n",
       "      <th>tenure_group_Tenure_24-48</th>\n",
       "      <th>tenure_group_Tenure_48-60</th>\n",
       "      <th>tenure_group_Tenure_gt_60</th>\n",
       "      <th>tenure</th>\n",
       "      <th>MonthlyCharges</th>\n",
       "      <th>TotalCharges</th>\n",
       "    </tr>\n",
       "  </thead>\n",
       "  <tbody>\n",
       "    <tr>\n",
       "      <td>0</td>\n",
       "      <td>0</td>\n",
       "      <td>0</td>\n",
       "      <td>1</td>\n",
       "      <td>0</td>\n",
       "      <td>0</td>\n",
       "      <td>0</td>\n",
       "      <td>1</td>\n",
       "      <td>0</td>\n",
       "      <td>0</td>\n",
       "      <td>0</td>\n",
       "      <td>...</td>\n",
       "      <td>1</td>\n",
       "      <td>0</td>\n",
       "      <td>1</td>\n",
       "      <td>0</td>\n",
       "      <td>0</td>\n",
       "      <td>0</td>\n",
       "      <td>0</td>\n",
       "      <td>-1.280248</td>\n",
       "      <td>-1.161694</td>\n",
       "      <td>-0.994194</td>\n",
       "    </tr>\n",
       "    <tr>\n",
       "      <td>1</td>\n",
       "      <td>1</td>\n",
       "      <td>0</td>\n",
       "      <td>0</td>\n",
       "      <td>0</td>\n",
       "      <td>1</td>\n",
       "      <td>1</td>\n",
       "      <td>0</td>\n",
       "      <td>1</td>\n",
       "      <td>0</td>\n",
       "      <td>0</td>\n",
       "      <td>...</td>\n",
       "      <td>0</td>\n",
       "      <td>1</td>\n",
       "      <td>0</td>\n",
       "      <td>0</td>\n",
       "      <td>1</td>\n",
       "      <td>0</td>\n",
       "      <td>0</td>\n",
       "      <td>0.064303</td>\n",
       "      <td>-0.260878</td>\n",
       "      <td>-0.173740</td>\n",
       "    </tr>\n",
       "    <tr>\n",
       "      <td>2</td>\n",
       "      <td>1</td>\n",
       "      <td>0</td>\n",
       "      <td>0</td>\n",
       "      <td>0</td>\n",
       "      <td>1</td>\n",
       "      <td>1</td>\n",
       "      <td>1</td>\n",
       "      <td>0</td>\n",
       "      <td>0</td>\n",
       "      <td>0</td>\n",
       "      <td>...</td>\n",
       "      <td>0</td>\n",
       "      <td>1</td>\n",
       "      <td>1</td>\n",
       "      <td>0</td>\n",
       "      <td>0</td>\n",
       "      <td>0</td>\n",
       "      <td>0</td>\n",
       "      <td>-1.239504</td>\n",
       "      <td>-0.363923</td>\n",
       "      <td>-0.959649</td>\n",
       "    </tr>\n",
       "    <tr>\n",
       "      <td>3</td>\n",
       "      <td>1</td>\n",
       "      <td>0</td>\n",
       "      <td>0</td>\n",
       "      <td>0</td>\n",
       "      <td>0</td>\n",
       "      <td>1</td>\n",
       "      <td>0</td>\n",
       "      <td>1</td>\n",
       "      <td>1</td>\n",
       "      <td>0</td>\n",
       "      <td>...</td>\n",
       "      <td>0</td>\n",
       "      <td>0</td>\n",
       "      <td>0</td>\n",
       "      <td>0</td>\n",
       "      <td>1</td>\n",
       "      <td>0</td>\n",
       "      <td>0</td>\n",
       "      <td>0.512486</td>\n",
       "      <td>-0.747850</td>\n",
       "      <td>-0.195248</td>\n",
       "    </tr>\n",
       "    <tr>\n",
       "      <td>4</td>\n",
       "      <td>0</td>\n",
       "      <td>0</td>\n",
       "      <td>0</td>\n",
       "      <td>0</td>\n",
       "      <td>1</td>\n",
       "      <td>0</td>\n",
       "      <td>0</td>\n",
       "      <td>0</td>\n",
       "      <td>0</td>\n",
       "      <td>0</td>\n",
       "      <td>...</td>\n",
       "      <td>1</td>\n",
       "      <td>0</td>\n",
       "      <td>1</td>\n",
       "      <td>0</td>\n",
       "      <td>0</td>\n",
       "      <td>0</td>\n",
       "      <td>0</td>\n",
       "      <td>-1.239504</td>\n",
       "      <td>0.196178</td>\n",
       "      <td>-0.940457</td>\n",
       "    </tr>\n",
       "  </tbody>\n",
       "</table>\n",
       "<p>5 rows × 34 columns</p>\n",
       "</div>"
      ],
      "text/plain": [
       "   gender  SeniorCitizen  Partner  Dependents  PhoneService  OnlineSecurity  \\\n",
       "0       0              0        1           0             0               0   \n",
       "1       1              0        0           0             1               1   \n",
       "2       1              0        0           0             1               1   \n",
       "3       1              0        0           0             0               1   \n",
       "4       0              0        0           0             1               0   \n",
       "\n",
       "   OnlineBackup  DeviceProtection  TechSupport  StreamingTV  ...  \\\n",
       "0             1                 0            0            0  ...   \n",
       "1             0                 1            0            0  ...   \n",
       "2             1                 0            0            0  ...   \n",
       "3             0                 1            1            0  ...   \n",
       "4             0                 0            0            0  ...   \n",
       "\n",
       "   PaymentMethod_Electronic check  PaymentMethod_Mailed check  \\\n",
       "0                               1                           0   \n",
       "1                               0                           1   \n",
       "2                               0                           1   \n",
       "3                               0                           0   \n",
       "4                               1                           0   \n",
       "\n",
       "   tenure_group_Tenure_0-12  tenure_group_Tenure_12-24  \\\n",
       "0                         1                          0   \n",
       "1                         0                          0   \n",
       "2                         1                          0   \n",
       "3                         0                          0   \n",
       "4                         1                          0   \n",
       "\n",
       "   tenure_group_Tenure_24-48  tenure_group_Tenure_48-60  \\\n",
       "0                          0                          0   \n",
       "1                          1                          0   \n",
       "2                          0                          0   \n",
       "3                          1                          0   \n",
       "4                          0                          0   \n",
       "\n",
       "   tenure_group_Tenure_gt_60    tenure  MonthlyCharges  TotalCharges  \n",
       "0                          0 -1.280248       -1.161694     -0.994194  \n",
       "1                          0  0.064303       -0.260878     -0.173740  \n",
       "2                          0 -1.239504       -0.363923     -0.959649  \n",
       "3                          0  0.512486       -0.747850     -0.195248  \n",
       "4                          0 -1.239504        0.196178     -0.940457  \n",
       "\n",
       "[5 rows x 34 columns]"
      ]
     },
     "execution_count": 114,
     "metadata": {},
     "output_type": "execute_result"
    }
   ],
   "source": [
    "data.head()"
   ]
  },
  {
   "cell_type": "code",
   "execution_count": 115,
   "metadata": {},
   "outputs": [
    {
     "data": {
      "text/plain": [
       "34"
      ]
     },
     "execution_count": 115,
     "metadata": {},
     "output_type": "execute_result"
    }
   ],
   "source": [
    "data.shape[1]\n",
    "#data.drop(labels=['CustomerID'], axis = 1, inplace = True)"
   ]
  },
  {
   "cell_type": "markdown",
   "metadata": {},
   "source": [
    "<div class=\"alert alert-block alert-info\">\n",
    "   \n",
    "## SECTION 4: Performing Feature Selection\n",
    "\n",
    "<a id=\"section_4\"></a>"
   ]
  },
  {
   "cell_type": "markdown",
   "metadata": {},
   "source": [
    "We will be performing feature selection using a tree-based selection method that performs best on classification tasks"
   ]
  },
  {
   "cell_type": "code",
   "execution_count": 116,
   "metadata": {},
   "outputs": [],
   "source": [
    "# Import RandomForestClassifier and train_test_split from sklearn\n",
    "from sklearn.ensemble import RandomForestClassifier\n",
    "from sklearn.model_selection import train_test_split\n",
    "import statsmodels.api as sm\n",
    "from sklearn.linear_model import LogisticRegression\n",
    "from sklearn.metrics import confusion_matrix,accuracy_score,classification_report\n",
    "from sklearn.metrics import roc_auc_score,roc_curve,scorer\n",
    "from sklearn.metrics import precision_score,recall_score\n",
    "from sklearn.metrics import f1_score\n",
    "from yellowbrick.classifier import DiscriminationThreshold"
   ]
  },
  {
   "cell_type": "code",
   "execution_count": 117,
   "metadata": {},
   "outputs": [],
   "source": [
    "# make labels\n",
    "labels = data['Churn']"
   ]
  },
  {
   "cell_type": "code",
   "execution_count": 118,
   "metadata": {},
   "outputs": [],
   "source": [
    "# make train data\n",
    "data.drop(labels=['Churn'], axis = 1, inplace=True)"
   ]
  },
  {
   "cell_type": "code",
   "execution_count": 120,
   "metadata": {},
   "outputs": [
    {
     "data": {
      "text/plain": [
       "0    0\n",
       "1    0\n",
       "2    1\n",
       "3    0\n",
       "4    1\n",
       "Name: Churn, dtype: int32"
      ]
     },
     "execution_count": 120,
     "metadata": {},
     "output_type": "execute_result"
    }
   ],
   "source": [
    "labels.head()"
   ]
  },
  {
   "cell_type": "code",
   "execution_count": 122,
   "metadata": {},
   "outputs": [
    {
     "data": {
      "text/plain": [
       "Index(['gender', 'SeniorCitizen', 'Partner', 'Dependents', 'PhoneService',\n",
       "       'OnlineSecurity', 'OnlineBackup', 'DeviceProtection', 'TechSupport',\n",
       "       'StreamingTV', 'StreamingMovies', 'PaperlessBilling',\n",
       "       'MultipleLines_No', 'MultipleLines_No phone service',\n",
       "       'MultipleLines_Yes', 'InternetService_DSL',\n",
       "       'InternetService_Fiber optic', 'InternetService_No',\n",
       "       'Contract_Month-to-month', 'Contract_One year', 'Contract_Two year',\n",
       "       'PaymentMethod_Bank transfer (automatic)',\n",
       "       'PaymentMethod_Credit card (automatic)',\n",
       "       'PaymentMethod_Electronic check', 'PaymentMethod_Mailed check',\n",
       "       'tenure_group_Tenure_0-12', 'tenure_group_Tenure_12-24',\n",
       "       'tenure_group_Tenure_24-48', 'tenure_group_Tenure_48-60',\n",
       "       'tenure_group_Tenure_gt_60', 'tenure', 'MonthlyCharges',\n",
       "       'TotalCharges'],\n",
       "      dtype='object')"
      ]
     },
     "execution_count": 122,
     "metadata": {},
     "output_type": "execute_result"
    }
   ],
   "source": [
    "data.columns"
   ]
  },
  {
   "cell_type": "code",
   "execution_count": 124,
   "metadata": {},
   "outputs": [],
   "source": [
    "X_train, X_test, y_train, y_test = train_test_split(data, labels, test_size = 0.15, random_state=123, stratify=labels)"
   ]
  },
  {
   "cell_type": "code",
   "execution_count": 125,
   "metadata": {},
   "outputs": [
    {
     "data": {
      "text/plain": [
       "RandomForestClassifier(bootstrap=True, class_weight=None, criterion='gini',\n",
       "                       max_depth=None, max_features='auto', max_leaf_nodes=None,\n",
       "                       min_impurity_decrease=0.0, min_impurity_split=None,\n",
       "                       min_samples_leaf=1, min_samples_split=2,\n",
       "                       min_weight_fraction_leaf=0.0, n_estimators=500,\n",
       "                       n_jobs=None, oob_score=False, random_state=1, verbose=0,\n",
       "                       warm_start=False)"
      ]
     },
     "execution_count": 125,
     "metadata": {},
     "output_type": "execute_result"
    }
   ],
   "source": [
    "# Fit the model using Random Forest classifier for feature Selection\n",
    "forest = RandomForestClassifier(n_estimators=500, random_state = 1)\n",
    "forest.fit(X_train, y_train)"
   ]
  },
  {
   "cell_type": "code",
   "execution_count": 126,
   "metadata": {},
   "outputs": [],
   "source": [
    "# Call the Random Forest Feature_importances_ attribute to find important features\n",
    "# and store it in variable named importances\n",
    "importances = forest.feature_importances_"
   ]
  },
  {
   "cell_type": "code",
   "execution_count": 127,
   "metadata": {},
   "outputs": [],
   "source": [
    "# Create variable features to store all the columns except the target Churn\n",
    "features = data.columns\n",
    "indices = np.argsort(importances)[::-1]"
   ]
  },
  {
   "cell_type": "code",
   "execution_count": 128,
   "metadata": {},
   "outputs": [
    {
     "data": {
      "text/plain": [
       "<function matplotlib.pyplot.show(*args, **kw)>"
      ]
     },
     "execution_count": 128,
     "metadata": {},
     "output_type": "execute_result"
    },
    {
     "data": {
      "image/png": "[encoded data removed]",
      "text/plain": [
       "<Figure size 1080x288 with 1 Axes>"
      ]
     },
     "metadata": {},
     "output_type": "display_data"
    }
   ],
   "source": [
    "plt.figure(figsize=(15,4))\n",
    "plt.title(\"Feature Importances using Random Forest\")\n",
    "plt.bar(range(X_train.shape[1]), importances[indices],\n",
    "       color=\"r\", align=\"center\")\n",
    "plt.xticks(range(X_train.shape[1]), features[indices],\n",
    "          rotation='vertical', fontsize=15)\n",
    "plt.xlim([-1, X_train.shape[1]])\n",
    "plt.show"
   ]
  },
  {
   "cell_type": "markdown",
   "metadata": {},
   "source": [
    "From the figure above, we are going to pick the first seven most important features from the tree-based feature selection: **TotalCharges, MonthlyCharges, Tenure, Contract, PaymentMethod, OnlineSecurity, TechSupport**"
   ]
  },
  {
   "cell_type": "code",
   "execution_count": 135,
   "metadata": {},
   "outputs": [],
   "source": [
    "features = ['TotalCharges', 'MonthlyCharges', 'tenure', 'Contract_Month-to-month', \n",
    "            'InternetService_Fiber optic', 'PaymentMethod_Electronic check', 'gender', \n",
    "            'PaperlessBilling', 'tenure_group_Tenure_0-12', 'Partner', 'OnlineBackup', \n",
    "            'SeniorCitizen', 'OnlineSecurity', 'TechSupport', 'Contract_Two year', \n",
    "            'Dependents', 'DeviceProtection', 'StreamingMovies']"
   ]
  },
  {
   "cell_type": "markdown",
   "metadata": {},
   "source": [
    "<div class=\"alert alert-block alert-info\">\n",
    "   \n",
    "## SECTION 5: Model Building\n",
    "\n",
    "<a id=\"section_5\"></a>"
   ]
  },
  {
   "cell_type": "markdown",
   "metadata": {},
   "source": [
    "We are going to try out different kind of algorithm to build the prediction model. We will be using **Logistic Regression** as the base model "
   ]
  },
  {
   "cell_type": "markdown",
   "metadata": {},
   "source": [
    "### Using the statsmodel\n",
    "****"
   ]
  },
  {
   "cell_type": "code",
   "execution_count": 136,
   "metadata": {},
   "outputs": [],
   "source": [
    "# Import statsmodel\n",
    "import statsmodels.api as sm"
   ]
  },
  {
   "cell_type": "code",
   "execution_count": 137,
   "metadata": {},
   "outputs": [],
   "source": [
    "top18_features = ['TotalCharges', 'MonthlyCharges', 'tenure', 'Contract_Month-to-month', \n",
    "            'InternetService_Fiber optic', 'PaymentMethod_Electronic check', 'gender', \n",
    "            'PaperlessBilling', 'tenure_group_Tenure_0-12', 'Partner', 'OnlineBackup', \n",
    "            'SeniorCitizen', 'OnlineSecurity', 'TechSupport', 'Contract_Two year', \n",
    "            'Dependents', 'DeviceProtection', 'StreamingMovies']"
   ]
  },
  {
   "cell_type": "code",
   "execution_count": 138,
   "metadata": {},
   "outputs": [
    {
     "name": "stdout",
     "output_type": "stream",
     "text": [
      "Optimization terminated successfully.\n",
      "         Current function value: 0.430096\n",
      "         Iterations 8\n"
     ]
    }
   ],
   "source": [
    "logReg = sm.Logit(y_train.astype(float), X_train[top18_features].astype(float))\n",
    "logistic_regression = logReg.fit()"
   ]
  },
  {
   "cell_type": "code",
   "execution_count": 139,
   "metadata": {},
   "outputs": [
    {
     "data": {
      "text/plain": [
       "TotalCharges                      0.342775\n",
       "MonthlyCharges                    1.548142\n",
       "tenure                           -0.900304\n",
       "Contract_Month-to-month           0.198131\n",
       "InternetService_Fiber optic      -1.037712\n",
       "PaymentMethod_Electronic check    0.297577\n",
       "gender                           -0.205589\n",
       "PaperlessBilling                  0.132647\n",
       "tenure_group_Tenure_0-12          0.260046\n",
       "Partner                          -0.141849\n",
       "OnlineBackup                     -0.520370\n",
       "SeniorCitizen                     0.214335\n",
       "OnlineSecurity                   -0.846787\n",
       "TechSupport                      -0.852436\n",
       "Contract_Two year                -1.172605\n",
       "Dependents                       -0.285073\n",
       "DeviceProtection                 -0.458377\n",
       "StreamingMovies                  -0.351710\n",
       "dtype: float64"
      ]
     },
     "execution_count": 139,
     "metadata": {},
     "output_type": "execute_result"
    }
   ],
   "source": [
    "# Obtain the Summary and the Parameters\n",
    "logistic_regression.summary\n",
    "logistic_regression.params"
   ]
  },
  {
   "cell_type": "code",
   "execution_count": 141,
   "metadata": {},
   "outputs": [
    {
     "data": {
      "text/plain": [
       "TotalCharges                      0.342775\n",
       "MonthlyCharges                    1.548142\n",
       "tenure                           -0.900304\n",
       "Contract_Month-to-month           0.198131\n",
       "InternetService_Fiber optic      -1.037712\n",
       "PaymentMethod_Electronic check    0.297577\n",
       "gender                           -0.205589\n",
       "PaperlessBilling                  0.132647\n",
       "tenure_group_Tenure_0-12          0.260046\n",
       "Partner                          -0.141849\n",
       "OnlineBackup                     -0.520370\n",
       "SeniorCitizen                     0.214335\n",
       "OnlineSecurity                   -0.846787\n",
       "TechSupport                      -0.852436\n",
       "Contract_Two year                -1.172605\n",
       "Dependents                       -0.285073\n",
       "DeviceProtection                 -0.458377\n",
       "StreamingMovies                  -0.351710\n",
       "dtype: float64"
      ]
     },
     "execution_count": 141,
     "metadata": {},
     "output_type": "execute_result"
    }
   ],
   "source": [
    "coef = logistic_regression.params\n",
    "coef"
   ]
  },
  {
   "cell_type": "code",
   "execution_count": 147,
   "metadata": {},
   "outputs": [],
   "source": [
    "# Create a function to compute the coefficient\n",
    "coef = logistic_regression.params\n",
    "def pred(coef, TotalCharges, MonthlyCharges, Tenure, Contract_Month, InternetService_Fiber,\n",
    "         PaymentMethod_Electronic, gender, PaperlessBilling, tenure_group_Tenure_0, \n",
    "         Partner, OnlineBackup, SeniorCitizen, OnlineSecurity, TechSupport, Contract_Two, Dependents,\n",
    "        DeviceProtection, StreamingMovies):\n",
    "    return coef[0]*TotalCharges + coef[1]*MonthlyCharges + coef[2]*Tenure + coef[3]*Contract_Month \n",
    "    + coef[4]*InternetService_Fiber + coef[5]*PaymentMethod_Electronic + coef[6]*gender + coef[7]*PaperlessBilling\n",
    "    + coef[8]*tenure_group_Tenure_0 + coef[9]*Partner + coef[10]*OnlineBackup + coef[11]*SeniorCitizen \n",
    "    + coef[12]*OnlineSecurity + coef[13]*TechSupport + coef[14]*Contract_Two + coef[15]*Dependents + coef[16]*DeviceProtection \n",
    "    + coef[17]*StreamingMovies"
   ]
  },
  {
   "cell_type": "code",
   "execution_count": 148,
   "metadata": {},
   "outputs": [],
   "source": [
    "# Example: Calculate the chance of a customer churning by inputing the following values\n",
    "# TotalCharges: 2000, MonthlyCharges: 56.32, Tenure: 34, Contract: 2, PaymentMethod: 2, OnlineSecurity: 1, TechSupport: 2"
   ]
  },
  {
   "cell_type": "code",
   "execution_count": 72,
   "metadata": {},
   "outputs": [],
   "source": [
    "import numpy as np\n",
    "output = pred(coef, 2000, 56.32, 34, 2, 2, 1, 2)\n",
    "probability = np.exp(output) / (1 + np.exp(output))"
   ]
  },
  {
   "cell_type": "code",
   "execution_count": 73,
   "metadata": {},
   "outputs": [
    {
     "data": {
      "text/plain": [
       "0.07701400670535927"
      ]
     },
     "execution_count": 73,
     "metadata": {},
     "output_type": "execute_result"
    }
   ],
   "source": [
    "probability"
   ]
  },
  {
   "cell_type": "markdown",
   "metadata": {},
   "source": [
    "The probability is approximately 0.077, which implies that a customer with a total charges of 2000 dollars, a monthly charge of 56.32 dollars with a tenure of 34, contract term of 2 years, pays by mailing check and has no online security with no tech support has a **7.7 percent chance of churning** "
   ]
  },
  {
   "cell_type": "markdown",
   "metadata": {},
   "source": [
    "### Using Scikit-Learn's LogisticRegression model\n",
    "------------------"
   ]
  },
  {
   "cell_type": "markdown",
   "metadata": {},
   "source": [
    "We will implement scikit-learn's **LogisticRegression** to build our classifier and predict on the test datato find out the accuracy of our model"
   ]
  },
  {
   "cell_type": "code",
   "execution_count": 149,
   "metadata": {},
   "outputs": [],
   "source": [
    "# Import scikitlearn packages\n",
    "from sklearn.linear_model import LogisticRegression"
   ]
  },
  {
   "cell_type": "code",
   "execution_count": 150,
   "metadata": {},
   "outputs": [],
   "source": [
    "# Fit the model\n",
    "clf = LogisticRegression(random_state = 0, solver = 'lbfgs',).fit(X_train[top18_features], y_train)"
   ]
  },
  {
   "cell_type": "code",
   "execution_count": 152,
   "metadata": {},
   "outputs": [
    {
     "data": {
      "text/plain": [
       "array([[0.88281243, 0.11718757],\n",
       "       [0.96697902, 0.03302098],\n",
       "       [0.15532512, 0.84467488],\n",
       "       ...,\n",
       "       [0.64318243, 0.35681757],\n",
       "       [0.64313195, 0.35686805],\n",
       "       [0.99108687, 0.00891313]])"
      ]
     },
     "execution_count": 152,
     "metadata": {},
     "output_type": "execute_result"
    }
   ],
   "source": [
    "# Call Predict and predict_proba frunctions on the test data\n",
    "clf.predict(X_test[top18_features])\n",
    "clf.predict_proba(X_train[top18_features])"
   ]
  },
  {
   "cell_type": "code",
   "execution_count": 154,
   "metadata": {},
   "outputs": [
    {
     "data": {
      "text/plain": [
       "0.7876777251184834"
      ]
     },
     "execution_count": 154,
     "metadata": {},
     "output_type": "execute_result"
    }
   ],
   "source": [
    "# Calculate the accuracy of the model\n",
    "clf.score(X_test[top18_features], y_test)"
   ]
  },
  {
   "cell_type": "code",
   "execution_count": 155,
   "metadata": {},
   "outputs": [],
   "source": [
    "coef2 = clf.coef_"
   ]
  },
  {
   "cell_type": "code",
   "execution_count": 156,
   "metadata": {},
   "outputs": [
    {
     "data": {
      "text/plain": [
       "[array([ 0.24134253,  0.55728736, -0.77883202,  0.77327645,  0.30739003,\n",
       "         0.39543229, -0.03793157,  0.37847047,  0.49730446, -0.00741045,\n",
       "        -0.15517458,  0.27253229, -0.40979274, -0.39821147, -0.78328481,\n",
       "        -0.17097174, -0.07160968,  0.24707142])]"
      ]
     },
     "execution_count": 156,
     "metadata": {},
     "output_type": "execute_result"
    }
   ],
   "source": [
    "list(list(coef2))"
   ]
  },
  {
   "cell_type": "code",
   "execution_count": 157,
   "metadata": {},
   "outputs": [
    {
     "data": {
      "text/plain": [
       "array([[ 0.24134253,  0.55728736, -0.77883202,  0.77327645,  0.30739003,\n",
       "         0.39543229, -0.03793157,  0.37847047,  0.49730446, -0.00741045,\n",
       "        -0.15517458,  0.27253229, -0.40979274, -0.39821147, -0.78328481,\n",
       "        -0.17097174, -0.07160968,  0.24707142]])"
      ]
     },
     "execution_count": 157,
     "metadata": {},
     "output_type": "execute_result"
    }
   ],
   "source": [
    "coef2"
   ]
  },
  {
   "cell_type": "code",
   "execution_count": 160,
   "metadata": {},
   "outputs": [],
   "source": [
    "#Create Confusion Matrix for Evaluation\n",
    "from sklearn.metrics import confusion_matrix\n",
    "cm = confusion_matrix(y_test, clf.predict(X_test[top18_features]))"
   ]
  },
  {
   "cell_type": "code",
   "execution_count": 161,
   "metadata": {},
   "outputs": [
    {
     "data": {
      "text/plain": [
       "array([[690,  85],\n",
       "       [139, 141]], dtype=int64)"
      ]
     },
     "execution_count": 161,
     "metadata": {},
     "output_type": "execute_result"
    }
   ],
   "source": [
    "cm"
   ]
  },
  {
   "cell_type": "markdown",
   "metadata": {},
   "source": [
    "### Using Support Vector Machine (SVM)"
   ]
  },
  {
   "cell_type": "code",
   "execution_count": 162,
   "metadata": {},
   "outputs": [],
   "source": [
    "from sklearn import svm\n",
    "from sklearn.model_selection import cross_val_score"
   ]
  },
  {
   "cell_type": "code",
   "execution_count": 163,
   "metadata": {},
   "outputs": [
    {
     "data": {
      "text/plain": [
       "SVC(C=1, cache_size=200, class_weight=None, coef0=0.0,\n",
       "    decision_function_shape='ovr', degree=3, gamma='auto_deprecated',\n",
       "    kernel='linear', max_iter=-1, probability=False, random_state=None,\n",
       "    shrinking=True, tol=0.001, verbose=False)"
      ]
     },
     "execution_count": 163,
     "metadata": {},
     "output_type": "execute_result"
    }
   ],
   "source": [
    "# Fit a linear SVM with c = 1\n",
    "clf_svm = svm.SVC(kernel='linear', C = 1)\n",
    "clf_svm.fit(X_train[top18_features], y_train)"
   ]
  },
  {
   "cell_type": "code",
   "execution_count": 164,
   "metadata": {},
   "outputs": [
    {
     "data": {
      "text/plain": [
       "array([1, 0, 0, ..., 1, 0, 0])"
      ]
     },
     "execution_count": 164,
     "metadata": {},
     "output_type": "execute_result"
    }
   ],
   "source": [
    "# Predict on the test data\n",
    "clf_svm.predict(X_test[top18_features])"
   ]
  },
  {
   "cell_type": "code",
   "execution_count": 166,
   "metadata": {},
   "outputs": [
    {
     "data": {
      "text/plain": [
       "0.7886255924170616"
      ]
     },
     "execution_count": 166,
     "metadata": {},
     "output_type": "execute_result"
    }
   ],
   "source": [
    "# Calculate the accuracy score\n",
    "clf_svm.score(X_test[top18_features], y_test)"
   ]
  },
  {
   "cell_type": "code",
   "execution_count": 167,
   "metadata": {},
   "outputs": [
    {
     "data": {
      "text/plain": [
       "array([[697,  78],\n",
       "       [145, 135]], dtype=int64)"
      ]
     },
     "execution_count": 167,
     "metadata": {},
     "output_type": "execute_result"
    }
   ],
   "source": [
    "#Create Confusion Matrix for Evaluation\n",
    "from sklearn.metrics import confusion_matrix\n",
    "cm = confusion_matrix(y_test, clf_svm.predict(X_test[top18_features]))\n",
    "cm"
   ]
  },
  {
   "cell_type": "markdown",
   "metadata": {},
   "source": [
    "### Implementing a Decision Tree Algorithm over the Dataset"
   ]
  },
  {
   "cell_type": "code",
   "execution_count": 169,
   "metadata": {},
   "outputs": [],
   "source": [
    "import graphviz\n",
    "from sklearn import tree\n",
    "from sklearn.externals.six import StringIO\n",
    "from IPython.display import Image\n",
    "from sklearn.tree import export_graphviz\n",
    "import pydotplus"
   ]
  },
  {
   "cell_type": "code",
   "execution_count": 171,
   "metadata": {},
   "outputs": [],
   "source": [
    "# Decision tree classifier\n",
    "clf_tree = tree.DecisionTreeClassifier()\n",
    "clf_tree = clf_tree.fit(X_train[top18_features], y_train)"
   ]
  },
  {
   "cell_type": "code",
   "execution_count": 177,
   "metadata": {},
   "outputs": [
    {
     "ename": "InvocationException",
     "evalue": "GraphViz's executables not found",
     "output_type": "error",
     "traceback": [
      "\u001b[1;31m---------------------------------------------------------------------------\u001b[0m",
      "\u001b[1;31mInvocationException\u001b[0m                       Traceback (most recent call last)",
      "\u001b[1;32m<ipython-input-177-f13ea655301c>\u001b[0m in \u001b[0;36m<module>\u001b[1;34m\u001b[0m\n\u001b[0;32m      7\u001b[0m                feature_names = X_train[top18_features].columns.values)\n\u001b[0;32m      8\u001b[0m \u001b[0mgraph\u001b[0m \u001b[1;33m=\u001b[0m \u001b[0mpydotplus\u001b[0m\u001b[1;33m.\u001b[0m\u001b[0mgraph_from_dot_data\u001b[0m\u001b[1;33m(\u001b[0m\u001b[0mdot_data\u001b[0m\u001b[1;33m.\u001b[0m\u001b[0mgetvalue\u001b[0m\u001b[1;33m(\u001b[0m\u001b[1;33m)\u001b[0m\u001b[1;33m)\u001b[0m\u001b[1;33m\u001b[0m\u001b[1;33m\u001b[0m\u001b[0m\n\u001b[1;32m----> 9\u001b[1;33m \u001b[0mImage\u001b[0m\u001b[1;33m(\u001b[0m\u001b[0mgraph\u001b[0m\u001b[1;33m.\u001b[0m\u001b[0mcreate_png\u001b[0m\u001b[1;33m(\u001b[0m\u001b[1;33m)\u001b[0m\u001b[1;33m)\u001b[0m\u001b[1;33m\u001b[0m\u001b[1;33m\u001b[0m\u001b[0m\n\u001b[0m",
      "\u001b[1;32mC:\\ProgramData\\Anaconda3\\lib\\site-packages\\pydotplus\\graphviz.py\u001b[0m in \u001b[0;36m<lambda>\u001b[1;34m(f, prog)\u001b[0m\n\u001b[0;32m   1795\u001b[0m             self.__setattr__(\n\u001b[0;32m   1796\u001b[0m                 \u001b[1;34m'create_'\u001b[0m \u001b[1;33m+\u001b[0m \u001b[0mfrmt\u001b[0m\u001b[1;33m,\u001b[0m\u001b[1;33m\u001b[0m\u001b[1;33m\u001b[0m\u001b[0m\n\u001b[1;32m-> 1797\u001b[1;33m                 \u001b[1;32mlambda\u001b[0m \u001b[0mf\u001b[0m\u001b[1;33m=\u001b[0m\u001b[0mfrmt\u001b[0m\u001b[1;33m,\u001b[0m \u001b[0mprog\u001b[0m\u001b[1;33m=\u001b[0m\u001b[0mself\u001b[0m\u001b[1;33m.\u001b[0m\u001b[0mprog\u001b[0m\u001b[1;33m:\u001b[0m \u001b[0mself\u001b[0m\u001b[1;33m.\u001b[0m\u001b[0mcreate\u001b[0m\u001b[1;33m(\u001b[0m\u001b[0mformat\u001b[0m\u001b[1;33m=\u001b[0m\u001b[0mf\u001b[0m\u001b[1;33m,\u001b[0m \u001b[0mprog\u001b[0m\u001b[1;33m=\u001b[0m\u001b[0mprog\u001b[0m\u001b[1;33m)\u001b[0m\u001b[1;33m\u001b[0m\u001b[1;33m\u001b[0m\u001b[0m\n\u001b[0m\u001b[0;32m   1798\u001b[0m             )\n\u001b[0;32m   1799\u001b[0m             \u001b[0mf\u001b[0m \u001b[1;33m=\u001b[0m \u001b[0mself\u001b[0m\u001b[1;33m.\u001b[0m\u001b[0m__dict__\u001b[0m\u001b[1;33m[\u001b[0m\u001b[1;34m'create_'\u001b[0m \u001b[1;33m+\u001b[0m \u001b[0mfrmt\u001b[0m\u001b[1;33m]\u001b[0m\u001b[1;33m\u001b[0m\u001b[1;33m\u001b[0m\u001b[0m\n",
      "\u001b[1;32mC:\\ProgramData\\Anaconda3\\lib\\site-packages\\pydotplus\\graphviz.py\u001b[0m in \u001b[0;36mcreate\u001b[1;34m(self, prog, format)\u001b[0m\n\u001b[0;32m   1958\u001b[0m             \u001b[1;32mif\u001b[0m \u001b[0mself\u001b[0m\u001b[1;33m.\u001b[0m\u001b[0mprogs\u001b[0m \u001b[1;32mis\u001b[0m \u001b[1;32mNone\u001b[0m\u001b[1;33m:\u001b[0m\u001b[1;33m\u001b[0m\u001b[1;33m\u001b[0m\u001b[0m\n\u001b[0;32m   1959\u001b[0m                 raise InvocationException(\n\u001b[1;32m-> 1960\u001b[1;33m                     'GraphViz\\'s executables not found')\n\u001b[0m\u001b[0;32m   1961\u001b[0m \u001b[1;33m\u001b[0m\u001b[0m\n\u001b[0;32m   1962\u001b[0m         \u001b[1;32mif\u001b[0m \u001b[0mprog\u001b[0m \u001b[1;32mnot\u001b[0m \u001b[1;32min\u001b[0m \u001b[0mself\u001b[0m\u001b[1;33m.\u001b[0m\u001b[0mprogs\u001b[0m\u001b[1;33m:\u001b[0m\u001b[1;33m\u001b[0m\u001b[1;33m\u001b[0m\u001b[0m\n",
      "\u001b[1;31mInvocationException\u001b[0m: GraphViz's executables not found"
     ]
    }
   ],
   "source": [
    "# Plot the Decision tree using graph\n",
    "dot_data = StringIO()\n",
    "export_graphviz(clf_tree, out_file=dot_data,\n",
    "               filled=True, rounded=True,\n",
    "               class_names=['Churn', 'Not_Churn'], max_depth = 3,\n",
    "               special_characters = True, \n",
    "               feature_names = X_train[top18_features].columns.values)\n",
    "graph = pydotplus.graph_from_dot_data(dot_data.getvalue())\n",
    "Image(graph.create_png())"
   ]
  },
  {
   "cell_type": "code",
   "execution_count": 179,
   "metadata": {},
   "outputs": [
    {
     "data": {
      "text/plain": [
       "0.7109004739336493"
      ]
     },
     "execution_count": 179,
     "metadata": {},
     "output_type": "execute_result"
    }
   ],
   "source": [
    "#Calculate the accuracy score\n",
    "clf_tree.score(X_test[top18_features], y_test)"
   ]
  },
  {
   "cell_type": "markdown",
   "metadata": {},
   "source": [
    "The decision tree classifier scores an accuracy of around **75.78 percent**. which implies that the classifier is able to predict **75.78 percent** of the test data correctly"
   ]
  },
  {
   "cell_type": "markdown",
   "metadata": {},
   "source": [
    "### Implementing a Random Forest Model over the Dataset"
   ]
  },
  {
   "cell_type": "code",
   "execution_count": 180,
   "metadata": {},
   "outputs": [],
   "source": [
    "# Import random forest classifier\n",
    "from sklearn.ensemble import RandomForestClassifier"
   ]
  },
  {
   "cell_type": "code",
   "execution_count": 182,
   "metadata": {},
   "outputs": [
    {
     "data": {
      "text/plain": [
       "RandomForestClassifier(bootstrap=True, class_weight=None, criterion='gini',\n",
       "                       max_depth=None, max_features='auto', max_leaf_nodes=None,\n",
       "                       min_impurity_decrease=0.0, min_impurity_split=None,\n",
       "                       min_samples_leaf=1, min_samples_split=7,\n",
       "                       min_weight_fraction_leaf=0.0, n_estimators=20,\n",
       "                       n_jobs=None, oob_score=False, random_state=0, verbose=0,\n",
       "                       warm_start=False)"
      ]
     },
     "execution_count": 182,
     "metadata": {},
     "output_type": "execute_result"
    }
   ],
   "source": [
    "# Fit the classifier to the training data\n",
    "clf_random = RandomForestClassifier(n_estimators = 20, max_depth = None, min_samples_split = 7, random_state = 0)\n",
    "clf_random.fit(X_train[top18_features], y_train)"
   ]
  },
  {
   "cell_type": "code",
   "execution_count": 183,
   "metadata": {},
   "outputs": [
    {
     "data": {
      "text/plain": [
       "array([1, 0, 0, ..., 1, 0, 0])"
      ]
     },
     "execution_count": 183,
     "metadata": {},
     "output_type": "execute_result"
    }
   ],
   "source": [
    "# Predict on the test data\n",
    "clf_random.predict(X_test[top18_features])"
   ]
  },
  {
   "cell_type": "code",
   "execution_count": 184,
   "metadata": {},
   "outputs": [
    {
     "data": {
      "text/plain": [
       "0.7734597156398104"
      ]
     },
     "execution_count": 184,
     "metadata": {},
     "output_type": "execute_result"
    }
   ],
   "source": [
    "# Calculate the classifier accuracy score\n",
    "clf_random.score(X_test[top18_features], y_test)"
   ]
  },
  {
   "cell_type": "markdown",
   "metadata": {},
   "source": [
    "The classifier score an accuracy of 78.52 percent which implies that the classifier was able to predict 78.52 percent of the test data correctly"
   ]
  },
  {
   "cell_type": "markdown",
   "metadata": {},
   "source": [
    "**Create a table to compare the accuracy of all the different algoritm that we have applied:**"
   ]
  },
  {
   "cell_type": "code",
   "execution_count": 185,
   "metadata": {},
   "outputs": [],
   "source": [
    "Algorithm = ['Logistic Regression', 'SVM', 'Decision Tree', 'Random Forest']\n",
    "Accuracy = [0.790, 0.781, 0.758, 0.785]"
   ]
  },
  {
   "cell_type": "code",
   "execution_count": 186,
   "metadata": {},
   "outputs": [],
   "source": [
    "Comparison_Table = pd.DataFrame({'Algorithm':Algorithm, 'Accuracy':Accuracy})"
   ]
  },
  {
   "cell_type": "code",
   "execution_count": 187,
   "metadata": {},
   "outputs": [
    {
     "data": {
      "text/html": [
       "<div>\n",
       "<style scoped>\n",
       "    .dataframe tbody tr th:only-of-type {\n",
       "        vertical-align: middle;\n",
       "    }\n",
       "\n",
       "    .dataframe tbody tr th {\n",
       "        vertical-align: top;\n",
       "    }\n",
       "\n",
       "    .dataframe thead th {\n",
       "        text-align: right;\n",
       "    }\n",
       "</style>\n",
       "<table border=\"1\" class=\"dataframe\">\n",
       "  <thead>\n",
       "    <tr style=\"text-align: right;\">\n",
       "      <th></th>\n",
       "      <th>Algorithm</th>\n",
       "      <th>Accuracy</th>\n",
       "    </tr>\n",
       "  </thead>\n",
       "  <tbody>\n",
       "    <tr>\n",
       "      <td>0</td>\n",
       "      <td>Logistic Regression</td>\n",
       "      <td>0.790</td>\n",
       "    </tr>\n",
       "    <tr>\n",
       "      <td>1</td>\n",
       "      <td>SVM</td>\n",
       "      <td>0.781</td>\n",
       "    </tr>\n",
       "    <tr>\n",
       "      <td>2</td>\n",
       "      <td>Decision Tree</td>\n",
       "      <td>0.758</td>\n",
       "    </tr>\n",
       "    <tr>\n",
       "      <td>3</td>\n",
       "      <td>Random Forest</td>\n",
       "      <td>0.785</td>\n",
       "    </tr>\n",
       "  </tbody>\n",
       "</table>\n",
       "</div>"
      ],
      "text/plain": [
       "             Algorithm  Accuracy\n",
       "0  Logistic Regression     0.790\n",
       "1                  SVM     0.781\n",
       "2        Decision Tree     0.758\n",
       "3        Random Forest     0.785"
      ]
     },
     "execution_count": 187,
     "metadata": {},
     "output_type": "execute_result"
    }
   ],
   "source": [
    "Comparison_Table"
   ]
  },
  {
   "cell_type": "markdown",
   "metadata": {},
   "source": [
    "<div class=\"alert alert-block alert-info\">\n",
    "   \n",
    "## SECTION 6: PreProcessing the Dataset\n",
    "\n",
    "<a id=\"section_6\"></a>"
   ]
  },
  {
   "cell_type": "markdown",
   "metadata": {},
   "source": [
    "We are going to preprocess the dataset and see if this can improve the accuracy score for the different algorithm we have used.\n",
    "We are going to perform **Standardization, Scaling and Normalization**"
   ]
  },
  {
   "cell_type": "code",
   "execution_count": 188,
   "metadata": {},
   "outputs": [],
   "source": [
    "from sklearn import preprocessing as pp"
   ]
  },
  {
   "cell_type": "markdown",
   "metadata": {},
   "source": [
    "### Using Standardized Dataset"
   ]
  },
  {
   "cell_type": "code",
   "execution_count": 189,
   "metadata": {},
   "outputs": [],
   "source": [
    "# Fit the StandardScaler function on the X_train data\n",
    "scaler = pp.StandardScaler().fit(X_train[top18_features])"
   ]
  },
  {
   "cell_type": "code",
   "execution_count": 190,
   "metadata": {},
   "outputs": [
    {
     "data": {
      "text/plain": [
       "array([0.00605221, 0.00200215, 0.00530336, 0.5511126 , 0.44135854,\n",
       "       0.3341141 , 0.50175673, 0.59193575, 0.30717751, 0.48720094,\n",
       "       0.34599297, 0.16295801, 0.28425632, 0.29245441, 0.24042162,\n",
       "       0.29831019, 0.34515643, 0.39099883])"
      ]
     },
     "execution_count": 190,
     "metadata": {},
     "output_type": "execute_result"
    }
   ],
   "source": [
    "scaler.mean_"
   ]
  },
  {
   "cell_type": "code",
   "execution_count": 191,
   "metadata": {},
   "outputs": [
    {
     "data": {
      "text/plain": [
       "array([1.00315165, 0.99784156, 1.00142414, 0.49738064, 0.49654927,\n",
       "       0.47167984, 0.49999691, 0.49147514, 0.46132363, 0.49983616,\n",
       "       0.4756909 , 0.36932735, 0.45105949, 0.45488991, 0.42733952,\n",
       "       0.45751636, 0.47541926, 0.48797412])"
      ]
     },
     "execution_count": 191,
     "metadata": {},
     "output_type": "execute_result"
    }
   ],
   "source": [
    "scaler.scale_"
   ]
  },
  {
   "cell_type": "markdown",
   "metadata": {},
   "source": [
    "> This is the scaled value of the top seven important columns"
   ]
  },
  {
   "cell_type": "code",
   "execution_count": 193,
   "metadata": {},
   "outputs": [],
   "source": [
    "# Apply transform function to the X_train and X_test data\n",
    "X_train_scaler = scaler.transform(X_train[top18_features])\n",
    "X_test_scaler = scaler.transform(X_test[top18_features])"
   ]
  },
  {
   "cell_type": "code",
   "execution_count": 194,
   "metadata": {},
   "outputs": [
    {
     "data": {
      "text/plain": [
       "array([[-0.80781327, -1.51432731, -0.22588671, ..., -0.65202081,\n",
       "        -0.72600432, -0.8012696 ],\n",
       "       [ 1.26046261,  0.27121444,  1.44224007, ...,  1.53369337,\n",
       "         1.37740228, -0.8012696 ],\n",
       "       [-0.61513629,  1.01574538, -0.91754903, ..., -0.65202081,\n",
       "        -0.72600432,  1.2480194 ],\n",
       "       ...,\n",
       "       [-0.05122298,  0.48774469, -0.22588671, ...,  1.53369337,\n",
       "        -0.72600432, -0.8012696 ],\n",
       "       [-0.41841314,  0.50606648, -0.6327469 , ..., -0.65202081,\n",
       "         1.37740228, -0.8012696 ],\n",
       "       [-0.25810554, -1.33943749,  1.56429812, ..., -0.65202081,\n",
       "        -0.72600432, -0.8012696 ]])"
      ]
     },
     "execution_count": 194,
     "metadata": {},
     "output_type": "execute_result"
    }
   ],
   "source": [
    "# Check the output\n",
    "X_train_scaler"
   ]
  },
  {
   "cell_type": "code",
   "execution_count": 196,
   "metadata": {},
   "outputs": [],
   "source": [
    "# Convert to dataframe\n",
    "X_train_scaler = pd.DataFrame(X_train_scaler, columns = X_train[top18_features].columns)\n",
    "X_test_scaler = pd.DataFrame(X_test_scaler, columns = X_test[top18_features].columns)"
   ]
  },
  {
   "cell_type": "code",
   "execution_count": 197,
   "metadata": {},
   "outputs": [
    {
     "data": {
      "text/plain": [
       "0.7744075829383886"
      ]
     },
     "execution_count": 197,
     "metadata": {},
     "output_type": "execute_result"
    }
   ],
   "source": [
    "# Fit the model using Random Forest\n",
    "clf_random.fit(X_train_scaler, y_train)\n",
    "\n",
    "# Get the random forest accuracy score\n",
    "clf_random.score(X_test_scaler, y_test)"
   ]
  },
  {
   "cell_type": "code",
   "execution_count": 198,
   "metadata": {},
   "outputs": [
    {
     "data": {
      "text/plain": [
       "0.7241706161137441"
      ]
     },
     "execution_count": 198,
     "metadata": {},
     "output_type": "execute_result"
    }
   ],
   "source": [
    "# Fit the model using Decision Tree\n",
    "clf_tree = clf_tree.fit(X_train_scaler, y_train)\n",
    "\n",
    "# Get the Decision Tree accuracy score\n",
    "clf_tree.score(X_test_scaler, y_test)"
   ]
  },
  {
   "cell_type": "code",
   "execution_count": 199,
   "metadata": {},
   "outputs": [
    {
     "data": {
      "text/plain": [
       "array([[0.88258298, 0.11741702],\n",
       "       [0.96688107, 0.03311893],\n",
       "       [0.15471635, 0.84528365],\n",
       "       ...,\n",
       "       [0.64345813, 0.35654187],\n",
       "       [0.6440312 , 0.3559688 ],\n",
       "       [0.99113028, 0.00886972]])"
      ]
     },
     "execution_count": 199,
     "metadata": {},
     "output_type": "execute_result"
    }
   ],
   "source": [
    "# Fit using Logistic Regression\n",
    "clf = LogisticRegression(random_state = 0, solver = 'lbfgs',).fit(X_train_scaler, y_train)\n",
    "\n",
    "# Call Predict and predict_proba frunctions on the test data\n",
    "clf.predict(X_test_scaler)\n",
    "clf.predict_proba(X_train_scaler)"
   ]
  },
  {
   "cell_type": "code",
   "execution_count": 200,
   "metadata": {},
   "outputs": [
    {
     "data": {
      "text/plain": [
       "0.7876777251184834"
      ]
     },
     "execution_count": 200,
     "metadata": {},
     "output_type": "execute_result"
    }
   ],
   "source": [
    "# Calculate the accuracy of the model\n",
    "clf.score(X_test_scaler, y_test)"
   ]
  },
  {
   "cell_type": "markdown",
   "metadata": {},
   "source": [
    "### Performing Normalization on Dataset"
   ]
  },
  {
   "cell_type": "code",
   "execution_count": 201,
   "metadata": {},
   "outputs": [],
   "source": [
    "from sklearn import preprocessing"
   ]
  },
  {
   "cell_type": "code",
   "execution_count": 203,
   "metadata": {},
   "outputs": [],
   "source": [
    "# Fit the Normalizer() on the training dataset\n",
    "normalize = preprocessing.Normalizer().fit(X_train[top18_features])"
   ]
  },
  {
   "cell_type": "code",
   "execution_count": 204,
   "metadata": {},
   "outputs": [
    {
     "data": {
      "text/plain": [
       "Normalizer(copy=True, norm='l2')"
      ]
     },
     "execution_count": 204,
     "metadata": {},
     "output_type": "execute_result"
    }
   ],
   "source": [
    "# Check the normalize function if it is L2 or L1 Norm\n",
    "normalize"
   ]
  },
  {
   "cell_type": "markdown",
   "metadata": {},
   "source": [
    ">This is an L2 Normalization"
   ]
  },
  {
   "cell_type": "code",
   "execution_count": 205,
   "metadata": {},
   "outputs": [],
   "source": [
    "# Transform the Dataset\n",
    "X_train_normalize = normalize.transform(X_train[top18_features])\n",
    "X_test_normalize = normalize.transform(X_test[top18_features])"
   ]
  },
  {
   "cell_type": "code",
   "execution_count": 206,
   "metadata": {},
   "outputs": [],
   "source": [
    "# Convert to DataFrame\n",
    "X_train_normalize = pd.DataFrame(X_train_normalize, columns = X_train[top18_features].columns)\n",
    "X_test_normalize = pd.DataFrame(X_test_normalize, columns = X_train[top18_features].columns)"
   ]
  },
  {
   "cell_type": "code",
   "execution_count": 207,
   "metadata": {},
   "outputs": [
    {
     "data": {
      "text/plain": [
       "0.7696682464454976"
      ]
     },
     "execution_count": 207,
     "metadata": {},
     "output_type": "execute_result"
    }
   ],
   "source": [
    "# Fit the model using Random Forest\n",
    "clf_random.fit(X_train_normalize, y_train)\n",
    "\n",
    "# Get the random forest accuracy score\n",
    "clf_random.score(X_test_normalize, y_test)"
   ]
  },
  {
   "cell_type": "code",
   "execution_count": 208,
   "metadata": {},
   "outputs": [
    {
     "data": {
      "text/plain": [
       "0.7298578199052133"
      ]
     },
     "execution_count": 208,
     "metadata": {},
     "output_type": "execute_result"
    }
   ],
   "source": [
    "# Fit the model using Decision Tree\n",
    "clf_tree = clf_tree.fit(X_train_normalize, y_train)\n",
    "\n",
    "# Get the Decision Tree accuracy score\n",
    "clf_tree.score(X_test_normalize, y_test)"
   ]
  },
  {
   "cell_type": "code",
   "execution_count": 209,
   "metadata": {},
   "outputs": [
    {
     "data": {
      "text/plain": [
       "0.7241706161137441"
      ]
     },
     "execution_count": 209,
     "metadata": {},
     "output_type": "execute_result"
    }
   ],
   "source": [
    "# Fit using Logistic Regression\n",
    "clf = LogisticRegression(random_state = 0, solver = 'lbfgs',).fit(X_train_normalize, y_train)\n",
    "\n",
    "# Call Predict and predict_proba frunctions on the test data\n",
    "clf.predict(X_test_scaler)\n",
    "clf.predict_proba(X_train_scaler)\n",
    "\n",
    "# Calculate the accuracy of the model\n",
    "clf.score(X_test_scaler, y_test)"
   ]
  },
  {
   "cell_type": "markdown",
   "metadata": {},
   "source": [
    "## Implementing Stratified k-fold"
   ]
  },
  {
   "cell_type": "markdown",
   "metadata": {},
   "source": [
    "Because of Class Imbalance, we are going to use a **Staratified K Fold**"
   ]
  },
  {
   "cell_type": "markdown",
   "metadata": {},
   "source": [
    "We will fit the Staratified K-Fold of the Scikit-Learn on the Dataset"
   ]
  },
  {
   "cell_type": "code",
   "execution_count": 210,
   "metadata": {},
   "outputs": [],
   "source": [
    "# import StratifiedKFold from sklearn\n",
    "from sklearn.model_selection import StratifiedKFold"
   ]
  },
  {
   "cell_type": "code",
   "execution_count": 211,
   "metadata": {},
   "outputs": [],
   "source": [
    "# Fit the classifier on training and testing dataset\n",
    "skf = StratifiedKFold(n_splits=10, random_state = 1).split(X_train[top18_features].values, y_train.values)"
   ]
  },
  {
   "cell_type": "markdown",
   "metadata": {},
   "source": [
    "calculate the k-cross fold validation score using **for loop**:"
   ]
  },
  {
   "cell_type": "code",
   "execution_count": 212,
   "metadata": {},
   "outputs": [
    {
     "name": "stdout",
     "output_type": "stream",
     "text": [
      "K-Fold:  9, Class Ratio: [3950 1431], Accuracy: 0.8154\n"
     ]
    }
   ],
   "source": [
    "# calculate the k-cross fold validation score using for loop:\n",
    "results = []\n",
    "for i, (train, test) in enumerate(skf):\n",
    "    clf.fit(X_train[top18_features].values[train], y_train.values[train])\n",
    "    \n",
    "fit_result = clf.score(X_train[top18_features].values[test], y_train.values[test])\n",
    "results.append(fit_result)\n",
    "print('K-Fold: %2d, Class Ratio: %s, Accuracy: %.4f' % (i,np.bincount(y_train.values[train]),fit_result))\n",
    "    "
   ]
  },
  {
   "cell_type": "code",
   "execution_count": 213,
   "metadata": {},
   "outputs": [
    {
     "name": "stdout",
     "output_type": "stream",
     "text": [
      "accuracy for CV is:0.815\n"
     ]
    }
   ],
   "source": [
    "print('accuracy for CV is:%.3f' % np.mean(results))"
   ]
  },
  {
   "cell_type": "markdown",
   "metadata": {},
   "source": [
    "calculate the k-cross fold validation score using **cross_val_score** from sklearn:"
   ]
  },
  {
   "cell_type": "code",
   "execution_count": 214,
   "metadata": {},
   "outputs": [
    {
     "name": "stdout",
     "output_type": "stream",
     "text": [
      "accuracy for CV is:0.802\n"
     ]
    }
   ],
   "source": [
    "from sklearn.model_selection import cross_val_score\n",
    "\n",
    "# Fit the classifier and print accuracy\n",
    "results_cross_val_score = cross_val_score(estimator=clf, X=X_train[top18_features].values, y=y_train.values, cv=10, n_jobs=1)\n",
    "print('accuracy for CV is:%.3f' % np.mean(results_cross_val_score))"
   ]
  },
  {
   "cell_type": "code",
   "execution_count": 215,
   "metadata": {},
   "outputs": [],
   "source": [
    "# Fit the classifier on training and testing dataset\n",
    "skf = StratifiedKFold(n_splits=10, random_state = 1).split(X_train_normalize.values, y_train.values)"
   ]
  },
  {
   "cell_type": "code",
   "execution_count": 216,
   "metadata": {},
   "outputs": [
    {
     "name": "stdout",
     "output_type": "stream",
     "text": [
      "K-Fold:  9, Class Ratio: [3950 1431], Accuracy: 0.8087\n"
     ]
    }
   ],
   "source": [
    "# calculate the k-cross fold validation score:\n",
    "results = []\n",
    "for i, (train, test) in enumerate(skf):\n",
    "    clf.fit(X_train_normalize.values[train], y_train.values[train])\n",
    "    \n",
    "fit_result = clf.score(X_train_normalize.values[test], y_train.values[test])\n",
    "results.append(fit_result)\n",
    "print('K-Fold: %2d, Class Ratio: %s, Accuracy: %.4f' % (i,np.bincount(y_train.values[train]),fit_result))"
   ]
  },
  {
   "cell_type": "code",
   "execution_count": 217,
   "metadata": {},
   "outputs": [
    {
     "name": "stdout",
     "output_type": "stream",
     "text": [
      "K-Fold:  9, Class Ratio: [3950 1431], Accuracy: 0.8154\n"
     ]
    }
   ],
   "source": [
    "# Fit the classifier on training and testing dataset\n",
    "skf = StratifiedKFold(n_splits=10, random_state = 1).split(X_train_scaler.values, y_train.values)\n",
    "\n",
    "# calculate the k-cross fold validation score:\n",
    "results = []\n",
    "for i, (train, test) in enumerate(skf):\n",
    "    clf.fit(X_train_scaler.values[train], y_train.values[train])\n",
    "    \n",
    "fit_result = clf.score(X_train_scaler.values[test], y_train.values[test])\n",
    "results.append(fit_result)\n",
    "print('K-Fold: %2d, Class Ratio: %s, Accuracy: %.4f' % (i,np.bincount(y_train.values[train]),fit_result))"
   ]
  },
  {
   "cell_type": "code",
   "execution_count": 218,
   "metadata": {},
   "outputs": [
    {
     "name": "stdout",
     "output_type": "stream",
     "text": [
      "accuracy for CV is:0.815\n"
     ]
    }
   ],
   "source": [
    "print('accuracy for CV is:%.3f' % np.mean(results))"
   ]
  },
  {
   "cell_type": "markdown",
   "metadata": {},
   "source": [
    "<div class=\"alert alert-block alert-info\">\n",
    "   \n",
    "## SECTION 7: Fine-Tunning the Model\n",
    "\n",
    "<a id=\"section_7\"></a>\n"
   ]
  },
  {
   "cell_type": "markdown",
   "metadata": {},
   "source": [
    "We will implement a grid search to find out the best parameters for an **SVM** on the dataset"
   ]
  },
  {
   "cell_type": "code",
   "execution_count": 221,
   "metadata": {},
   "outputs": [],
   "source": [
    "from sklearn import svm\n",
    "from sklearn.model_selection import GridSearchCV\n",
    "from sklearn.model_selection import StratifiedKFold"
   ]
  },
  {
   "cell_type": "code",
   "execution_count": 222,
   "metadata": {},
   "outputs": [],
   "source": [
    "# specify the parameter for the grid search\n",
    "parameters = [{'kernel':['linear'], 'C':[0.1, 1, 10]}, {'kernel':['rbf'], 'gamma':[0.5, 1, 2], 'C':[0.1, 1, 10]}]"
   ]
  },
  {
   "cell_type": "code",
   "execution_count": 225,
   "metadata": {},
   "outputs": [
    {
     "data": {
      "text/plain": [
       "GridSearchCV(cv=StratifiedKFold(n_splits=10, random_state=None, shuffle=False),\n",
       "             error_score='raise-deprecating',\n",
       "             estimator=SVC(C=1.0, cache_size=200, class_weight=None, coef0=0.0,\n",
       "                           decision_function_shape='ovr', degree=3,\n",
       "                           gamma='auto_deprecated', kernel='rbf', max_iter=-1,\n",
       "                           probability=False, random_state=None, shrinking=True,\n",
       "                           tol=0.001, verbose=False),\n",
       "             iid='warn', n_jobs=None,\n",
       "             param_grid=[{'C': [0.1, 1, 10], 'kernel': ['linear']},\n",
       "                         {'C': [0.1, 1, 10], 'gamma': [0.5, 1, 2],\n",
       "                          'kernel': ['rbf']}],\n",
       "             pre_dispatch='2*n_jobs', refit=True, return_train_score=False,\n",
       "             scoring=None, verbose=0)"
      ]
     },
     "execution_count": 225,
     "metadata": {},
     "output_type": "execute_result"
    }
   ],
   "source": [
    "# Fit the grid search\n",
    "clf = GridSearchCV(svm.SVC(), parameters, cv = StratifiedKFold(n_splits = 10))\n",
    "clf.fit(X_train[top18_features], y_train)"
   ]
  },
  {
   "cell_type": "code",
   "execution_count": 226,
   "metadata": {},
   "outputs": [
    {
     "name": "stdout",
     "output_type": "stream",
     "text": [
      "Best score train: 0.7982265350510289\n",
      "Best parameters train:  {'C': 1, 'kernel': 'linear'}\n"
     ]
    }
   ],
   "source": [
    "# Print the best score and best parameter\n",
    "print('Best score train:', clf.best_score_)\n",
    "print('Best parameters train: ', clf.best_params_)"
   ]
  },
  {
   "cell_type": "code",
   "execution_count": 236,
   "metadata": {},
   "outputs": [
    {
     "name": "stdout",
     "output_type": "stream",
     "text": [
      "Unoptimized model\n",
      "------\n",
      "Accuracy score on testing data: 0.7962\n",
      "F-score on testing data: 0.6143\n",
      "\n",
      "Optimized Model\n",
      "------\n",
      "Final accuracy score on the testing data: 0.7972\n",
      "Final F-score on the testing data: 0.6164\n",
      "LogisticRegression(C=1.0, class_weight=None, dual=False, fit_intercept=True,\n",
      "                   intercept_scaling=1, l1_ratio=None, max_iter=100,\n",
      "                   multi_class='warn', n_jobs=None, penalty='l1',\n",
      "                   random_state=None, solver='warn', tol=0.0001, verbose=0,\n",
      "                   warm_start=False)\n"
     ]
    }
   ],
   "source": [
    "from sklearn.model_selection import learning_curve, GridSearchCV\n",
    "#from sklearn.grid_search import GridSearchCV\n",
    "from sklearn.metrics import make_scorer\n",
    "from sklearn.metrics import fbeta_score, accuracy_score\n",
    "from sklearn.linear_model  import LogisticRegression # Logistic Regression Classifier\n",
    "\n",
    "#Logistic Regression Classifier\n",
    "clf = LogisticRegression()\n",
    "\n",
    "#Hyperparameters\n",
    "parameters = {'C':np.logspace(0, 4, 10), \n",
    "              'penalty' : ['l1', 'l2']\n",
    "             }\n",
    "\n",
    "# Make an fbeta_score scoring object\n",
    "scorer = make_scorer(fbeta_score,beta=0.5)\n",
    "\n",
    "# Perform grid search on the classifier using 'scorer' as the scoring method\n",
    "grid_obj = GridSearchCV(clf, parameters,scorer)\n",
    "\n",
    "# Fit the grid search object to the training data and find the optimal parameters\n",
    "grid_fit = grid_obj.fit(X_train,y_train)\n",
    "# Get the estimator\n",
    "best_clf = grid_fit.best_estimator_\n",
    "\n",
    "# View best hyperparameters\n",
    "#print(grid_srchfit.best_params_)\n",
    "\n",
    "# Make predictions using the unoptimized and model\n",
    "predictions = (clf.fit(X_train, y_train)).predict(X_test)\n",
    "best_predictions = best_clf.predict(X_test)\n",
    "\n",
    "# Report the before-and-afterscores\n",
    "print (\"Unoptimized model\\n------\")\n",
    "print (\"Accuracy score on testing data: {:.4f}\".format(accuracy_score(y_test, predictions)))\n",
    "print (\"F-score on testing data: {:.4f}\".format(fbeta_score(y_test, predictions, beta = 0.5)))\n",
    "print (\"\\nOptimized Model\\n------\")\n",
    "print (\"Final accuracy score on the testing data: {:.4f}\".format(accuracy_score(y_test, best_predictions)))\n",
    "print (\"Final F-score on the testing data: {:.4f}\".format(fbeta_score(y_test, best_predictions, beta = 0.5)))\n",
    "print (best_clf)"
   ]
  },
  {
   "cell_type": "markdown",
   "metadata": {},
   "source": [
    "## Comparison of the Models"
   ]
  },
  {
   "cell_type": "code",
   "execution_count": 227,
   "metadata": {},
   "outputs": [],
   "source": [
    "# Import required Libraries\n",
    "from sklearn.metrics import classification_report, confusion_matrix, accuracy_score\n",
    "from sklearn import metrics"
   ]
  },
  {
   "cell_type": "code",
   "execution_count": 229,
   "metadata": {},
   "outputs": [
    {
     "data": {
      "text/plain": [
       "RandomForestClassifier(bootstrap=True, class_weight=None, criterion='gini',\n",
       "                       max_depth=7, max_features='auto', max_leaf_nodes=None,\n",
       "                       min_impurity_decrease=0.0, min_impurity_split=None,\n",
       "                       min_samples_leaf=1, min_samples_split=10,\n",
       "                       min_weight_fraction_leaf=0.0, n_estimators=100,\n",
       "                       n_jobs=None, oob_score=False, random_state=0, verbose=0,\n",
       "                       warm_start=False)"
      ]
     },
     "execution_count": 229,
     "metadata": {},
     "output_type": "execute_result"
    }
   ],
   "source": [
    "# Fit the random Forest\n",
    "clf_random_grid = RandomForestClassifier(n_estimators=100, max_depth=7, min_samples_split=10, random_state=0)\n",
    "clf_random_grid.fit(X_train[top18_features], y_train)"
   ]
  },
  {
   "cell_type": "code",
   "execution_count": 230,
   "metadata": {},
   "outputs": [],
   "source": [
    "# Predict on the test data\n",
    "y_pred = clf_random_grid.predict(X_test[top18_features])"
   ]
  },
  {
   "cell_type": "code",
   "execution_count": 231,
   "metadata": {},
   "outputs": [
    {
     "name": "stdout",
     "output_type": "stream",
     "text": [
      "              precision    recall  f1-score   support\n",
      "\n",
      "    No Churn       0.83      0.91      0.87       775\n",
      "       Churn       0.66      0.50      0.57       280\n",
      "\n",
      "    accuracy                           0.80      1055\n",
      "   macro avg       0.75      0.70      0.72      1055\n",
      "weighted avg       0.79      0.80      0.79      1055\n",
      "\n"
     ]
    }
   ],
   "source": [
    "# Fit the classification report\n",
    "target_names = ['No Churn', 'Churn']\n",
    "print(classification_report(y_test, y_pred, target_names=target_names))"
   ]
  },
  {
   "cell_type": "code",
   "execution_count": 232,
   "metadata": {},
   "outputs": [
    {
     "data": {
      "image/png": "[encoded data removed]",
      "text/plain": [
       "<Figure size 576x432 with 2 Axes>"
      ]
     },
     "metadata": {},
     "output_type": "display_data"
    }
   ],
   "source": [
    "# Plot the confusion matrix\n",
    "cm = confusion_matrix(y_test, y_pred)\n",
    "cm_df = pd.DataFrame(cm,\n",
    "                    index = target_names,\n",
    "                    columns = target_names)\n",
    "plt.figure(figsize=(8,6))\n",
    "sns.heatmap(cm_df, annot=True, fmt='g', cmap='Blues')\n",
    "plt.title('Random Forest \\nAccuracy:{0:.3f}'.format(accuracy_score(y_test, y_pred)))\n",
    "plt.ylabel('True Values')\n",
    "plt.xlabel('Predicted Values')\n",
    "plt.show()"
   ]
  },
  {
   "cell_type": "code",
   "execution_count": 233,
   "metadata": {},
   "outputs": [],
   "source": [
    "# Import the library for AUC and ROC curve\n",
    "from sklearn.metrics import roc_curve, auc"
   ]
  },
  {
   "cell_type": "code",
   "execution_count": 234,
   "metadata": {},
   "outputs": [],
   "source": [
    "# Create dictionary of the different classifiers created\n",
    "models = [\n",
    "    {\n",
    "        'label':'Logistic Regression',\n",
    "        'model': clf,\n",
    "    },\n",
    "    {\n",
    "        'label': 'Decision Tree',\n",
    "        'model': clf_tree,\n",
    "    },\n",
    "    {\n",
    "        'label': 'SVM',\n",
    "        'model': clf_svm,\n",
    "    },\n",
    "    {\n",
    "        'label':'Random Forest Grid Search',\n",
    "        'model': clf_random,\n",
    "    }\n",
    "    ]"
   ]
  },
  {
   "cell_type": "code",
   "execution_count": 235,
   "metadata": {},
   "outputs": [
    {
     "data": {
      "image/png": "[encoded data removed]",
      "text/plain": [
       "<Figure size 576x396 with 1 Axes>"
      ]
     },
     "metadata": {},
     "output_type": "display_data"
    }
   ],
   "source": [
    "# Plot the ROC Curve\n",
    "for m in models:\n",
    "    model = m['model']\n",
    "    model.fit(X_train[top18_features], y_train)\n",
    "    fpr, tpr, thresholds = roc_curve(y_test, y_pred, pos_label=1)\n",
    "    roc_auc = metrics.auc(fpr, tpr)\n",
    "    plt.plot(fpr, tpr, label='%s AUC = %0.2f' % (m['label'], roc_auc))\n",
    "\n",
    "plt.plot([0, 1], [0, 1], 'r--')\n",
    "plt.xlim([0.0, 1.0])\n",
    "plt.ylim([0.0, 1.05])\n",
    "plt.ylabel('Sensitivity(True Positive Rate)')\n",
    "plt.xlabel('1 - Specificity(False Positive Rate)')\n",
    "plt.title('Receiver Operating Characteristics')\n",
    "plt.legend(loc=\"lower right\")\n",
    "plt.show()"
   ]
  },
  {
   "cell_type": "code",
   "execution_count": null,
   "metadata": {},
   "outputs": [],
   "source": []
  }
 ],
 "metadata": {
  "kernelspec": {
   "display_name": "Python 3",
   "language": "python",
   "name": "python3"
  },
  "language_info": {
   "codemirror_mode": {
    "name": "ipython",
    "version": 3
   },
   "file_extension": ".py",
   "mimetype": "text/x-python",
   "name": "python",
   "nbconvert_exporter": "python",
   "pygments_lexer": "ipython3",
   "version": "3.7.4"
  }
 },
 "nbformat": 4,
 "nbformat_minor": 4
}
